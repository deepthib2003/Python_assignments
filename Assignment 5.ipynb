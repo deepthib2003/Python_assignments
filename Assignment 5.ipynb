{
 "cells": [
  {
   "cell_type": "markdown",
   "id": "7dcfab24-c204-462c-9a0f-4eed3285fef7",
   "metadata": {},
   "source": [
    "Day 5"
   ]
  },
  {
   "cell_type": "code",
   "execution_count": 1,
   "id": "4838acdf-6e50-4f96-b584-4e2c354fb146",
   "metadata": {},
   "outputs": [
    {
     "name": "stdout",
     "output_type": "stream",
     "text": [
      "1\n",
      "2\n",
      "3\n",
      "4\n",
      "5\n",
      "6\n",
      "7\n",
      "8\n",
      "9\n",
      "10\n",
      "11\n",
      "12\n",
      "13\n",
      "14\n",
      "15\n",
      "16\n",
      "17\n",
      "18\n",
      "19\n",
      "20\n"
     ]
    }
   ],
   "source": [
    "# Print numbers from 1 to 20 using while\n",
    "i = 1\n",
    "while i <= 20:\n",
    "    print(i)\n",
    "    i += 1"
   ]
  },
  {
   "cell_type": "code",
   "execution_count": 2,
   "id": "2f14db3e-c936-462e-9718-db2646f57476",
   "metadata": {},
   "outputs": [
    {
     "name": "stdout",
     "output_type": "stream",
     "text": [
      "10\n",
      "9\n",
      "8\n",
      "7\n",
      "6\n",
      "5\n",
      "4\n",
      "3\n",
      "2\n",
      "1\n"
     ]
    }
   ],
   "source": [
    "#Print numbers from 10 down to 1.\n",
    "i = 10\n",
    "while i >= 1:\n",
    "    print(i)\n",
    "    i -= 1"
   ]
  },
  {
   "cell_type": "code",
   "execution_count": 11,
   "id": "e96c4ef4-7c3f-4873-948a-fff85608921e",
   "metadata": {},
   "outputs": [
    {
     "name": "stdout",
     "output_type": "stream",
     "text": [
      "2\n",
      "4\n",
      "6\n",
      "8\n",
      "10\n",
      "12\n",
      "14\n",
      "16\n",
      "18\n",
      "20\n",
      "22\n",
      "24\n",
      "26\n",
      "28\n",
      "30\n"
     ]
    }
   ],
   "source": [
    "# Print even numbers between 1 and 30\n",
    "i = 1\n",
    "while i <= 30:\n",
    "    i += 1\n",
    "    if i % 2 == 0:\n",
    "        print(i)"
   ]
  },
  {
   "cell_type": "code",
   "execution_count": 13,
   "id": "44a6cf06-4f95-4016-8981-b9015e0aab4c",
   "metadata": {},
   "outputs": [
    {
     "name": "stdout",
     "output_type": "stream",
     "text": [
      "1\n",
      "3\n",
      "5\n",
      "7\n",
      "9\n",
      "11\n",
      "13\n",
      "15\n",
      "17\n",
      "19\n",
      "21\n",
      "23\n",
      "25\n",
      "27\n",
      "29\n",
      "31\n"
     ]
    }
   ],
   "source": [
    "# Print odd numbers between 1 and 30.\n",
    "i = 0\n",
    "while i <= 30:\n",
    "    i += 1\n",
    "    if i % 2 != 0:\n",
    "        print(i)"
   ]
  },
  {
   "cell_type": "code",
   "execution_count": 16,
   "id": "34a2bc81-0db2-4585-91a7-003da9d15310",
   "metadata": {},
   "outputs": [
    {
     "name": "stdin",
     "output_type": "stream",
     "text": [
      "Enter a number:  17\n"
     ]
    },
    {
     "name": "stdout",
     "output_type": "stream",
     "text": [
      "17 * 1 = 17\n",
      "17 * 2 = 34\n",
      "17 * 3 = 51\n",
      "17 * 4 = 68\n",
      "17 * 5 = 85\n",
      "17 * 6 = 102\n",
      "17 * 7 = 119\n",
      "17 * 8 = 136\n",
      "17 * 9 = 153\n",
      "17 * 10 = 170\n"
     ]
    }
   ],
   "source": [
    "#Print multiplication table of a number (input from user)\n",
    "n = int(input(\"Enter a number: \"))\n",
    "i = 1\n",
    "while i <= 10:\n",
    "    print(f\"{n} * {i} = {n*i}\")\n",
    "    i += 1"
   ]
  },
  {
   "cell_type": "code",
   "execution_count": 17,
   "id": "fac0b4b5-2eb2-4ccb-88b0-4d0ac5956220",
   "metadata": {},
   "outputs": [
    {
     "name": "stdout",
     "output_type": "stream",
     "text": [
      "Hello \n",
      "Hello \n",
      "Hello \n",
      "Hello \n",
      "Hello \n"
     ]
    }
   ],
   "source": [
    "# Print \"Hello\" 5 times using a loop.\n",
    "i = 1\n",
    "while i <= 5:\n",
    "    print(\"Hello \")\n",
    "    i += 1"
   ]
  },
  {
   "cell_type": "code",
   "execution_count": 20,
   "id": "22183256-79d8-4fd4-b9ca-8888333a610b",
   "metadata": {},
   "outputs": [
    {
     "name": "stdout",
     "output_type": "stream",
     "text": [
      "3\n",
      "6\n",
      "9\n",
      "12\n",
      "15\n",
      "18\n",
      "21\n",
      "24\n",
      "27\n",
      "30\n",
      "33\n",
      "36\n",
      "39\n",
      "42\n",
      "45\n",
      "48\n"
     ]
    }
   ],
   "source": [
    "# Print all multiples of 3 up to 50\n",
    "i = 3\n",
    "while i <= 50:\n",
    "    print(i)\n",
    "    i += 3"
   ]
  },
  {
   "cell_type": "code",
   "execution_count": 21,
   "id": "d4951ee6-09ba-4926-8e38-cdae5d7943c5",
   "metadata": {},
   "outputs": [
    {
     "name": "stdin",
     "output_type": "stream",
     "text": [
      "Enter a number:  20\n"
     ]
    },
    {
     "name": "stdout",
     "output_type": "stream",
     "text": [
      "210\n"
     ]
    }
   ],
   "source": [
    "#Print sum of first N numbers (input N).\n",
    "n = int(input(\"Enter a number: \"))\n",
    "tot = 0\n",
    "i = 1\n",
    "while i <= n:\n",
    "    tot += i\n",
    "    i += 1\n",
    "print(tot)"
   ]
  },
  {
   "cell_type": "code",
   "execution_count": 26,
   "id": "ef91ea99-9b10-43e7-89a4-be0ba3c0f170",
   "metadata": {},
   "outputs": [
    {
     "name": "stdin",
     "output_type": "stream",
     "text": [
      "Enter a number:  4\n"
     ]
    },
    {
     "name": "stdout",
     "output_type": "stream",
     "text": [
      "24\n"
     ]
    }
   ],
   "source": [
    "#Print multiplication of first N numbers (input N).\n",
    "n = int(input(\"Enter a number: \"))\n",
    "tot = 1\n",
    "i = 1\n",
    "while i <= n:\n",
    "    tot *= i\n",
    "    i += 1\n",
    "print(tot)"
   ]
  },
  {
   "cell_type": "code",
   "execution_count": 28,
   "id": "4d812960-1336-47f5-8890-04394b74c6d7",
   "metadata": {},
   "outputs": [
    {
     "name": "stdin",
     "output_type": "stream",
     "text": [
      "Enter a number:  6\n",
      "Enter a number:  18\n",
      "Enter a number:  10\n",
      "Enter a number:  56\n",
      "Enter a number:  12\n",
      "Enter a number:  5\n",
      "Enter a number:  0\n"
     ]
    },
    {
     "name": "stdout",
     "output_type": "stream",
     "text": [
      "107\n"
     ]
    }
   ],
   "source": [
    "# Ask user to keep entering numbers until they type 0. Print sum.\n",
    "tot = 0\n",
    "while True:\n",
    "    n = int(input(\"Enter a number: \"))\n",
    "    if n == 0:\n",
    "        break\n",
    "    tot += n\n",
    "print(tot)"
   ]
  },
  {
   "cell_type": "code",
   "execution_count": 33,
   "id": "25ba50ea-5fed-4212-bd48-e9cc88a9d1e6",
   "metadata": {},
   "outputs": [
    {
     "name": "stdin",
     "output_type": "stream",
     "text": [
      "Enter a number:  5\n"
     ]
    },
    {
     "name": "stdout",
     "output_type": "stream",
     "text": [
      "120\n"
     ]
    }
   ],
   "source": [
    "# Print factorial of a number using while.\n",
    "num = int(input(\"Enter a number: \"))\n",
    "fact = 1\n",
    "i = 1\n",
    "while i <= num:\n",
    "    fact *= i\n",
    "    i += 1\n",
    "print(fact)"
   ]
  },
  {
   "cell_type": "code",
   "execution_count": 65,
   "id": "85720176-07d7-4f06-80ea-241ced0ab37b",
   "metadata": {},
   "outputs": [
    {
     "name": "stdin",
     "output_type": "stream",
     "text": [
      "Enter number:  18\n"
     ]
    },
    {
     "name": "stdout",
     "output_type": "stream",
     "text": [
      "81\n"
     ]
    }
   ],
   "source": [
    "# Print reverse of a number using loop.\n",
    "num = int(input(\"Enter number: \"))\n",
    "rev = 0\n",
    "while num:\n",
    "    rev = rev*10 + num%10\n",
    "    num //= 10\n",
    "print(rev)"
   ]
  },
  {
   "cell_type": "code",
   "execution_count": 50,
   "id": "e118867b-02d9-4c52-aa5b-cffd34764e33",
   "metadata": {},
   "outputs": [
    {
     "name": "stdout",
     "output_type": "stream",
     "text": [
      "149\n",
      "148\n",
      "147\n",
      "146\n",
      "144\n",
      "143\n",
      "142\n",
      "141\n",
      "139\n",
      "138\n",
      "137\n",
      "136\n",
      "134\n",
      "133\n",
      "132\n",
      "131\n",
      "129\n",
      "128\n",
      "127\n",
      "126\n",
      "124\n",
      "123\n",
      "122\n",
      "121\n",
      "119\n",
      "118\n",
      "117\n",
      "116\n",
      "114\n",
      "113\n",
      "112\n",
      "111\n",
      "109\n",
      "108\n",
      "107\n",
      "106\n",
      "104\n",
      "103\n",
      "102\n",
      "101\n",
      "99\n",
      "98\n",
      "97\n",
      "96\n",
      "94\n",
      "93\n",
      "92\n",
      "91\n",
      "89\n",
      "88\n",
      "87\n",
      "86\n",
      "84\n",
      "83\n",
      "82\n",
      "81\n",
      "79\n",
      "78\n",
      "77\n",
      "76\n",
      "74\n",
      "73\n",
      "72\n",
      "71\n",
      "69\n",
      "68\n",
      "67\n",
      "66\n",
      "64\n",
      "63\n",
      "62\n",
      "61\n",
      "59\n",
      "58\n",
      "57\n",
      "56\n",
      "54\n",
      "53\n",
      "52\n",
      "51\n",
      "49\n",
      "48\n",
      "47\n",
      "46\n",
      "44\n",
      "43\n",
      "42\n",
      "41\n",
      "39\n",
      "38\n",
      "37\n",
      "36\n",
      "34\n",
      "33\n",
      "32\n",
      "31\n",
      "29\n",
      "28\n",
      "27\n",
      "26\n",
      "24\n",
      "23\n",
      "22\n",
      "21\n",
      "19\n",
      "18\n",
      "17\n",
      "16\n",
      "14\n",
      "13\n",
      "12\n",
      "11\n",
      "9\n",
      "8\n",
      "7\n",
      "6\n",
      "4\n",
      "3\n",
      "2\n",
      "1\n"
     ]
    }
   ],
   "source": [
    "# Use continue to skip printing numbers divisible by 5 (from 150)\n",
    "num = 150\n",
    "while num >= 1:\n",
    "    if num % 5 == 0:\n",
    "        num -= 1\n",
    "        continue   # Skip printing if divisible by 5\n",
    "    print(num)\n",
    "    num -= 1"
   ]
  },
  {
   "cell_type": "code",
   "execution_count": 55,
   "id": "a6486bb0-fc8c-41cb-8282-8664cc14a440",
   "metadata": {},
   "outputs": [
    {
     "name": "stdout",
     "output_type": "stream",
     "text": [
      "150\n",
      "149\n",
      "148\n",
      "147\n",
      "146\n",
      "145\n",
      "144\n",
      "143\n",
      "142\n",
      "141\n",
      "140\n",
      "139\n",
      "138\n",
      "137\n",
      "136\n",
      "135\n",
      "134\n",
      "133\n",
      "132\n",
      "131\n",
      "130\n",
      "129\n",
      "128\n",
      "127\n",
      "126\n",
      "125\n",
      "124\n",
      "123\n",
      "122\n",
      "121\n",
      "120\n",
      "119\n",
      "118\n",
      "117\n",
      "116\n",
      "115\n",
      "114\n",
      "113\n",
      "112\n",
      "111\n",
      "110\n",
      "109\n",
      "108\n",
      "107\n",
      "106\n",
      "105\n",
      "104\n",
      "103\n",
      "102\n",
      "101\n",
      "100\n",
      "99\n",
      "98\n",
      "97\n",
      "96\n",
      "95\n",
      "94\n",
      "93\n",
      "92\n",
      "91\n",
      "90\n",
      "89\n",
      "88\n",
      "87\n",
      "86\n",
      "85\n",
      "84\n",
      "83\n",
      "82\n",
      "81\n",
      "80\n",
      "79\n",
      "78\n",
      "77\n",
      "76\n",
      "75\n",
      "74\n",
      "73\n",
      "72\n",
      "71\n",
      "70\n",
      "69\n",
      "68\n",
      "67\n",
      "66\n",
      "65\n",
      "64\n",
      "63\n",
      "62\n",
      "61\n",
      "60\n",
      "59\n",
      "58\n",
      "57\n",
      "56\n",
      "55\n",
      "54\n",
      "53\n",
      "52\n",
      "51\n",
      "50\n",
      "49\n",
      "48\n",
      "47\n",
      "46\n",
      "45\n",
      "44\n",
      "43\n",
      "42\n",
      "41\n",
      "40\n",
      "39\n",
      "38\n",
      "37\n",
      "36\n",
      "35\n",
      "34\n",
      "33\n",
      "32\n",
      "31\n",
      "30\n",
      "29\n",
      "28\n",
      "27\n",
      "26\n"
     ]
    }
   ],
   "source": [
    "#Use break to stop loop if number equals 25 while printing 150.\n",
    "num = 150\n",
    "while num >= 1:\n",
    "    if num == 25:\n",
    "        break\n",
    "    print(num)\n",
    "    num -= 1"
   ]
  },
  {
   "cell_type": "code",
   "execution_count": 58,
   "id": "d1af2cd2-8c71-44e7-ad61-e78db7ec1568",
   "metadata": {},
   "outputs": [
    {
     "name": "stdout",
     "output_type": "stream",
     "text": [
      "10² = 100\n",
      "11² = 121\n",
      "12² = 144\n",
      "13² = 169\n",
      "14² = 196\n",
      "15² = 225\n",
      "16² = 256\n",
      "17² = 289\n",
      "18² = 324\n",
      "19² = 361\n",
      "20² = 400\n"
     ]
    }
   ],
   "source": [
    "# Create a loop that prints squares of numbers from 110\n",
    "num = 10\n",
    "while num <= 20:\n",
    "    print(f\"{num}² = {num*num}\")\n",
    "    num += 1"
   ]
  },
  {
   "cell_type": "code",
   "execution_count": 2,
   "id": "aabde264-8072-4be8-abbb-55c68791b065",
   "metadata": {},
   "outputs": [
    {
     "name": "stdout",
     "output_type": "stream",
     "text": [
      "0 1 1 2 3 5 8 13 21 34 "
     ]
    }
   ],
   "source": [
    "# Print Fibonacci series up to N terms\n",
    "n = 10\n",
    "a , b = 0 , 1\n",
    "for i in range(n):\n",
    "    print(a, end = \" \")\n",
    "    a, b = b, a +b"
   ]
  },
  {
   "cell_type": "code",
   "execution_count": 62,
   "id": "9bab7770-f28e-44df-aafc-b7179cab80d1",
   "metadata": {},
   "outputs": [
    {
     "name": "stdin",
     "output_type": "stream",
     "text": [
      "Enter a number:  54518100501\n"
     ]
    },
    {
     "name": "stdout",
     "output_type": "stream",
     "text": [
      "Number of digits: 11\n"
     ]
    }
   ],
   "source": [
    "#Count digits in a given number using while\n",
    "num = int(input(\"Enter a number: \"))\n",
    "count = 0\n",
    "if num == 0:\n",
    "    count = 1\n",
    "else:\n",
    "    while num > 0:\n",
    "        count += 1\n",
    "        num //= 10\n",
    "print(\"Number of digits:\", count)"
   ]
  },
  {
   "cell_type": "code",
   "execution_count": 67,
   "id": "999d6fe2-6624-4562-befc-e0bcffaa1fab",
   "metadata": {},
   "outputs": [
    {
     "name": "stdin",
     "output_type": "stream",
     "text": [
      "Enter number:  5456\n"
     ]
    },
    {
     "name": "stdout",
     "output_type": "stream",
     "text": [
      "6545\n"
     ]
    }
   ],
   "source": [
    "# Reverse digits of a number using loop\n",
    "num = int(input(\"Enter number: \"))\n",
    "rev = 0\n",
    "while num:\n",
    "    rev = rev*10 + num%10\n",
    "    num //= 10\n",
    "print(rev)"
   ]
  },
  {
   "cell_type": "code",
   "execution_count": 68,
   "id": "d11d1333-e84d-468b-867e-1eac9d0791ab",
   "metadata": {},
   "outputs": [
    {
     "name": "stdin",
     "output_type": "stream",
     "text": [
      "Enter a number:  191105\n"
     ]
    },
    {
     "name": "stdout",
     "output_type": "stream",
     "text": [
      "Sum of digits: 17\n"
     ]
    }
   ],
   "source": [
    "# Write a program to calculate sum of digits of a number\n",
    "num = int(input(\"Enter a number: \"))\n",
    "total = 0\n",
    "while num > 0:\n",
    "    total += num % 10\n",
    "    num //= 10 \n",
    "print(\"Sum of digits:\", total)"
   ]
  },
  {
   "cell_type": "code",
   "execution_count": 70,
   "id": "0c4181ad-7f77-492d-810d-a7fd52310cad",
   "metadata": {},
   "outputs": [
    {
     "name": "stdin",
     "output_type": "stream",
     "text": [
      "Guess the number (1 - 30):  2\n"
     ]
    },
    {
     "name": "stdout",
     "output_type": "stream",
     "text": [
      "Wrong number guess again\n"
     ]
    },
    {
     "name": "stdin",
     "output_type": "stream",
     "text": [
      "Guess the number (1 - 30):  18\n"
     ]
    },
    {
     "name": "stdout",
     "output_type": "stream",
     "text": [
      "Wrong number guess again\n"
     ]
    },
    {
     "name": "stdin",
     "output_type": "stream",
     "text": [
      "Guess the number (1 - 30):  10\n"
     ]
    },
    {
     "name": "stdout",
     "output_type": "stream",
     "text": [
      "Wrong number guess again\n"
     ]
    },
    {
     "name": "stdin",
     "output_type": "stream",
     "text": [
      "Guess the number (1 - 30):  5\n"
     ]
    },
    {
     "name": "stdout",
     "output_type": "stream",
     "text": [
      "Wrong number guess again\n"
     ]
    },
    {
     "name": "stdin",
     "output_type": "stream",
     "text": [
      "Guess the number (1 - 30):  23\n"
     ]
    },
    {
     "name": "stdout",
     "output_type": "stream",
     "text": [
      "correct\n"
     ]
    }
   ],
   "source": [
    "#Guess-the-number game: Keep asking until correct\n",
    "n = 23\n",
    "guess = 0\n",
    "while guess != n:\n",
    "    guess = int(input(\"Guess the number (1 - 30): \"))\n",
    "    if guess == n:\n",
    "        print(\"correct\")\n",
    "    else:\n",
    "        print(\"Wrong number guess again\")"
   ]
  },
  {
   "cell_type": "code",
   "execution_count": 4,
   "id": "cc85acf6-886c-4949-bff9-707cd949701d",
   "metadata": {},
   "outputs": [
    {
     "name": "stdout",
     "output_type": "stream",
     "text": [
      "2\n",
      "3\n",
      "5\n",
      "7\n",
      "11\n",
      "13\n",
      "17\n",
      "19\n",
      "23\n",
      "29\n",
      "31\n",
      "37\n",
      "41\n",
      "43\n",
      "47\n"
     ]
    }
   ],
   "source": [
    "#Print only prime numbers between 1-50 using while\n",
    "num = 2  # Starting number\n",
    "while num < 50:\n",
    "    is_prime = True\n",
    "    i = 2\n",
    "    while i * i <= num:\n",
    "        if num % i == 0:\n",
    "            is_prime = False\n",
    "            break\n",
    "        i += 1\n",
    "    if is_prime:\n",
    "        print(num)\n",
    "    num += 1"
   ]
  },
  {
   "cell_type": "code",
   "execution_count": null,
   "id": "c0e9424d-091f-4d2c-bd86-b29000cb2d94",
   "metadata": {},
   "outputs": [],
   "source": []
  }
 ],
 "metadata": {
  "kernelspec": {
   "display_name": "Python 3 (ipykernel)",
   "language": "python",
   "name": "python3"
  },
  "language_info": {
   "codemirror_mode": {
    "name": "ipython",
    "version": 3
   },
   "file_extension": ".py",
   "mimetype": "text/x-python",
   "name": "python",
   "nbconvert_exporter": "python",
   "pygments_lexer": "ipython3",
   "version": "3.10.11"
  }
 },
 "nbformat": 4,
 "nbformat_minor": 5
}
