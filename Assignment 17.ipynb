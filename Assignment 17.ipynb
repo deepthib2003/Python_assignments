{
 "cells": [
  {
   "cell_type": "markdown",
   "id": "18a8e0e5-1831-491d-bf98-f251239e9081",
   "metadata": {},
   "source": [
    "<h1>Day 17</h1>"
   ]
  },
  {
   "cell_type": "code",
   "execution_count": 2,
   "id": "ce8f51cd-31b0-451b-87f0-d803d94b3eaf",
   "metadata": {},
   "outputs": [
    {
     "name": "stdin",
     "output_type": "stream",
     "text": [
      "Enter a number:  0\n"
     ]
    },
    {
     "name": "stdout",
     "output_type": "stream",
     "text": [
      "Error: Any number is not divisible by Zero\n"
     ]
    }
   ],
   "source": [
    "# 1. Handle ZeroDivisionError in division.\n",
    "try:\n",
    "    number = int(input(\"Enter a number: \"))\n",
    "    n = 50 / number\n",
    "    print(n)\n",
    "except ZeroDivisionError:\n",
    "    print(\"Error: Any number is not divisible by Zero\")"
   ]
  },
  {
   "cell_type": "code",
   "execution_count": 4,
   "id": "ac0e3d20-de01-4b4c-b482-5c407f96ecbf",
   "metadata": {},
   "outputs": [
    {
     "name": "stdout",
     "output_type": "stream",
     "text": [
      "Error: String cannot be converted into Integer\n"
     ]
    }
   ],
   "source": [
    "# 2. Handle ValueError when converting string to integer.\n",
    "try:\n",
    "    name = \"Deepthi\"\n",
    "    print(int(name))\n",
    "except ValueError:\n",
    "    print(\"Error: String cannot be converted into Integer\")"
   ]
  },
  {
   "cell_type": "code",
   "execution_count": 5,
   "id": "e506efa0-b61f-46ed-a8eb-a3fa8e156b34",
   "metadata": {},
   "outputs": [
    {
     "name": "stdout",
     "output_type": "stream",
     "text": [
      "Error : The file you are searching doesn't exist.\n"
     ]
    }
   ],
   "source": [
    "#  3. Try reading a file that doesnt exist handle FileNotFoundError.\n",
    "try:\n",
    "    file = open(\"opened.txt\" , \"r\")\n",
    "    print(file.read())\n",
    "except FileNotFoundError:\n",
    "    print(\"Error : The file you are searching doesn't exist.\")"
   ]
  },
  {
   "cell_type": "code",
   "execution_count": 6,
   "id": "9f75ac9a-938a-4730-8be4-427af5c77ed4",
   "metadata": {},
   "outputs": [
    {
     "name": "stdout",
     "output_type": "stream",
     "text": [
      "Error : Invalid flaot conversion\n"
     ]
    }
   ],
   "source": [
    "#  4. Use try-except for invalid float conversion.\n",
    "try:\n",
    "    name = \"Deepthi\"\n",
    "    print(float(name))\n",
    "except:\n",
    "    print(\"Error : Invalid flaot conversion\")"
   ]
  },
  {
   "cell_type": "code",
   "execution_count": 11,
   "id": "82214035-c094-4581-891f-c3b1111caca3",
   "metadata": {},
   "outputs": [
    {
     "name": "stdin",
     "output_type": "stream",
     "text": [
      "Enter a number:  #\n"
     ]
    },
    {
     "name": "stdout",
     "output_type": "stream",
     "text": [
      " Invalid input \n"
     ]
    }
   ],
   "source": [
    "# 5. Handle multiple errors in a single block.\n",
    "try:\n",
    "    num = int(input(\"Enter a number: \"))\n",
    "    result = 1000 / num\n",
    "    print(result)\n",
    "except ValueError:\n",
    "    print(\" Invalid input \")\n",
    "except ZeroDivisionError:\n",
    "    print(\"Error: Zero cannot divide any number\")"
   ]
  },
  {
   "cell_type": "code",
   "execution_count": 13,
   "id": "2c266639-374f-4bf8-a497-065d94d92b12",
   "metadata": {},
   "outputs": [
    {
     "name": "stdin",
     "output_type": "stream",
     "text": [
      "Enter first number :  12\n",
      "Enter second number:  0\n"
     ]
    },
    {
     "name": "stdout",
     "output_type": "stream",
     "text": [
      "Error : Zero cannot divide any number\n"
     ]
    }
   ],
   "source": [
    "#  6. Input 2 numbers, divide them handle both \n",
    "# ValueError and ZeroDivisionError.\n",
    "try:\n",
    "    num1 = int(input(\"Enter first number : \"))\n",
    "    num2 = int(input(\"Enter second number: \"))\n",
    "    result = num1 / num2\n",
    "    print(result)\n",
    "except ValueError:\n",
    "    print(\"Error : Invalid input \")\n",
    "except ZeroDivisionError:\n",
    "    print(\"Error : Zero cannot divide any number\")"
   ]
  },
  {
   "cell_type": "code",
   "execution_count": 14,
   "id": "309c99b6-8188-40ac-a6c5-bf56e1d09aab",
   "metadata": {},
   "outputs": [
    {
     "name": "stdout",
     "output_type": "stream",
     "text": [
      "Oye\n",
      "Joe\n",
      "Avengers\n",
      "\n"
     ]
    }
   ],
   "source": [
    "#  7. Write a program to open a file and print content; \n",
    "# if error, print message.\n",
    "try:\n",
    "    file = open(\"movies.txt\", \"r\")\n",
    "    content = file.read()\n",
    "    print(content)\n",
    "except:\n",
    "    print(\"There is an error in the program\")"
   ]
  },
  {
   "cell_type": "code",
   "execution_count": 15,
   "id": "179469d3-c435-4852-8be3-82cab722f044",
   "metadata": {},
   "outputs": [
    {
     "name": "stdout",
     "output_type": "stream",
     "text": [
      "There is an error in the program\n"
     ]
    }
   ],
   "source": [
    "# 7. Write a program to open a file and print content; \n",
    "# if error, print message.\n",
    "try:\n",
    "    file = open(\"movie.txt\", \"r\")\n",
    "    content = file.read()\n",
    "    print(content)\n",
    "except:\n",
    "    print(\"There is an error in the program\")"
   ]
  },
  {
   "cell_type": "code",
   "execution_count": 19,
   "id": "be56c9d3-3d6b-4df2-91a3-c12fb19c5b7d",
   "metadata": {},
   "outputs": [
    {
     "name": "stdin",
     "output_type": "stream",
     "text": [
      "Enter the first number:  12\n",
      "Enter an operator (+, -, *, /):  +\n",
      "Enter the second number:  6\n"
     ]
    },
    {
     "name": "stdout",
     "output_type": "stream",
     "text": [
      "Result: 18\n"
     ]
    }
   ],
   "source": [
    "#  8. Create a calculator that handles invalid operations with try-except.\n",
    "try:\n",
    "    num1 = int(input(\"Enter the first number: \"))\n",
    "    operator = input(\"Enter an operator (+, -, *, /): \")\n",
    "    num2 = int(input(\"Enter the second number: \"))\n",
    "    if operator == '+':\n",
    "        result = num1 + num2\n",
    "    elif operator == '-':\n",
    "        result = num1 - num2\n",
    "    elif operator == '*':\n",
    "        result = num1 * num2\n",
    "    elif operator == '/':\n",
    "        result = num1 / num2\n",
    "    else:\n",
    "        print(\"Invalid operator!\")\n",
    "except ValueError:\n",
    "    print(\"Error:Invalid Input \")\n",
    "except ZeroDivisionError:\n",
    "    print(\"Error: Cannot divide by zero.\")\n",
    "finally:\n",
    "    print(\"Result:\", result)"
   ]
  },
  {
   "cell_type": "code",
   "execution_count": 20,
   "id": "d1a1bfdf-71d2-430a-9094-f82f75ae956e",
   "metadata": {},
   "outputs": [
    {
     "name": "stdout",
     "output_type": "stream",
     "text": [
      "Error : The given index is out of range\n"
     ]
    }
   ],
   "source": [
    "# Handle IndexError when accessing list element.\n",
    "try:\n",
    "    lst = [ 18,12,19,10,3]\n",
    "    print(lst[5])\n",
    "except IndexError:\n",
    "    print(\"Error : The given index is out of range\")"
   ]
  },
  {
   "cell_type": "code",
   "execution_count": 24,
   "id": "34f293b3-b8fc-4a3a-996c-b4248a45e3fe",
   "metadata": {},
   "outputs": [
    {
     "name": "stdout",
     "output_type": "stream",
     "text": [
      "Deepthi\n"
     ]
    }
   ],
   "source": [
    "#  10. Handle KeyError when accessing dictionary.\n",
    "try:\n",
    "    values = { \"name\" : \"Deepthi\" , \"location\" : \"Hyderabad\" , \"Education\" : \"MCA\"}\n",
    "    print(values[\"name\"])\n",
    "except KeyError:\n",
    "    print(\"Error : Invalid Key\")"
   ]
  },
  {
   "cell_type": "code",
   "execution_count": 29,
   "id": "bb8cb890-42b1-4c74-9cc8-80c4d811f560",
   "metadata": {},
   "outputs": [
    {
     "name": "stdin",
     "output_type": "stream",
     "text": [
      "Enter your age:  @\n"
     ]
    },
    {
     "name": "stdout",
     "output_type": "stream",
     "text": [
      "Error : The given input is not a number so it is not an age\n"
     ]
    }
   ],
   "source": [
    "#  11. Ask for age if not number, show error message.\n",
    "try:\n",
    "    age = int(input(\"Enter your age: \"))\n",
    "    print(age)\n",
    "except ValueError:\n",
    "    print(\"Error : The given input is not a number so it is not an age\")"
   ]
  },
  {
   "cell_type": "code",
   "execution_count": 31,
   "id": "46aabb30-ff65-4589-b23f-62f6e2a7612e",
   "metadata": {},
   "outputs": [
    {
     "name": "stdout",
     "output_type": "stream",
     "text": [
      "Error : You cannot add integer to a string\n"
     ]
    }
   ],
   "source": [
    "#  12. Handle TypeError by trying to add int + string.\n",
    "try:\n",
    "    name = \"Deepthi\"\n",
    "    print(name + 2)\n",
    "except TypeError:\n",
    "    print(\"Error : You cannot add integer to a string\")"
   ]
  },
  {
   "cell_type": "code",
   "execution_count": 32,
   "id": "3cd22877-7847-4d40-9cee-02b870371a2c",
   "metadata": {},
   "outputs": [
    {
     "name": "stdin",
     "output_type": "stream",
     "text": [
      "Enter first number:  18\n",
      "Enter second number:  10\n"
     ]
    },
    {
     "name": "stdout",
     "output_type": "stream",
     "text": [
      "Code executed successfully . Result is :  28\n"
     ]
    }
   ],
   "source": [
    "#  13. Use else with try-except to confirm successful execution.\n",
    "try:\n",
    "    num1 = int(input(\"Enter first number: \"))\n",
    "    num2 = int(input(\"Enter second number: \"))\n",
    "    result = num1 + num2\n",
    "except ValueError:\n",
    "    print(\"Error : Value is not valid\")\n",
    "else:\n",
    "    print(\"Code executed successfully . Result is : \", result)"
   ]
  },
  {
   "cell_type": "code",
   "execution_count": 33,
   "id": "fd284aae-cc97-4b62-adf5-2dea83321d78",
   "metadata": {},
   "outputs": [
    {
     "name": "stdout",
     "output_type": "stream",
     "text": [
      "D\n",
      "Program End\n"
     ]
    }
   ],
   "source": [
    "#  14. Use finally to print \"Program End\" always.\n",
    "try:\n",
    "    name = \"Deepthi\"\n",
    "    print(name[0])\n",
    "except IndexError:\n",
    "    print(\"Error : Index is out of range\")\n",
    "finally:\n",
    "    print(\"Program End\")"
   ]
  },
  {
   "cell_type": "code",
   "execution_count": 37,
   "id": "21be9a82-83cc-4de1-8938-0c0a21061215",
   "metadata": {},
   "outputs": [
    {
     "name": "stdin",
     "output_type": "stream",
     "text": [
      "Enter a file name:  movies.txt\n"
     ]
    },
    {
     "name": "stdout",
     "output_type": "stream",
     "text": [
      "File exists. \n",
      "Content inside the file is :  Oye\n",
      "Joe\n",
      "Avengers\n",
      "\n"
     ]
    }
   ],
   "source": [
    "#  15. Ask user for filename open it if exists, else handle error.\n",
    "user = input( \"Enter a file name: \")\n",
    "try:\n",
    "    file = open(user, \"r\")\n",
    "    content = file.read()\n",
    "except FileNotFoundError:\n",
    "    print(\"Error : The file is not existing\")\n",
    "else:\n",
    "    print(\"File exists. \\nContent inside the file is : \" , content)"
   ]
  },
  {
   "cell_type": "code",
   "execution_count": 39,
   "id": "46589d5a-52d0-420f-8047-44aabc63ee5e",
   "metadata": {},
   "outputs": [
    {
     "name": "stdout",
     "output_type": "stream",
     "text": [
      "Error: File doesnot exists or File is missing\n"
     ]
    }
   ],
   "source": [
    "#  16. Build a program that reads numbers from file; \n",
    "# if file missing, handle error.\n",
    "try:\n",
    "    file = open(\"numbr.txt\" , \"r\")\n",
    "    content = file.read()\n",
    "    print(content)\n",
    "except FileNotFoundError:\n",
    "    print(\"Error: File doesnot exists or File is missing\")"
   ]
  },
  {
   "cell_type": "code",
   "execution_count": 41,
   "id": "3acc2cd4-02b3-4540-85ff-b0cc3d7704df",
   "metadata": {},
   "outputs": [
    {
     "name": "stdout",
     "output_type": "stream",
     "text": [
      "Error : The imported module is wrong module.\n"
     ]
    }
   ],
   "source": [
    "#  17. Try importing a wrong module handle ModuleNotFoundError.\n",
    "try:\n",
    "    import wrong_module\n",
    "except ModuleNotFoundError:\n",
    "    print(\"Error : The imported module is wrong module.\")"
   ]
  },
  {
   "cell_type": "code",
   "execution_count": 6,
   "id": "2c5a9e5f-788e-4d27-b8e5-b2c9fffa4d85",
   "metadata": {},
   "outputs": [
    {
     "name": "stdout",
     "output_type": "stream",
     "text": [
      "Error : Cannot pop from an empty list\n"
     ]
    }
   ],
   "source": [
    "#  18. Create a safe list pop() program with try-except.\n",
    "lst = []\n",
    "try:\n",
    "    lst.pop()\n",
    "except IndexError:\n",
    "    print(\"Error : Cannot pop from an empty list\")"
   ]
  },
  {
   "cell_type": "code",
   "execution_count": 3,
   "id": "951abd6d-d488-46d6-9415-0af1b6e66dd5",
   "metadata": {},
   "outputs": [
    {
     "data": {
      "text/plain": [
       "2"
      ]
     },
     "execution_count": 3,
     "metadata": {},
     "output_type": "execute_result"
    }
   ],
   "source": [
    "lst.pop()"
   ]
  },
  {
   "cell_type": "code",
   "execution_count": 4,
   "id": "1f21d410-f9cd-4921-a9d0-202d7982ef32",
   "metadata": {},
   "outputs": [
    {
     "data": {
      "text/plain": [
       "1"
      ]
     },
     "execution_count": 4,
     "metadata": {},
     "output_type": "execute_result"
    }
   ],
   "source": [
    "lst.pop()"
   ]
  },
  {
   "cell_type": "code",
   "execution_count": 5,
   "id": "f631edc4-6fb5-4bf1-859f-f7c26a0b141e",
   "metadata": {},
   "outputs": [
    {
     "ename": "IndexError",
     "evalue": "pop from empty list",
     "output_type": "error",
     "traceback": [
      "\u001b[1;31m---------------------------------------------------------------------------\u001b[0m",
      "\u001b[1;31mIndexError\u001b[0m                                Traceback (most recent call last)",
      "Cell \u001b[1;32mIn[5], line 1\u001b[0m\n\u001b[1;32m----> 1\u001b[0m \u001b[43mlst\u001b[49m\u001b[38;5;241;43m.\u001b[39;49m\u001b[43mpop\u001b[49m\u001b[43m(\u001b[49m\u001b[43m)\u001b[49m\n",
      "\u001b[1;31mIndexError\u001b[0m: pop from empty list"
     ]
    }
   ],
   "source": [
    "lst.pop()"
   ]
  },
  {
   "cell_type": "code",
   "execution_count": null,
   "id": "68829b76-e1a9-4ebb-a7f5-86754e8724ed",
   "metadata": {},
   "outputs": [],
   "source": []
  },
  {
   "cell_type": "code",
   "execution_count": 44,
   "id": "36738c0e-33a7-4e44-bc3c-89a775a5cfbe",
   "metadata": {},
   "outputs": [
    {
     "name": "stdin",
     "output_type": "stream",
     "text": [
      "Enter a valid integer:  Hii\n"
     ]
    },
    {
     "name": "stdout",
     "output_type": "stream",
     "text": [
      "Invalid input! Please enter an integer.\n"
     ]
    },
    {
     "name": "stdin",
     "output_type": "stream",
     "text": [
      "Enter a valid integer:  @#$\n"
     ]
    },
    {
     "name": "stdout",
     "output_type": "stream",
     "text": [
      "Invalid input! Please enter an integer.\n"
     ]
    },
    {
     "name": "stdin",
     "output_type": "stream",
     "text": [
      "Enter a valid integer:  545\n"
     ]
    },
    {
     "name": "stdout",
     "output_type": "stream",
     "text": [
      "You entered: 545\n",
      "None\n"
     ]
    }
   ],
   "source": [
    "# 19. Handle ValueError inside a loop until valid input is given.\n",
    "def get_valid_integer():\n",
    "    while True:\n",
    "        try:\n",
    "            num = int(input(\"Enter a valid integer: \"))\n",
    "            print(f\"You entered: {num}\")\n",
    "            break\n",
    "        except ValueError:\n",
    "            print(\"Invalid input! Please enter an integer.\")\n",
    "print(get_valid_integer())"
   ]
  },
  {
   "cell_type": "code",
   "execution_count": null,
   "id": "0e856616-fb94-40c3-a551-b51b0043cbf0",
   "metadata": {},
   "outputs": [],
   "source": []
  },
  {
   "cell_type": "code",
   "execution_count": 46,
   "id": "fd589c01-8f8e-4a34-8633-d5b8f955ac09",
   "metadata": {},
   "outputs": [
    {
     "name": "stdin",
     "output_type": "stream",
     "text": [
      "Enter a value:  18\n",
      "Enter a value:  9\n"
     ]
    },
    {
     "name": "stdout",
     "output_type": "stream",
     "text": [
      "Program executed\n",
      "Progran successful. Result :  2.0\n"
     ]
    }
   ],
   "source": [
    "# 20. Build a program that combines try-except-else-finally\n",
    "# together in a meaningful way.\n",
    "try:\n",
    "    num1 = int(input(\"Enter a value: \"))\n",
    "    num2 = int(input(\"Enter a value: \"))\n",
    "    result = num1 / num2\n",
    "except ValueError:\n",
    "    print(\"Error: Invalid value\")\n",
    "else:\n",
    "    print(\"Program executed\")\n",
    "finally:\n",
    "    print(\"Progran successful. Result : \",result)"
   ]
  },
  {
   "cell_type": "code",
   "execution_count": null,
   "id": "d962dd4f-5936-4ca2-9233-655bbc30e64f",
   "metadata": {},
   "outputs": [],
   "source": []
  }
 ],
 "metadata": {
  "kernelspec": {
   "display_name": "Python 3 (ipykernel)",
   "language": "python",
   "name": "python3"
  },
  "language_info": {
   "codemirror_mode": {
    "name": "ipython",
    "version": 3
   },
   "file_extension": ".py",
   "mimetype": "text/x-python",
   "name": "python",
   "nbconvert_exporter": "python",
   "pygments_lexer": "ipython3",
   "version": "3.10.11"
  }
 },
 "nbformat": 4,
 "nbformat_minor": 5
}
