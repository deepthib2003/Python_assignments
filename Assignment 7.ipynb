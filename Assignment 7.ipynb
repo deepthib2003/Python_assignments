{
 "cells": [
  {
   "cell_type": "markdown",
   "id": "faf5452e-8c1e-4242-a3ff-302d3a4dfcd7",
   "metadata": {},
   "source": [
    "Day 7"
   ]
  },
  {
   "cell_type": "code",
   "execution_count": 5,
   "id": "8070bd1f-0e64-433e-8635-0e8ef672f2c3",
   "metadata": {},
   "outputs": [
    {
     "name": "stdout",
     "output_type": "stream",
     "text": [
      " *   *   *   *  \n",
      " *   *   *   *  \n",
      " *   *   *   *  \n",
      " *   *   *   *  \n"
     ]
    }
   ],
   "source": [
    "#  1. Square of Stars\n",
    "rows = 4\n",
    "for row in range(1,rows + 1):\n",
    "    for col in range(1,rows + 1):\n",
    "        print(\" * \", end = \" \" )\n",
    "    print()"
   ]
  },
  {
   "cell_type": "code",
   "execution_count": 6,
   "id": "612e33ab-290b-430f-b6af-c4c58c72ad08",
   "metadata": {},
   "outputs": [
    {
     "name": "stdout",
     "output_type": "stream",
     "text": [
      " *  \n",
      " *   *  \n",
      " *   *   *  \n",
      " *   *   *   *  \n"
     ]
    }
   ],
   "source": [
    "#  2. Right-Angled Triangle of Stars\n",
    "rows = 4\n",
    "for row in range(1 , rows + 1):\n",
    "    for col in range(1,row + 1):\n",
    "        print(\" * \" , end = \" \")\n",
    "    print()"
   ]
  },
  {
   "cell_type": "code",
   "execution_count": 9,
   "id": "b88bfe2e-e2b7-416c-b300-311601e3a9f8",
   "metadata": {},
   "outputs": [
    {
     "name": "stdout",
     "output_type": "stream",
     "text": [
      "1 2 3 \n",
      "1 2 3 \n",
      "1 2 3 \n"
     ]
    }
   ],
   "source": [
    "# 3. Print Numbers in a Grid(1–3, repeated)\n",
    "rows = 3\n",
    "for row in range(1, rows + 1):\n",
    "    for col in range( 1, rows + 1):\n",
    "        print(col, end = \" \")\n",
    "    print()"
   ]
  },
  {
   "cell_type": "code",
   "execution_count": 10,
   "id": "9f4fb71b-f324-4581-b027-eb901bf6bc17",
   "metadata": {},
   "outputs": [
    {
     "name": "stdout",
     "output_type": "stream",
     "text": [
      " *   *   *   *  \n",
      " *   *   *  \n",
      " *   *  \n",
      " *  \n",
      "\n"
     ]
    }
   ],
   "source": [
    "# 4. Reverse Triangle of Stars\n",
    "rows = 4\n",
    "for row in range(rows , -1 ,-1):\n",
    "    for col in range(row):\n",
    "        print(\" * \", end = \" \")\n",
    "    print()"
   ]
  },
  {
   "cell_type": "code",
   "execution_count": 17,
   "id": "bf8827cf-281e-4adc-b650-8be1a8024591",
   "metadata": {},
   "outputs": [
    {
     "name": "stdout",
     "output_type": "stream",
     "text": [
      "A \n",
      "A B \n",
      "A B C \n",
      "A B C D \n"
     ]
    }
   ],
   "source": [
    "#  5.Alphabet Triangle\n",
    "rows = 3\n",
    "for row in range(rows + 1):\n",
    "    for col in range(row + 1):\n",
    "        print(chr(65 + col), end = \" \")\n",
    "    print()"
   ]
  },
  {
   "cell_type": "code",
   "execution_count": 19,
   "id": "848d36a2-c370-41a3-90f1-3dc7e06e2017",
   "metadata": {},
   "outputs": [
    {
     "name": "stdout",
     "output_type": "stream",
     "text": [
      "1 \n",
      "1 2 \n",
      "1 2 3 \n",
      "1 2 3 4 \n"
     ]
    }
   ],
   "source": [
    "# 6. Incremental Numbers Triangle \n",
    "rows = 4\n",
    "for row in range(1 , rows + 1):\n",
    "    for col in range(1 , row + 1):\n",
    "        print(col , end = \" \")\n",
    "    print()"
   ]
  },
  {
   "cell_type": "code",
   "execution_count": 21,
   "id": "7c3c097a-a1ae-4997-95b8-f71790389912",
   "metadata": {},
   "outputs": [
    {
     "name": "stdout",
     "output_type": "stream",
     "text": [
      " 1  2  3  4  5 \n",
      " 2  4  6  8  10 \n",
      " 3  6  9  12  15 \n",
      " 4  8  12  16  20 \n",
      " 5  10  15  20  25 \n"
     ]
    }
   ],
   "source": [
    "# 7.Multiplication Table(1–5) using Nested Loops\n",
    "for i in range(1,6):\n",
    "    for j in range(1,6):\n",
    "        print(f\"{i * j : 2}\" , end = \" \")\n",
    "    print()"
   ]
  },
  {
   "cell_type": "code",
   "execution_count": 35,
   "id": "a786d8b8-75a0-4a79-999a-de5473bb7650",
   "metadata": {},
   "outputs": [
    {
     "name": "stdout",
     "output_type": "stream",
     "text": [
      "          * \n",
      "       *  * \n",
      "    *  *  * \n",
      " *  *  *  * \n"
     ]
    }
   ],
   "source": [
    "# 8.  Right-Aligned Triangle of Stars\n",
    "n = 4\n",
    "for i in range( 1, n + 1):\n",
    "    print(\"   \" * (n - i) + \" * \" * i)"
   ]
  },
  {
   "cell_type": "code",
   "execution_count": 36,
   "id": "138abb20-1e74-45f6-a734-a900b439e334",
   "metadata": {},
   "outputs": [
    {
     "name": "stdout",
     "output_type": "stream",
     "text": [
      "1 \n",
      "2 3 \n",
      "4 5 6 \n",
      "7 8 9 10 \n"
     ]
    }
   ],
   "source": [
    "# 9.Number Triangle (Continuous Increase)\n",
    "rows = 4\n",
    "num = 1\n",
    "for row in range(1, rows + 1):\n",
    "    for col in range(row):\n",
    "        print(num , end = \" \")\n",
    "        num += 1\n",
    "    print()"
   ]
  },
  {
   "cell_type": "code",
   "execution_count": 39,
   "id": "c461c6fa-c51d-440e-bb4f-50392a9216c9",
   "metadata": {},
   "outputs": [
    {
     "name": "stdout",
     "output_type": "stream",
     "text": [
      "1 1 1 1 \n",
      "2 2 2 2 \n",
      "3 3 3 3 \n",
      "4 4 4 4 \n"
     ]
    }
   ],
   "source": [
    "# 10. Square Grid with Row Numbers\n",
    "rows = 4\n",
    "for row in range(1, rows + 1):\n",
    "    for col in range(1 , rows + 1):\n",
    "        print(row , end = \" \")\n",
    "    print()"
   ]
  },
  {
   "cell_type": "code",
   "execution_count": 50,
   "id": "d86ac0bb-0803-4425-a7b2-2040aa2f5dce",
   "metadata": {},
   "outputs": [
    {
     "name": "stdout",
     "output_type": "stream",
     "text": [
      "5 \n",
      "5 4 \n",
      "5 4 3 \n",
      "5 4 3 2 \n"
     ]
    }
   ],
   "source": [
    "#  11.Decreasing Number Triangle\n",
    "n = 4 \n",
    "for i in range(1, n + 1):\n",
    "    for j in range(5, 5 - i, -1):\n",
    "        print(j, end=\" \")\n",
    "    print()"
   ]
  },
  {
   "cell_type": "code",
   "execution_count": 57,
   "id": "bb9c6278-edd6-45f1-9bf9-4ea2e9742504",
   "metadata": {},
   "outputs": [
    {
     "name": "stdout",
     "output_type": "stream",
     "text": [
      "E O E O \n",
      "O E O E \n",
      "E O E O \n",
      "O E O E \n"
     ]
    }
   ],
   "source": [
    "#  12.Odd-Even Pattern\n",
    "rows = 4\n",
    "cols = 4\n",
    "for row in range(1, rows + 1):\n",
    "    for col in range(1, cols + 1):\n",
    "        if (row + col) % 2 == 0:\n",
    "            print(\"E\" , end = \" \")\n",
    "        else:\n",
    "            print(\"O\", end = \" \")\n",
    "    print()"
   ]
  },
  {
   "cell_type": "code",
   "execution_count": 1,
   "id": "c35095f1-592c-425a-8bb0-ad34ce90c34f",
   "metadata": {},
   "outputs": [
    {
     "name": "stdout",
     "output_type": "stream",
     "text": [
      "* * * * * \n",
      "*       * \n",
      "*       * \n",
      "*       * \n",
      "* * * * * \n"
     ]
    }
   ],
   "source": [
    "# 13.Hollow Square Pattern\n",
    "n = 5\n",
    "i = 0\n",
    "while i < n:\n",
    "    j = 0\n",
    "    while j < n:\n",
    "        if i == 0 or i == n - 1 or j == 0 or j == n - 1:\n",
    "            print(\"*\", end=\" \")\n",
    "        else:\n",
    "            print(\" \", end=\" \")\n",
    "        j += 1\n",
    "    print()\n",
    "    i += 1"
   ]
  },
  {
   "cell_type": "code",
   "execution_count": 61,
   "id": "5d4455d6-9573-4535-81a9-0bf1b6bb34b9",
   "metadata": {},
   "outputs": [
    {
     "data": {
      "text/plain": [
       "88"
      ]
     },
     "execution_count": 61,
     "metadata": {},
     "output_type": "execute_result"
    }
   ],
   "source": [
    "# 14. CharacterTriangle(X,Y,Z)\n",
    "ord(\"X\")"
   ]
  },
  {
   "cell_type": "code",
   "execution_count": 63,
   "id": "bdbc6ede-3a42-4dbc-9bc8-56db871fc98a",
   "metadata": {},
   "outputs": [
    {
     "name": "stdout",
     "output_type": "stream",
     "text": [
      "X \n",
      "X Y \n",
      "X Y Z \n"
     ]
    }
   ],
   "source": [
    "# 14. CharacterTriangle(X,Y,Z)\n",
    "rows = 3\n",
    "ch = 88\n",
    "for row in range(1, rows + 1):\n",
    "    for col in range(row):\n",
    "        print(chr(ch + col) , end = \" \")\n",
    "    print()"
   ]
  },
  {
   "cell_type": "code",
   "execution_count": 67,
   "id": "4bd450e7-eef5-44e4-af22-05c9242504e6",
   "metadata": {},
   "outputs": [
    {
     "name": "stdout",
     "output_type": "stream",
     "text": [
      "    * \n",
      "   *  * \n",
      "  *  *  * \n",
      " *  *  *  * \n"
     ]
    }
   ],
   "source": [
    "# 15. Centered Pyramid of Stars\n",
    "rows = 4\n",
    "for row in range(1, rows + 1):\n",
    "    print(\" \" * (rows - row) + \" * \" * row)"
   ]
  },
  {
   "cell_type": "code",
   "execution_count": 68,
   "id": "3f1cd7b4-682b-4a9a-b84b-92f792a07e27",
   "metadata": {},
   "outputs": [
    {
     "name": "stdout",
     "output_type": "stream",
     "text": [
      "1 \n",
      "2 3 \n",
      "4 5 6 \n",
      "7 8 9 10 \n"
     ]
    }
   ],
   "source": [
    "# 16. Floyds Triangle (Continuous Numbers)\n",
    "rows = 4\n",
    "num = 1\n",
    "for row in range(1, rows + 1):\n",
    "    for col in range(row):\n",
    "        print(num , end = \" \")\n",
    "        num += 1\n",
    "    print()"
   ]
  },
  {
   "cell_type": "code",
   "execution_count": 69,
   "id": "eea22497-84ce-4813-a851-b841e228af3e",
   "metadata": {},
   "outputs": [
    {
     "name": "stdout",
     "output_type": "stream",
     "text": [
      "  * \n",
      " * * \n",
      "* * * \n",
      " * * \n",
      "  * \n"
     ]
    }
   ],
   "source": [
    "#17. Diamond Shape (Stars)\n",
    "n = 3 \n",
    "for i in range(1, n + 1):\n",
    "    print(\" \" * (n - i) + \"* \" * i)\n",
    "for i in range(n - 1, 0, -1):\n",
    "    print(\" \" * (n - i) + \"* \" * i)"
   ]
  },
  {
   "cell_type": "code",
   "execution_count": 71,
   "id": "39c85d3a-7314-418b-99b2-1d8cd599fba4",
   "metadata": {},
   "outputs": [
    {
     "name": "stdout",
     "output_type": "stream",
     "text": [
      "A \n",
      "B C \n",
      "D E F \n",
      "G H I J \n"
     ]
    }
   ],
   "source": [
    "# 18.Alphabet Increment Pattern\n",
    "rows = 4\n",
    "ch = 65\n",
    "for row in range(1 , rows + 1):\n",
    "    for col in range(row):\n",
    "        print(chr(ch), end = \" \")\n",
    "        ch += 1\n",
    "    print()"
   ]
  },
  {
   "cell_type": "code",
   "execution_count": 73,
   "id": "b48df534-734d-4b09-ad52-4bbbb11dc849",
   "metadata": {},
   "outputs": [
    {
     "name": "stdout",
     "output_type": "stream",
     "text": [
      "1 \n",
      "4 9 \n",
      "16 25 36 \n",
      "49 64 81 100 \n"
     ]
    }
   ],
   "source": [
    "# 19. Right-Angled Triangle of Squares\n",
    "rows = 4\n",
    "num = 1\n",
    "for row in range(1 , rows + 1):\n",
    "    for col in range(row):\n",
    "        print(num ** 2 , end = \" \")\n",
    "        num += 1\n",
    "    print()"
   ]
  },
  {
   "cell_type": "code",
   "execution_count": 76,
   "id": "199b0509-fb7d-4cf6-bda0-8c63e0931433",
   "metadata": {},
   "outputs": [
    {
     "name": "stdout",
     "output_type": "stream",
     "text": [
      "  1   2   3   4   5   6   7   8   9  10 \n",
      "  2   4   6   8  10  12  14  16  18  20 \n",
      "  3   6   9  12  15  18  21  24  27  30 \n",
      "  4   8  12  16  20  24  28  32  36  40 \n",
      "  5  10  15  20  25  30  35  40  45  50 \n",
      "  6  12  18  24  30  36  42  48  54  60 \n",
      "  7  14  21  28  35  42  49  56  63  70 \n",
      "  8  16  24  32  40  48  56  64  72  80 \n",
      "  9  18  27  36  45  54  63  72  81  90 \n",
      " 10  20  30  40  50  60  70  80  90  100 \n"
     ]
    }
   ],
   "source": [
    "# 20. Multiplication Table (1–10 Grid)\n",
    "for row in range(1,11):\n",
    "    for col in range(1,11):\n",
    "        print(f\"{row * col : 3}\" , end = \" \")\n",
    "    print()"
   ]
  },
  {
   "cell_type": "code",
   "execution_count": null,
   "id": "8203a512-c16d-439f-ae8d-f9abe59cf18b",
   "metadata": {},
   "outputs": [],
   "source": []
  }
 ],
 "metadata": {
  "kernelspec": {
   "display_name": "Python 3 (ipykernel)",
   "language": "python",
   "name": "python3"
  },
  "language_info": {
   "codemirror_mode": {
    "name": "ipython",
    "version": 3
   },
   "file_extension": ".py",
   "mimetype": "text/x-python",
   "name": "python",
   "nbconvert_exporter": "python",
   "pygments_lexer": "ipython3",
   "version": "3.10.11"
  }
 },
 "nbformat": 4,
 "nbformat_minor": 5
}
