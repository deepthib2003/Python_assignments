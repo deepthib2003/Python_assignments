{
 "cells": [
  {
   "cell_type": "code",
   "execution_count": 2,
   "id": "241fb71b-f46d-42b2-acce-be5556464c00",
   "metadata": {},
   "outputs": [
    {
     "name": "stdin",
     "output_type": "stream",
     "text": [
      "enter how many numbers:  5\n",
      "enter number:  1\n",
      "enter number:  18\n",
      "enter number:  3\n",
      "enter number:  10\n",
      "enter number:  15\n"
     ]
    },
    {
     "name": "stdout",
     "output_type": "stream",
     "text": [
      "[1, 18, 3, 10, 15]\n"
     ]
    }
   ],
   "source": [
    "#  1. Take 5 numbers from user and store them in a list\n",
    "n=int(input(\"enter how many numbers: \"))\n",
    "lst=[int(input(\"enter number: \")) for i in range(n)]\n",
    "print(lst)"
   ]
  },
  {
   "cell_type": "code",
   "execution_count": 6,
   "id": "e9d65cec-2c85-4fa9-80c3-294db9d42d29",
   "metadata": {},
   "outputs": [
    {
     "name": "stdin",
     "output_type": "stream",
     "text": [
      "How many words do you want to enter?  4\n",
      "Enter Word:  Hii\n",
      "Enter Word:  How are you\n",
      "Enter Word:  Where are you\n",
      "Enter Word:  What are you doing\n"
     ]
    },
    {
     "name": "stdout",
     "output_type": "stream",
     "text": [
      "List of words: ['Hii', 'How are you', 'Where are you', 'What are you doing']\n"
     ]
    }
   ],
   "source": [
    "# 2. Take n words as input and print the list\n",
    "n = int(input(\"How many words do you want to enter? \"))\n",
    "words = [ input(\"Enter Word: \") for i in range(n)]\n",
    "print(\"List of words:\", words)"
   ]
  },
  {
   "cell_type": "code",
   "execution_count": 7,
   "id": "49acf40c-7852-4eac-825e-1f46f719049d",
   "metadata": {},
   "outputs": [
    {
     "name": "stdout",
     "output_type": "stream",
     "text": [
      "[1, 4, 9, 16, 25, 36, 49, 64, 81, 100]\n"
     ]
    }
   ],
   "source": [
    "# 3. Use list comprehension to generate squares from 1-10\n",
    "lst = [ x ** 2 for x in range(1, 11)]\n",
    "print(lst)"
   ]
  },
  {
   "cell_type": "code",
   "execution_count": 14,
   "id": "f84e253b-722e-42bb-9941-10b8259e05d6",
   "metadata": {},
   "outputs": [
    {
     "name": "stdout",
     "output_type": "stream",
     "text": [
      "[15, 1, 15]\n",
      "[15, 2, 30]\n",
      "[15, 3, 45]\n",
      "[15, 4, 60]\n",
      "[15, 5, 75]\n",
      "[15, 6, 90]\n",
      "[15, 7, 105]\n",
      "[15, 8, 120]\n",
      "[15, 9, 135]\n",
      "[15, 10, 150]\n"
     ]
    }
   ],
   "source": [
    "#  4. Create a 2D list of multiplication table (15)\n",
    "n = 15\n",
    "table = [[n, i, n * i] for i in range(1, 11)]\n",
    "for row in table:\n",
    "    print(row)"
   ]
  },
  {
   "cell_type": "code",
   "execution_count": 1,
   "id": "1d7900b9-cd94-414f-a928-1347b40cacf4",
   "metadata": {},
   "outputs": [
    {
     "name": "stdout",
     "output_type": "stream",
     "text": [
      "Doubled numbers: [1, 4, 9, 16, 25]\n"
     ]
    }
   ],
   "source": [
    "#  5. Use map to convert list of numbers into their doubles\n",
    "numbers = [1, 2, 3, 4, 5]\n",
    "doubled = list(map(lambda x: x * x, numbers))\n",
    "print(\"Doubled numbers:\", doubled)"
   ]
  },
  {
   "cell_type": "code",
   "execution_count": 16,
   "id": "4ff3a015-2db3-4a14-a070-88503d58378a",
   "metadata": {},
   "outputs": [
    {
     "name": "stdout",
     "output_type": "stream",
     "text": [
      "[1, 3, 5]\n"
     ]
    }
   ],
   "source": [
    "# 6. Use filter to keep only odd numbers from [1,2,3,4,5,6]\n",
    "lst = [1,2,3,4,5,6]\n",
    "odds = list(filter(lambda x : x % 2 != 0, lst))\n",
    "print(odds)"
   ]
  },
  {
   "cell_type": "code",
   "execution_count": 19,
   "id": "d42eab65-e81f-45e8-a571-8c990adc10e7",
   "metadata": {},
   "outputs": [
    {
     "name": "stdin",
     "output_type": "stream",
     "text": [
      "Enter a number to find its factorial:  5\n"
     ]
    },
    {
     "name": "stdout",
     "output_type": "stream",
     "text": [
      "120\n"
     ]
    }
   ],
   "source": [
    "#  7. Use reduce to find factorial of a number (list form)\n",
    "from functools import reduce\n",
    "n = int(input(\"Enter a number to find its factorial: \"))\n",
    "numbers = list(range(1, n + 1))\n",
    "factorial = reduce(lambda x, y: x * y, numbers)\n",
    "print(factorial)"
   ]
  },
  {
   "cell_type": "code",
   "execution_count": 20,
   "id": "fcdce31e-c2bc-4b03-ae3d-03df099afb76",
   "metadata": {},
   "outputs": [
    {
     "name": "stdout",
     "output_type": "stream",
     "text": [
      "['saiteja', 'chandana', 'deepthi', 'Jayakrishna']\n"
     ]
    }
   ],
   "source": [
    "#  8. Input a list of names, print only those longer than 4 letters\n",
    "\n",
    "names = [\"saiteja\",\"chandana\",\"deepthi\",\"Jayakrishna\", \"sai\"]\n",
    "long_names = [name for name in names if len(name) > 4]\n",
    "print(long_names)"
   ]
  },
  {
   "cell_type": "code",
   "execution_count": 21,
   "id": "7d936080-30a7-4955-86b6-ba61772990a5",
   "metadata": {},
   "outputs": [
    {
     "name": "stdout",
     "output_type": "stream",
     "text": [
      "[1, 2, 3, 4, 5, 6]\n"
     ]
    }
   ],
   "source": [
    "#  9. Flatten [[1,2,3],[4,5,6]] into [1,2,3,4,5,6]\n",
    "matrix = [[1,2,3],[4,5,6]]\n",
    "flat = [i for row in matrix for i in row]\n",
    "print(flat)"
   ]
  },
  {
   "cell_type": "code",
   "execution_count": 22,
   "id": "2872761a-e558-4a15-87c6-5a2ff9f61233",
   "metadata": {},
   "outputs": [
    {
     "name": "stdout",
     "output_type": "stream",
     "text": [
      "['APPLE', 'BANANA', 'CHERRY']\n"
     ]
    }
   ],
   "source": [
    "#  10. Use map to convert a list of strings into uppercase.\n",
    "words = ['apple', 'banana', 'cherry']\n",
    "uppercase = list(map(str.upper, words))\n",
    "print(uppercase)"
   ]
  },
  {
   "cell_type": "code",
   "execution_count": 24,
   "id": "b0b0df3e-fa00-470b-b0f9-97d7e602b72c",
   "metadata": {},
   "outputs": [
    {
     "name": "stdout",
     "output_type": "stream",
     "text": [
      "['Usha', 'Anika', 'Isha']\n"
     ]
    }
   ],
   "source": [
    "# 11. Use filter to keep only names starting with a vowel\n",
    "names = [\"saiteja\",\"Usha\",\"deepthi\",\"Anika\" , \"Isha\"]\n",
    "def starts_with_vowel(name):\n",
    "    return name[0].lower() in 'aeiou'\n",
    "vowel_names = list(filter(starts_with_vowel, names))\n",
    "print(vowel_names)"
   ]
  },
  {
   "cell_type": "code",
   "execution_count": 25,
   "id": "0667e9e8-ba72-47f2-a79b-dee011b12e93",
   "metadata": {},
   "outputs": [
    {
     "name": "stdout",
     "output_type": "stream",
     "text": [
      "67\n"
     ]
    }
   ],
   "source": [
    "# 12. Use reduce to find max of [11,3,67,29]\n",
    "from functools import reduce\n",
    "numbers = [11, 3, 67, 29]\n",
    "maximum = reduce(lambda x, y: x if x > y else y, numbers)\n",
    "print(maximum)"
   ]
  },
  {
   "cell_type": "code",
   "execution_count": 26,
   "id": "7e660b16-5f8f-42dc-a6db-b9813cbd1346",
   "metadata": {},
   "outputs": [
    {
     "name": "stdout",
     "output_type": "stream",
     "text": [
      "[(1, 'a'), (1, 'b'), (2, 'a'), (2, 'b'), (3, 'a'), (3, 'b')]\n"
     ]
    }
   ],
   "source": [
    "#  13. Nested comprehension: create a list of (i,j) pairs where i in [1,2,3]\n",
    "#  and j in [’a’,’b’]\n",
    "pairs = [(i, j) for i in [1, 2, 3] for j in ['a', 'b']]\n",
    "print(pairs)"
   ]
  },
  {
   "cell_type": "code",
   "execution_count": 28,
   "id": "94273b70-24cc-44da-b896-62f6a6607833",
   "metadata": {},
   "outputs": [
    {
     "name": "stdout",
     "output_type": "stream",
     "text": [
      "[8, 64, 216, 512, 1000, 1728, 2744, 4096, 5832, 8000]\n"
     ]
    }
   ],
   "source": [
    "# 14. Generate list of cubes of even numbers from 1-20\n",
    "even = [x**3 for x in range(1, 21) if x % 2 == 0]\n",
    "print(even)"
   ]
  },
  {
   "cell_type": "code",
   "execution_count": 29,
   "id": "a2d8f93e-b8a7-454d-8031-d60308f5170e",
   "metadata": {},
   "outputs": [
    {
     "name": "stdin",
     "output_type": "stream",
     "text": [
      "Enter a sentence:   Nested comprehension: transpose\n"
     ]
    },
    {
     "name": "stdout",
     "output_type": "stream",
     "text": [
      "Lengths of each word: [6, 14, 9]\n"
     ]
    }
   ],
   "source": [
    "# 15. Input a sentence and create list of lengths of each word\n",
    "sentence = input(\"Enter a sentence: \")\n",
    "words = sentence.split()\n",
    "lengths = [len(word) for word in words]\n",
    "print(\"Lengths of each word:\", lengths)"
   ]
  },
  {
   "cell_type": "code",
   "execution_count": 30,
   "id": "f734edfb-57be-4e73-847a-f4cc0c100744",
   "metadata": {},
   "outputs": [
    {
     "name": "stdout",
     "output_type": "stream",
     "text": [
      "[[1, 4], [2, 5], [3, 6]]\n"
     ]
    }
   ],
   "source": [
    "# 16. Nested comprehension: transpose a matrix \n",
    "# [[1,2,3],[4,5,6]] [[1,4],[2,5],[3,6]]\n",
    "matrix = [[1, 2, 3], [4, 5, 6]]\n",
    "transpose = [[row[i] for row in matrix] for i in range(len(matrix[0]))]\n",
    "print(transpose)"
   ]
  },
  {
   "cell_type": "code",
   "execution_count": 32,
   "id": "aef35e92-27d1-47f2-8f88-2fdbbe5b6b70",
   "metadata": {},
   "outputs": [
    {
     "name": "stdout",
     "output_type": "stream",
     "text": [
      "[36, 49, 81]\n"
     ]
    }
   ],
   "source": [
    "# 17. Use map + filter: square numbers > 5 from a given list\n",
    "numbers = [2, 4, 6, 7, 1, 9, 3]\n",
    "result = list(map(lambda x: x**2, filter(lambda x: x > 5, numbers)))\n",
    "print(result)"
   ]
  },
  {
   "cell_type": "code",
   "execution_count": 34,
   "id": "b5edc493-fdab-4724-baf0-ba21fff49cf8",
   "metadata": {},
   "outputs": [
    {
     "name": "stdout",
     "output_type": "stream",
     "text": [
      "deepthi is learning python\n"
     ]
    }
   ],
   "source": [
    "# 18. Use reduce to concatenate a list of strings into one\n",
    "words = [\"deepthi\",\"is\",\"learning\",\"python\"]\n",
    "res = reduce(lambda x,y:x+ \" \" + y,words)\n",
    "print(res)"
   ]
  },
  {
   "cell_type": "code",
   "execution_count": 2,
   "id": "31577b69-22d5-489b-af1b-e68e922c111d",
   "metadata": {},
   "outputs": [
    {
     "name": "stdout",
     "output_type": "stream",
     "text": [
      "[['S', 'n'], ['Rv', 'Dpth']]\n"
     ]
    }
   ],
   "source": [
    "#  19. Nested comprehension: remove vowels from each word in list of\n",
    "# lists [[\"Sai\",\"Anu\"],[\"Ravi\",\"Deepthi\"]]\n",
    "lsts = [[\"Sai\",\"Anu\"],[\"Ravi\",\"Deepthi\"]]\n",
    "vowels = \"aeiouAEIOU\"\n",
    "ans = [[''.join(i for i in word if i not in vowels) for word in lst] for lst in lsts ]\n",
    "print(ans)\n"
   ]
  },
  {
   "cell_type": "code",
   "execution_count": 38,
   "id": "90cd0590-81e0-4f2a-bce3-056ee23fd702",
   "metadata": {},
   "outputs": [
    {
     "name": "stdout",
     "output_type": "stream",
     "text": [
      "633\n"
     ]
    }
   ],
   "source": [
    "#  20. Combine map + reduce: find sum of squares of a list\n",
    "from functools import reduce\n",
    "numbers = [18, 10, 14, 2, 3]\n",
    "sum_of_squares = reduce(lambda x, y: x + y, map(lambda x: x**2, numbers))\n",
    "print(sum_of_squares)"
   ]
  },
  {
   "cell_type": "code",
   "execution_count": null,
   "id": "ca603e22-5314-4509-ab84-780859e05adc",
   "metadata": {},
   "outputs": [],
   "source": []
  }
 ],
 "metadata": {
  "kernelspec": {
   "display_name": "Python 3 (ipykernel)",
   "language": "python",
   "name": "python3"
  },
  "language_info": {
   "codemirror_mode": {
    "name": "ipython",
    "version": 3
   },
   "file_extension": ".py",
   "mimetype": "text/x-python",
   "name": "python",
   "nbconvert_exporter": "python",
   "pygments_lexer": "ipython3",
   "version": "3.10.11"
  }
 },
 "nbformat": 4,
 "nbformat_minor": 5
}
