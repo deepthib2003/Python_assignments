{
 "cells": [
  {
   "cell_type": "markdown",
   "id": "8c077391-0468-4805-a958-6e5a17e9243a",
   "metadata": {},
   "source": [
    "Day 4 -1 Assignment"
   ]
  },
  {
   "cell_type": "code",
   "execution_count": 2,
   "id": "c3dacc8b-bb53-43c9-a12e-5cf0c6b717fa",
   "metadata": {},
   "outputs": [
    {
     "name": "stdout",
     "output_type": "stream",
     "text": [
      "14\n"
     ]
    }
   ],
   "source": [
    "#Arithmetic Eval\n",
    "x = eval(\"2+3*4\")\n",
    "print(x)"
   ]
  },
  {
   "cell_type": "code",
   "execution_count": 8,
   "id": "a4ec3a49-7ef8-432d-9461-6fef5b4994f3",
   "metadata": {},
   "outputs": [
    {
     "name": "stdin",
     "output_type": "stream",
     "text": [
      "Enter a math expression:  10/2+5\n"
     ]
    },
    {
     "name": "stdout",
     "output_type": "stream",
     "text": [
      "10.0\n"
     ]
    }
   ],
   "source": [
    "# Simple Math Expression\n",
    "x = (input(\"Enter a math expression: \"))\n",
    "answer = eval(x)\n",
    "print(answer)"
   ]
  },
  {
   "cell_type": "code",
   "execution_count": 13,
   "id": "c66cef80-f033-4d7b-893a-c5422e0bdae3",
   "metadata": {},
   "outputs": [
    {
     "name": "stdout",
     "output_type": "stream",
     "text": [
      "Hello World\n"
     ]
    }
   ],
   "source": [
    "# String Eval\n",
    "x = eval(\"'Hello' ' ' +  'World'\")\n",
    "print(x)"
   ]
  },
  {
   "cell_type": "code",
   "execution_count": 16,
   "id": "9b810472-3400-4bb7-a19e-9f2b38ad93fb",
   "metadata": {},
   "outputs": [
    {
     "name": "stdin",
     "output_type": "stream",
     "text": [
      "Enter any math expression:  5>3\n"
     ]
    },
    {
     "name": "stdout",
     "output_type": "stream",
     "text": [
      "True\n"
     ]
    }
   ],
   "source": [
    "# Boolean Eval\n",
    "x = bool(eval(input(\"Enter any math expression: \")))\n",
    "print(x)"
   ]
  },
  {
   "cell_type": "code",
   "execution_count": 18,
   "id": "f7b6a6ed-0ca2-4a8a-a6dc-6a4d98f8f628",
   "metadata": {},
   "outputs": [
    {
     "name": "stdin",
     "output_type": "stream",
     "text": [
      "Enter any arthimetic expression:  5 + 3\n",
      "Enter any string expression:  \"Hello\" + \"World\"\n",
      "Enter any boolean expression:  18 > 10\n"
     ]
    },
    {
     "name": "stdout",
     "output_type": "stream",
     "text": [
      "8\n",
      "HelloWorld\n",
      "True\n"
     ]
    }
   ],
   "source": [
    "# Multiple Expressions\n",
    "exp1 = eval(input(\"Enter any arthimetic expression: \"))\n",
    "exp2 = eval(input(\"Enter any string expression: \"))\n",
    "exp3 = eval(input(\"Enter any boolean expression: \"))\n",
    "print(exp1)\n",
    "print(exp2)\n",
    "print(exp3)"
   ]
  },
  {
   "cell_type": "code",
   "execution_count": 20,
   "id": "c8bde2bb-26e2-4129-958d-c3144ef07bfe",
   "metadata": {},
   "outputs": [
    {
     "name": "stdin",
     "output_type": "stream",
     "text": [
      "Enter first number:  18\n",
      "Enter second number:  21\n"
     ]
    },
    {
     "name": "stdout",
     "output_type": "stream",
     "text": [
      "True\n"
     ]
    }
   ],
   "source": [
    "# Basic Logical Operator\n",
    "num1 = int(input(\"Enter first number: \"))\n",
    "num2 = int(input(\"Enter second number: \"))\n",
    "if num1 > 10 and num2 > 10:\n",
    "    print(\"True\")\n",
    "else:\n",
    "    print(\"False\")"
   ]
  },
  {
   "cell_type": "code",
   "execution_count": 21,
   "id": "ea4a687f-28ac-463d-8d6b-dff295b8c997",
   "metadata": {},
   "outputs": [
    {
     "name": "stdout",
     "output_type": "stream",
     "text": [
      "False\n"
     ]
    }
   ],
   "source": [
    "# Using not\n",
    "x = not(True)\n",
    "print(x)"
   ]
  },
  {
   "cell_type": "code",
   "execution_count": 27,
   "id": "5b6461e7-215f-4fb3-a704-bc2d9d8e973e",
   "metadata": {},
   "outputs": [
    {
     "name": "stdin",
     "output_type": "stream",
     "text": [
      "Enter an expression using a and b:  a + b\n"
     ]
    },
    {
     "name": "stdout",
     "output_type": "stream",
     "text": [
      "15\n"
     ]
    },
    {
     "name": "stdin",
     "output_type": "stream",
     "text": [
      "Enter an expression using a and b:  a * b\n"
     ]
    },
    {
     "name": "stdout",
     "output_type": "stream",
     "text": [
      "50\n"
     ]
    },
    {
     "name": "stdin",
     "output_type": "stream",
     "text": [
      "Enter an expression using a and b:  (a + b) * 2\n"
     ]
    },
    {
     "name": "stdout",
     "output_type": "stream",
     "text": [
      "30\n"
     ]
    }
   ],
   "source": [
    "# Expression Evaluator with Variables\n",
    "a = 10\n",
    "b = 5\n",
    "expr = input(\"Enter an expression using a and b: \")\n",
    "print(eval(expr))\n",
    "expr = input(\"Enter an expression using a and b: \")\n",
    "print(eval(expr))\n",
    "expr = input(\"Enter an expression using a and b: \")\n",
    "print(eval(expr))"
   ]
  },
  {
   "cell_type": "code",
   "execution_count": 29,
   "id": "80262d44-b1c9-46c6-9da3-817306c47840",
   "metadata": {},
   "outputs": [
    {
     "name": "stdin",
     "output_type": "stream",
     "text": [
      "Enter a number:  45\n"
     ]
    },
    {
     "name": "stdout",
     "output_type": "stream",
     "text": [
      "True\n"
     ]
    }
   ],
   "source": [
    "# Logical Combo– Range Check\n",
    "a = int(input(\"Enter a number: \"))\n",
    "print(a >= 10 and a <= 50)"
   ]
  },
  {
   "cell_type": "code",
   "execution_count": 31,
   "id": "49a9de05-0a74-4a26-9e80-c067a43f43f8",
   "metadata": {},
   "outputs": [
    {
     "name": "stdout",
     "output_type": "stream",
     "text": [
      "True\n"
     ]
    }
   ],
   "source": [
    "# Logical or\n",
    "str1 = \" Python is a programming language\"\n",
    "str2 = \" She is learning python\"\n",
    "print( \"python\" in str1.lower()  or \"python\" in str2.lower())"
   ]
  },
  {
   "cell_type": "code",
   "execution_count": 32,
   "id": "ca7cfed0-27fc-45f3-a3d5-a25d894e4434",
   "metadata": {},
   "outputs": [
    {
     "name": "stdin",
     "output_type": "stream",
     "text": [
      "Enter first number:  2\n",
      "Enter second number:  8\n"
     ]
    },
    {
     "name": "stdout",
     "output_type": "stream",
     "text": [
      "True\n"
     ]
    }
   ],
   "source": [
    "# Even-Odd Check with Logical Ops\n",
    "num1 = int(input(\"Enter first number: \"))\n",
    "num2 = int(input(\"Enter second number: \"))\n",
    "print( (num1 % 2 == 0 and num2 % 2 == 0) or (num1 % 2 != 0 and num2 % 2 != 0))"
   ]
  },
  {
   "cell_type": "code",
   "execution_count": 42,
   "id": "0b68fa60-0309-4cc8-905d-11d42381a59d",
   "metadata": {},
   "outputs": [
    {
     "name": "stdout",
     "output_type": "stream",
     "text": [
      "True\n",
      "True\n",
      "True\n"
     ]
    }
   ],
   "source": [
    "#Boolean Eval\n",
    "print(eval(\"10 > 5 and 3 < 8\"))\n",
    "print(eval('7 == 7 or 8 != 2'))\n",
    "print(eval(\"not(4<2)\"))"
   ]
  },
  {
   "cell_type": "code",
   "execution_count": 43,
   "id": "27dc7eda-2f72-445a-a92e-ce2582c8c8e6",
   "metadata": {},
   "outputs": [
    {
     "name": "stdin",
     "output_type": "stream",
     "text": [
      "Enter an expression:  10>5 and 6<8\n"
     ]
    },
    {
     "name": "stdout",
     "output_type": "stream",
     "text": [
      "True\n"
     ]
    }
   ],
   "source": [
    "# Logical Expression Test\n",
    "exp = input(\"Enter an expression: \")\n",
    "print(eval(exp))"
   ]
  },
  {
   "cell_type": "code",
   "execution_count": 47,
   "id": "895c9586-4bd7-44e9-b239-6257764446b6",
   "metadata": {},
   "outputs": [
    {
     "name": "stdin",
     "output_type": "stream",
     "text": [
      "Enter first number:  26\n",
      "Enter second number:  28\n"
     ]
    },
    {
     "name": "stdout",
     "output_type": "stream",
     "text": [
      "True\n"
     ]
    }
   ],
   "source": [
    "# Arithmetic + Logical Mix\n",
    "num1 = int(input(\"Enter first number: \"))\n",
    "num2 = int(input(\"Enter second number: \"))\n",
    "print((num1 + num2) > 50 and num1 != num2)"
   ]
  },
  {
   "cell_type": "code",
   "execution_count": 48,
   "id": "05f8aa62-4ca5-4667-90c8-73f776c26895",
   "metadata": {},
   "outputs": [
    {
     "name": "stdin",
     "output_type": "stream",
     "text": [
      "number operator number 12 * 3\n"
     ]
    },
    {
     "name": "stdout",
     "output_type": "stream",
     "text": [
      "36\n"
     ]
    }
   ],
   "source": [
    "#Custom Calculator\n",
    "x = input(\"number operator number\")\n",
    "print(eval(x))"
   ]
  },
  {
   "cell_type": "code",
   "execution_count": 51,
   "id": "ba9b731c-d82e-4e37-a0c4-adb5c43e5beb",
   "metadata": {},
   "outputs": [
    {
     "name": "stdout",
     "output_type": "stream",
     "text": [
      "python python python \n"
     ]
    }
   ],
   "source": [
    "#Eval with Strings and Arithmetic\n",
    "print(eval(\"'python ' * 3\"))"
   ]
  },
  {
   "cell_type": "code",
   "execution_count": 58,
   "id": "69b80f98-054d-4aa3-b704-2c6e7b57f9a8",
   "metadata": {},
   "outputs": [
    {
     "name": "stdin",
     "output_type": "stream",
     "text": [
      "Enter your age:  23\n"
     ]
    },
    {
     "name": "stdout",
     "output_type": "stream",
     "text": [
      "Adult\n"
     ]
    }
   ],
   "source": [
    "age = int(input(\"Enter your age: \"))\n",
    "\n",
    "print(eval('(age >= 13 and age <=19 and \"Teen\") or ' \n",
    "           '(age >= 20 and age <=59 and \"Adult\") or'\n",
    "           '(age >=60 and \"Senior\")'))"
   ]
  },
  {
   "cell_type": "code",
   "execution_count": 61,
   "id": "60ea4098-8303-4945-88bf-d3acfeba2305",
   "metadata": {},
   "outputs": [
    {
     "name": "stdin",
     "output_type": "stream",
     "text": [
      "Enter first expression:  x < y and y < z\n",
      "Enter second expression:  not(x > y) or z > y\n"
     ]
    },
    {
     "name": "stdout",
     "output_type": "stream",
     "text": [
      "True\n",
      "True\n"
     ]
    }
   ],
   "source": [
    "# Expression Tester (Complex)\n",
    "x = 5\n",
    "y = 10\n",
    "z = 15\n",
    "exp1 = input(\"Enter first expression: \")\n",
    "exp2 = input(\"Enter second expression: \")\n",
    "print(eval(exp1))\n",
    "print(eval(exp2))"
   ]
  },
  {
   "cell_type": "code",
   "execution_count": 62,
   "id": "e7e1d403-3a22-4c03-80a9-4f6c0dd473ee",
   "metadata": {},
   "outputs": [
    {
     "name": "stdin",
     "output_type": "stream",
     "text": [
      "Enter an arithmetic expression:  20 // 3 + 2 ** 3\n"
     ]
    },
    {
     "name": "stdout",
     "output_type": "stream",
     "text": [
      "14\n"
     ]
    }
   ],
   "source": [
    "# Safe Math Evaluator\n",
    "x = input(\"Enter an arithmetic expression: \")\n",
    "print(eval(x))"
   ]
  },
  {
   "cell_type": "code",
   "execution_count": 63,
   "id": "6d9bdd5c-fb9d-495f-a446-91f52ce1d3eb",
   "metadata": {},
   "outputs": [
    {
     "name": "stdin",
     "output_type": "stream",
     "text": [
      "Enter 1st boolean value:  True\n",
      "Enter 2nd boolean value:  False\n"
     ]
    },
    {
     "name": "stdout",
     "output_type": "stream",
     "text": [
      "False\n",
      "True\n",
      "False\n"
     ]
    }
   ],
   "source": [
    "#Logical Gate Simulator\n",
    "bool1 = eval(input(\"Enter 1st boolean value: \"))\n",
    "bool2 = eval(input(\"Enter 2nd boolean value: \"))\n",
    "print( bool1 and bool2)\n",
    "print( bool1 or bool2)\n",
    "print( not bool1)"
   ]
  },
  {
   "cell_type": "code",
   "execution_count": null,
   "id": "cdc8fa8a-0529-44aa-9dfb-c57c6c5b64a9",
   "metadata": {},
   "outputs": [],
   "source": []
  }
 ],
 "metadata": {
  "kernelspec": {
   "display_name": "Python 3 (ipykernel)",
   "language": "python",
   "name": "python3"
  },
  "language_info": {
   "codemirror_mode": {
    "name": "ipython",
    "version": 3
   },
   "file_extension": ".py",
   "mimetype": "text/x-python",
   "name": "python",
   "nbconvert_exporter": "python",
   "pygments_lexer": "ipython3",
   "version": "3.10.11"
  }
 },
 "nbformat": 4,
 "nbformat_minor": 5
}
