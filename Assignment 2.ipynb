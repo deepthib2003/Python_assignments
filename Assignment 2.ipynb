{
 "cells": [
  {
   "cell_type": "markdown",
   "id": "b921863c-693b-445c-bf63-f263a5327da6",
   "metadata": {},
   "source": [
    "Day 2 Assignment"
   ]
  },
  {
   "cell_type": "code",
   "execution_count": 2,
   "id": "f9ad98e0-e1b2-4bdb-8c5e-63d2d2f7e3e3",
   "metadata": {},
   "outputs": [
    {
     "name": "stdin",
     "output_type": "stream",
     "text": [
      " Enter a number :  18\n"
     ]
    },
    {
     "name": "stdout",
     "output_type": "stream",
     "text": [
      "18\n"
     ]
    }
   ],
   "source": [
    "#Take a number input and print it.\n",
    "num = int(input(\" Enter a number : \"))\n",
    "print(num)"
   ]
  },
  {
   "cell_type": "code",
   "execution_count": 3,
   "id": "9116141f-d7ca-4076-94ab-1e58f0d90da6",
   "metadata": {},
   "outputs": [
    {
     "name": "stdout",
     "output_type": "stream",
     "text": [
      "28\n"
     ]
    }
   ],
   "source": [
    "# Take two numbers as input, convert to int, and print their sum.\n",
    "num1 = 18\n",
    "num2 = 10\n",
    "num1 = int(num1)\n",
    "num2 = int(num2)\n",
    "print(num1 + num2)"
   ]
  },
  {
   "cell_type": "code",
   "execution_count": 4,
   "id": "164c083c-985c-46db-8f12-283c40e7ea58",
   "metadata": {},
   "outputs": [
    {
     "name": "stdin",
     "output_type": "stream",
     "text": [
      " Enter your name :  Deepthi\n",
      " Enter your age :  23\n"
     ]
    },
    {
     "name": "stdout",
     "output_type": "stream",
     "text": [
      "MY name is Deepthi  and I am  23  years old.\n"
     ]
    }
   ],
   "source": [
    "#Input name and age, then print:\n",
    "name = str(input(\" Enter your name : \"))\n",
    "age = int(input(\" Enter your age : \"))\n",
    "print(\"MY name is \" + name , \" and I am \" , age ,\" years old.\") "
   ]
  },
  {
   "cell_type": "code",
   "execution_count": 6,
   "id": "9271083c-2563-4fd9-bd3a-4c1e163a5c32",
   "metadata": {},
   "outputs": [
    {
     "name": "stdin",
     "output_type": "stream",
     "text": [
      " Enter a number :  3\n",
      " Enter a number :  18\n"
     ]
    },
    {
     "name": "stdout",
     "output_type": "stream",
     "text": [
      "54\n"
     ]
    }
   ],
   "source": [
    "#Input two numbers and print their product.\n",
    "num1 = int(input(\" Enter a number : \"))\n",
    "num2 = int(input(\" Enter a number : \"))\n",
    "print(num1 * num2)"
   ]
  },
  {
   "cell_type": "code",
   "execution_count": 7,
   "id": "87f0c640-53f9-40a8-864a-1df988c6ce6c",
   "metadata": {},
   "outputs": [
    {
     "name": "stdin",
     "output_type": "stream",
     "text": [
      " Enter a number :  8.3\n"
     ]
    },
    {
     "name": "stdout",
     "output_type": "stream",
     "text": [
      "83.0\n"
     ]
    }
   ],
   "source": [
    "#Input a float number and print it multiplied by 10.\n",
    "num = float(input(\" Enter a number : \"))\n",
    "print(num * 10)"
   ]
  },
  {
   "cell_type": "code",
   "execution_count": 9,
   "id": "0cda2f2f-1e79-45fd-87c7-f0e81c459c7d",
   "metadata": {},
   "outputs": [
    {
     "name": "stdin",
     "output_type": "stream",
     "text": [
      "Enter something:  Sreeramulu\n"
     ]
    },
    {
     "name": "stdout",
     "output_type": "stream",
     "text": [
      "<class 'str'>\n"
     ]
    }
   ],
   "source": [
    "#Show the type of the input received:\n",
    "x = input(\"Enter something: \")\n",
    "print(type(x))"
   ]
  },
  {
   "cell_type": "code",
   "execution_count": 11,
   "id": "e97d85e2-b78a-4fe2-aefd-badfac188080",
   "metadata": {},
   "outputs": [
    {
     "name": "stdin",
     "output_type": "stream",
     "text": [
      " Enter a first subject marks  :  96\n",
      " Enter a second subject marks :  98\n",
      " Enter a third subject marks :  92\n"
     ]
    },
    {
     "name": "stdout",
     "output_type": "stream",
     "text": [
      " Total marks :  286\n",
      " Average marks :  143.0\n"
     ]
    }
   ],
   "source": [
    "# Input 3 subject marks and print:\n",
    "subject1 = int(input(\" Enter a first subject marks  : \"))\n",
    "subject2 = int(input(\" Enter a second subject marks : \"))\n",
    "subject3 = int(input(\" Enter a third subject marks : \"))\n",
    "print(\" Total marks : \" , subject1 + subject2 + subject3)\n",
    "print(\" Average marks : \" , (subject1 + subject2 + subject3)/2)"
   ]
  },
  {
   "cell_type": "code",
   "execution_count": 13,
   "id": "df875340-43fc-4ec2-9498-6362bcb938f6",
   "metadata": {},
   "outputs": [
    {
     "name": "stdin",
     "output_type": "stream",
     "text": [
      " Enter radius of circle :  6\n"
     ]
    },
    {
     "name": "stdout",
     "output_type": "stream",
     "text": [
      "The area of the circle is :  113.03999999999999\n"
     ]
    }
   ],
   "source": [
    "# Input radius of a circle and print its area.\n",
    "r = float(input(\" Enter radius of circle : \"))\n",
    "area = 3.14 * r * r\n",
    "print(\"The area of the circle is : \" ,area)"
   ]
  },
  {
   "cell_type": "code",
   "execution_count": 14,
   "id": "dcda7199-7580-43ed-8fba-02da882e3b62",
   "metadata": {},
   "outputs": [
    {
     "name": "stdout",
     "output_type": "stream",
     "text": [
      "30\n",
      "6\n",
      "216\n",
      "1.5\n",
      "1\n",
      "6\n",
      "1156831381426176\n"
     ]
    }
   ],
   "source": [
    "#Take 2 numbers and print the result of all operations: +, -, *, /, //, %, **\n",
    "num1 = 18\n",
    "num2 = 12\n",
    "print(num1 + num2)\n",
    "print(num1 - num2)\n",
    "print(num1 * num2)\n",
    "print(num1 / num2)\n",
    "print(num1 // num2)\n",
    "print(num1 % num2)\n",
    "print(num1 ** num2)"
   ]
  },
  {
   "cell_type": "code",
   "execution_count": 15,
   "id": "23137a4b-0c3d-487d-ad59-9fbc284c8d5e",
   "metadata": {},
   "outputs": [
    {
     "name": "stdout",
     "output_type": "stream",
     "text": [
      "Average of these numbers are :  29.0\n"
     ]
    }
   ],
   "source": [
    "#Take 3 numbers and print their average.\n",
    "num1 = 12\n",
    "num2 = 18\n",
    "num3 = 28\n",
    "print(\"Average of these numbers are : \" , (num1 + num2 + num3)/2)"
   ]
  },
  {
   "cell_type": "code",
   "execution_count": 16,
   "id": "238a3992-1db1-49ec-9054-f7c335a341f3",
   "metadata": {},
   "outputs": [
    {
     "name": "stdin",
     "output_type": "stream",
     "text": [
      " Enter a side of a square :  4\n"
     ]
    },
    {
     "name": "stdout",
     "output_type": "stream",
     "text": [
      " The area of a square is :  16.0\n"
     ]
    }
   ],
   "source": [
    "# Input side of a square, print its area.\n",
    "side = float(input(\" Enter a side of a square : \"))\n",
    "area = side * side\n",
    "print(\" The area of a square is : \" , area)"
   ]
  },
  {
   "cell_type": "code",
   "execution_count": 22,
   "id": "b4afe6a3-369b-4b54-8655-6cf0d8084b3b",
   "metadata": {},
   "outputs": [
    {
     "name": "stdout",
     "output_type": "stream",
     "text": [
      " The Greatest number is :  18\n"
     ]
    }
   ],
   "source": [
    "# Input two numbers and print:\n",
    "num1 = 5\n",
    "num2 = 18\n",
    "if num1 > num2 :\n",
    "  print(\" The Greatest number is : \", num1)\n",
    "else :\n",
    "  print(\" The Greatest number is : \", num2)"
   ]
  },
  {
   "cell_type": "code",
   "execution_count": 29,
   "id": "dd9c183f-99d4-4a64-bbed-57ee2ae47109",
   "metadata": {},
   "outputs": [
    {
     "name": "stdout",
     "output_type": "stream",
     "text": [
      "Total:  20\n",
      " Average :  10.0\n"
     ]
    }
   ],
   "source": [
    "#Take 5 numbers and print their total and average.\n",
    "numbers = 2,3,4,5,6\n",
    "print(\"Total: \",  sum(numbers))\n",
    "print(\" Average : \" , sum(numbers)/2)"
   ]
  },
  {
   "cell_type": "code",
   "execution_count": 30,
   "id": "f1b0a404-b61b-400e-9807-7184337cd0f5",
   "metadata": {},
   "outputs": [
    {
     "name": "stdin",
     "output_type": "stream",
     "text": [
      "Enter the length of the rectangle:  12\n",
      "Enter the breadth of the rectangle:  6\n"
     ]
    },
    {
     "name": "stdout",
     "output_type": "stream",
     "text": [
      "The area of the rectangle is: 72.0\n",
      "The perimeter of the rectangle is: 36.0\n"
     ]
    }
   ],
   "source": [
    "# Input length and breadth, calculate area and perimeter of a rectangle.\n",
    "length = float(input(\"Enter the length of the rectangle: \"))\n",
    "breadth = float(input(\"Enter the breadth of the rectangle: \"))\n",
    "area = length * breadth\n",
    "perimeter = 2 * (length + breadth)\n",
    "print(\"The area of the rectangle is:\", area)\n",
    "print(\"The perimeter of the rectangle is:\", perimeter)"
   ]
  },
  {
   "cell_type": "code",
   "execution_count": 32,
   "id": "3a4f0688-5e9e-41ea-b697-2df3945924d5",
   "metadata": {},
   "outputs": [
    {
     "name": "stdin",
     "output_type": "stream",
     "text": [
      " Enter a number :  8\n"
     ]
    },
    {
     "name": "stdout",
     "output_type": "stream",
     "text": [
      "16\n",
      "4.0\n",
      "64\n",
      "512\n"
     ]
    }
   ],
   "source": [
    "#. Input a number. Print:\n",
    "num = int(input(\" Enter a number : \"))\n",
    "print(num * 2)\n",
    "print(num / 2)\n",
    "print(num ** 2)\n",
    "print(num ** 3)"
   ]
  },
  {
   "cell_type": "code",
   "execution_count": 34,
   "id": "b4abde6a-6ae8-419e-8b67-3d94a6f94d3c",
   "metadata": {},
   "outputs": [
    {
     "name": "stdout",
     "output_type": "stream",
     "text": [
      " The larger number is :  18\n"
     ]
    }
   ],
   "source": [
    "# Input two numbers and print the larger one using a single line:\n",
    "x = 18\n",
    "y = 10\n",
    "print(\" The larger number is : \" , max(x,y))"
   ]
  },
  {
   "cell_type": "code",
   "execution_count": 35,
   "id": "1e00b59a-23a8-4ab7-81c0-7b64c96967c5",
   "metadata": {},
   "outputs": [
    {
     "name": "stdout",
     "output_type": "stream",
     "text": [
      "83\n"
     ]
    }
   ],
   "source": [
    "# Take 2 numbers. Without using +, calculate and print their sum using:\n",
    "a = 25\n",
    "b = 58\n",
    "print(a-(-b))"
   ]
  },
  {
   "cell_type": "code",
   "execution_count": 36,
   "id": "7d5a684b-184c-4abf-80b3-2123c05c3b58",
   "metadata": {},
   "outputs": [
    {
     "name": "stdin",
     "output_type": "stream",
     "text": [
      " Enter the current year :  2025\n",
      " Enter your birth year :  2003\n"
     ]
    },
    {
     "name": "stdout",
     "output_type": "stream",
     "text": [
      " Your age is :  22\n"
     ]
    }
   ],
   "source": [
    "current_year = int(input(\" Enter the current year : \"))\n",
    "birth_year = int(input(\" Enter your birth year : \"))\n",
    "age = current_year - birth_year\n",
    "print(\" Your age is : \" , age)"
   ]
  },
  {
   "cell_type": "code",
   "execution_count": 38,
   "id": "72813de2-8770-4b1a-b948-5accb3e58a68",
   "metadata": {},
   "outputs": [
    {
     "name": "stdin",
     "output_type": "stream",
     "text": [
      "Enter any number:  45\n"
     ]
    },
    {
     "name": "stdout",
     "output_type": "stream",
     "text": [
      "Last digit: 5\n"
     ]
    }
   ],
   "source": [
    "# Input any number and print:\n",
    "num = int(input(\"Enter any number: \"))\n",
    "last_digit = num % 10\n",
    "print(\"Last digit:\", last_digit)"
   ]
  },
  {
   "cell_type": "code",
   "execution_count": 39,
   "id": "9686d4ac-5ef3-4dd0-87fd-862db00c5bb2",
   "metadata": {},
   "outputs": [
    {
     "name": "stdin",
     "output_type": "stream",
     "text": [
      "Enter marks for Subject 1 (out of 100):  78\n",
      "Enter marks for Subject 2 (out of 100):  94\n",
      "Enter marks for Subject 3 (out of 100):  34\n",
      "Enter marks for Subject 4 (out of 100):  89\n",
      "Enter marks for Subject 5 (out of 100):  91\n"
     ]
    },
    {
     "name": "stdout",
     "output_type": "stream",
     "text": [
      "\n",
      "Total Marks: 386\n",
      "Percentage: 77.2 %\n",
      "Result: Fail\n"
     ]
    }
   ],
   "source": [
    "# Input marks in 5 subjects. Each subject is out of 100. Print:\n",
    "sub1 = int(input(\"Enter marks for Subject 1 (out of 100): \"))\n",
    "sub2 = int(input(\"Enter marks for Subject 2 (out of 100): \"))\n",
    "sub3 = int(input(\"Enter marks for Subject 3 (out of 100): \"))\n",
    "sub4 = int(input(\"Enter marks for Subject 4 (out of 100): \"))\n",
    "sub5 = int(input(\"Enter marks for Subject 5 (out of 100): \"))\n",
    "total = sub1 + sub2 + sub3 + sub4 + sub5\n",
    "percentage = total / 5\n",
    "if sub1 >= 35 and sub2 >= 35 and sub3 >= 35 and sub4 >= 35 and sub5 >= 35:\n",
    "    result = \"Pass\"\n",
    "else:\n",
    "    result = \"Fail\"\n",
    "\n",
    "# Print results\n",
    "print(\"\\nTotal Marks:\", total)\n",
    "print(\"Percentage:\", percentage, \"%\")\n",
    "print(\"Result:\", result)"
   ]
  },
  {
   "cell_type": "code",
   "execution_count": null,
   "id": "909a1ea3-cdd6-4620-9e87-7d56d42fb9e6",
   "metadata": {},
   "outputs": [],
   "source": []
  }
 ],
 "metadata": {
  "kernelspec": {
   "display_name": "Python 3 (ipykernel)",
   "language": "python",
   "name": "python3"
  },
  "language_info": {
   "codemirror_mode": {
    "name": "ipython",
    "version": 3
   },
   "file_extension": ".py",
   "mimetype": "text/x-python",
   "name": "python",
   "nbconvert_exporter": "python",
   "pygments_lexer": "ipython3",
   "version": "3.10.11"
  }
 },
 "nbformat": 4,
 "nbformat_minor": 5
}
