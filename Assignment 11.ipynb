{
 "cells": [
  {
   "cell_type": "markdown",
   "id": "9794407f-db59-49f3-8c6b-f55f2f644d4b",
   "metadata": {},
   "source": [
    "<h1>Day 11</h1>"
   ]
  },
  {
   "cell_type": "code",
   "execution_count": 2,
   "id": "deacf0b7-4963-4cf4-a7ef-241b6ce05419",
   "metadata": {},
   "outputs": [
    {
     "name": "stdout",
     "output_type": "stream",
     "text": [
      "Hello Python\n"
     ]
    }
   ],
   "source": [
    "# 1. Define afunction to print ”Hello Python”.\n",
    "def function():\n",
    "    print(\"Hello Python\")\n",
    "function()"
   ]
  },
  {
   "cell_type": "code",
   "execution_count": 4,
   "id": "9128b66f-c51b-4c54-b49d-2067cf8e9390",
   "metadata": {},
   "outputs": [
    {
     "name": "stdout",
     "output_type": "stream",
     "text": [
      "18\n"
     ]
    }
   ],
   "source": [
    "# 2. Define afunction to add 2 numbers and return result.\n",
    "def add(a,b):\n",
    "    return(a + b)\n",
    "print(add(8, 10))"
   ]
  },
  {
   "cell_type": "code",
   "execution_count": 6,
   "id": "6b0fcb62-741e-46f4-b64f-fd2c363ea39b",
   "metadata": {},
   "outputs": [
    {
     "name": "stdout",
     "output_type": "stream",
     "text": [
      "16\n"
     ]
    }
   ],
   "source": [
    "# 3. Define a function to find square of a number.\n",
    "def square(a):\n",
    "    return( a * a)\n",
    "print(square(4))"
   ]
  },
  {
   "cell_type": "code",
   "execution_count": 7,
   "id": "cd10b685-a372-4c4c-b109-98d8c83e81c7",
   "metadata": {},
   "outputs": [
    {
     "name": "stdout",
     "output_type": "stream",
     "text": [
      "Hello  Deepthi\n"
     ]
    }
   ],
   "source": [
    "# 4. Function that takes a name as parameter and prints a greeting.\n",
    "def greet(name):\n",
    "    print(\"Hello \" , name)\n",
    "greet(\"Deepthi\")"
   ]
  },
  {
   "cell_type": "code",
   "execution_count": 8,
   "id": "069dce3e-513f-4064-9d4e-ffab68393195",
   "metadata": {},
   "outputs": [
    {
     "name": "stdout",
     "output_type": "stream",
     "text": [
      "18\n"
     ]
    }
   ],
   "source": [
    "# 5. Function that returns the larger of 2 numbers.\n",
    "def maximum(x, y):\n",
    "    return max(x , y)\n",
    "print(maximum(18, 10))"
   ]
  },
  {
   "cell_type": "code",
   "execution_count": 71,
   "id": "af8e1fa2-87a6-4332-b14d-68c757588024",
   "metadata": {},
   "outputs": [
    {
     "name": "stdout",
     "output_type": "stream",
     "text": [
      "720\n"
     ]
    }
   ],
   "source": [
    "# 6. Function to find factorial of a number.\n",
    "def factorial(num):\n",
    "    fact = 1\n",
    "    for i in range(1, num + 1):\n",
    "        fact *= i\n",
    "    return fact\n",
    "print(factorial(6))"
   ]
  },
  {
   "cell_type": "code",
   "execution_count": 14,
   "id": "89791262-9086-4258-a323-ab684fbc8b47",
   "metadata": {},
   "outputs": [
    {
     "name": "stdout",
     "output_type": "stream",
     "text": [
      "False\n",
      "True\n"
     ]
    }
   ],
   "source": [
    "# 7. Function to check if a number is prime or not\n",
    "def is_prime(num):\n",
    "    if num <= 1:\n",
    "        return False\n",
    "    for i in range(2, int(num ** 0.5) + 1):\n",
    "        if num % i == 0:\n",
    "            return False\n",
    "    else:\n",
    "        return True\n",
    "print(is_prime(8))\n",
    "print(is_prime(5))"
   ]
  },
  {
   "cell_type": "code",
   "execution_count": 26,
   "id": "5223b6fd-9653-49eb-95b9-58a22cd3f949",
   "metadata": {},
   "outputs": [
    {
     "name": "stdout",
     "output_type": "stream",
     "text": [
      "87\n"
     ]
    }
   ],
   "source": [
    "# 8. Function to calculate sum of all numbers in a list.\n",
    "def sum_of_list(numbers):\n",
    "    total = 0\n",
    "    for num in numbers:\n",
    "        total += num\n",
    "    return total\n",
    "print(sum_of_list([12, 18, 21, 36]))"
   ]
  },
  {
   "cell_type": "code",
   "execution_count": 36,
   "id": "e2d16403-e8b0-4b6f-96f3-6fcd01d5bd88",
   "metadata": {},
   "outputs": [
    {
     "name": "stdout",
     "output_type": "stream",
     "text": [
      "4\n"
     ]
    }
   ],
   "source": [
    "# 9. Function to count vowels in a string.\n",
    "def count_vowels(string):\n",
    "    vowels = \"aeiou\"\n",
    "    count = 0\n",
    "    for i in string:\n",
    "        if i in vowels:\n",
    "            count += 1\n",
    "    return count\n",
    "print(count_vowels(\"Jayakrishna\"))"
   ]
  },
  {
   "cell_type": "code",
   "execution_count": 39,
   "id": "ee7dcf20-ec24-45bf-b871-94a4b007e1d2",
   "metadata": {},
   "outputs": [
    {
     "name": "stdout",
     "output_type": "stream",
     "text": [
      "[1, 2, 4, 7, 8, 14, 28, 56]\n"
     ]
    }
   ],
   "source": [
    "# 10. Function that takes a number and returns a list of its factors.\n",
    "def get_factor(num):\n",
    "    if num <= 0:\n",
    "        return \"Enter a positive integer: \"\n",
    "    factor = []\n",
    "    for i in range( 1, num + 1):\n",
    "        if num % i == 0:\n",
    "            factor.append(i)\n",
    "    return factor\n",
    "print(get_factor(56))"
   ]
  },
  {
   "cell_type": "code",
   "execution_count": 40,
   "id": "03be3cc7-8bea-4a91-8383-d3f01344e5b5",
   "metadata": {},
   "outputs": [
    {
     "name": "stdout",
     "output_type": "stream",
     "text": [
      "ihtpeeD\n"
     ]
    }
   ],
   "source": [
    "#11. Function that reverses a string\n",
    "def reverse_string(s):\n",
    "    return s[::-1]\n",
    "print(reverse_string(\"Deepthi\"))"
   ]
  },
  {
   "cell_type": "code",
   "execution_count": 42,
   "id": "503bb053-bdc0-4ed5-a1d7-071825fab7c8",
   "metadata": {},
   "outputs": [
    {
     "name": "stdout",
     "output_type": "stream",
     "text": [
      "56\n",
      "18\n"
     ]
    }
   ],
   "source": [
    "#  12. Function that finds second largest element in a list.\n",
    "def second_largest(numbers):\n",
    "    lst = list(set(numbers))\n",
    "    return lst[-2]\n",
    "print(second_largest([19, 99, 21, 27, 56]))\n",
    "print(second_largest([1, 6, 18, 54]))"
   ]
  },
  {
   "cell_type": "code",
   "execution_count": 44,
   "id": "860336fc-8b6e-411e-a6f3-4901a8f39c50",
   "metadata": {},
   "outputs": [
    {
     "name": "stdout",
     "output_type": "stream",
     "text": [
      "Hello Sai Teja\n"
     ]
    }
   ],
   "source": [
    "# 13. Function with default argument( like greeting someone by default”Guest”).\n",
    "def greet(guest = \"Sai Teja\"):\n",
    "    print(\"Hello\" , guest)\n",
    "greet()"
   ]
  },
  {
   "cell_type": "code",
   "execution_count": 49,
   "id": "def25a7d-056c-4f6d-946a-fc4450b21e99",
   "metadata": {},
   "outputs": [
    {
     "name": "stdout",
     "output_type": "stream",
     "text": [
      "17.5\n"
     ]
    }
   ],
   "source": [
    "#  14. Function using *args to calculate average of numbers.\n",
    "def avg(*args):\n",
    "    total = 0 \n",
    "    count = 0\n",
    "    for num in args:\n",
    "        total += num\n",
    "        count += 1\n",
    "        average = total / count\n",
    "    return average\n",
    "print(avg(1,15,16,38))"
   ]
  },
  {
   "cell_type": "code",
   "execution_count": 52,
   "id": "743ddaee-612c-4947-98ea-5413bda94812",
   "metadata": {},
   "outputs": [
    {
     "name": "stdout",
     "output_type": "stream",
     "text": [
      "False\n",
      "True\n",
      "False\n"
     ]
    }
   ],
   "source": [
    "#15. Function to check if a string is palindrome\n",
    "def is_palindrome(string):\n",
    "    return string == string[::-1]\n",
    "print(is_palindrome(\"Malayalam\"))\n",
    "print(is_palindrome(\"malayalam\"))\n",
    "print(is_palindrome(\"Mangalam\"))"
   ]
  },
  {
   "cell_type": "code",
   "execution_count": 53,
   "id": "8f3206f6-0930-4ee1-8712-3ef623a6f17f",
   "metadata": {},
   "outputs": [
    {
     "name": "stdout",
     "output_type": "stream",
     "text": [
      "[0, 1, 1, 2, 3, 5, 8, 13, 21, 34]\n"
     ]
    }
   ],
   "source": [
    "#  16. Function that takes a number N and returns Fibonacci series upto N terms\n",
    "def fibonacci_series(n):\n",
    "    series = []\n",
    "    a, b = 0, 1\n",
    "    for i in range(n):\n",
    "        series.append(a)\n",
    "        a, b = b, a + b\n",
    "    return series\n",
    "print(fibonacci_series(10))\n",
    "    "
   ]
  },
  {
   "cell_type": "code",
   "execution_count": 62,
   "id": "df72d98b-e26c-4fe4-bcff-d5be183fa4b0",
   "metadata": {},
   "outputs": [
    {
     "name": "stdout",
     "output_type": "stream",
     "text": [
      "{'function': 2, 'that': 1, 'counts': 1, 'frequency': 1, 'of': 1, 'words': 1, 'in': 2, 'a': 2, 'sentence': 1, 'using': 1, 'dictionary,': 1, 'to': 1, 'count': 1, 'vowels': 1, 'string': 1}\n"
     ]
    }
   ],
   "source": [
    "# 17. Function that counts frequency of words in a sentence using dictionary.\n",
    "def word_frequency(sentence):\n",
    "    words = sentence.split()\n",
    "    freq = {}\n",
    "    for word in words:\n",
    "        if word in freq:\n",
    "            freq[word] += 1\n",
    "        else:\n",
    "            freq[word] = 1\n",
    "    return freq\n",
    "sentence = \"function that counts frequency of words in a sentence using dictionary, function to count vowels in a string\"\n",
    "print(word_frequency(sentence))"
   ]
  },
  {
   "cell_type": "code",
   "execution_count": 66,
   "id": "d46a269f-df47-4715-a899-137f4b8e0ad9",
   "metadata": {},
   "outputs": [
    {
     "name": "stdout",
     "output_type": "stream",
     "text": [
      "name  :  Sreeramulu\n",
      "Experience  :   29 years \n",
      "emp_id  :  545\n"
     ]
    }
   ],
   "source": [
    "# 18. Function with **kwargs to print employee details.\n",
    "def employe(**kwargs):\n",
    "    for key,value in kwargs.items():\n",
    "        print(key, \" : \", value)\n",
    "employe( name = \"Sreeramulu\", Experience = \" 29 years \" , emp_id = 545)"
   ]
  },
  {
   "cell_type": "code",
   "execution_count": 67,
   "id": "b2476a2c-422e-4c1f-9ccc-c84758949065",
   "metadata": {},
   "outputs": [
    {
     "name": "stdout",
     "output_type": "stream",
     "text": [
      "25\n"
     ]
    }
   ],
   "source": [
    "#  19. Function that finds GCD of two numbers.\n",
    "def gcd(a, b):\n",
    "    while b != 0:\n",
    "        a , b = b, a % b\n",
    "    return a\n",
    "print(gcd(50,25))"
   ]
  },
  {
   "cell_type": "code",
   "execution_count": 68,
   "id": "32026fa5-4e85-4c27-9157-c79c54806ae1",
   "metadata": {},
   "outputs": [
    {
     "name": "stdout",
     "output_type": "stream",
     "text": [
      "8\n"
     ]
    }
   ],
   "source": [
    "# 20. Lambda function to calculate cube of a number.\n",
    "cube = lambda x: x ** 3\n",
    "print(cube(2))"
   ]
  },
  {
   "cell_type": "code",
   "execution_count": null,
   "id": "fa812e53-8ad9-4601-a547-aedd2fedb849",
   "metadata": {},
   "outputs": [],
   "source": []
  }
 ],
 "metadata": {
  "kernelspec": {
   "display_name": "Python 3 (ipykernel)",
   "language": "python",
   "name": "python3"
  },
  "language_info": {
   "codemirror_mode": {
    "name": "ipython",
    "version": 3
   },
   "file_extension": ".py",
   "mimetype": "text/x-python",
   "name": "python",
   "nbconvert_exporter": "python",
   "pygments_lexer": "ipython3",
   "version": "3.10.11"
  }
 },
 "nbformat": 4,
 "nbformat_minor": 5
}
