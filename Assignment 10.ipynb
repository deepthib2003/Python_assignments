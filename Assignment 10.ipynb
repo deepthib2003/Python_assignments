{
 "cells": [
  {
   "cell_type": "markdown",
   "id": "67a88ea5-0a73-4064-9ce5-3786c0a729c2",
   "metadata": {},
   "source": [
    "<h1>Day 10</h1>"
   ]
  },
  {
   "cell_type": "code",
   "execution_count": 1,
   "id": "9ce1941e-3f29-47ca-a19a-e7d55dc87198",
   "metadata": {},
   "outputs": [
    {
     "name": "stdout",
     "output_type": "stream",
     "text": [
      "{'name': 'Deepthi', 'age': 23, 'city': 'Hyderabad'}\n"
     ]
    }
   ],
   "source": [
    "# 1. Create a dictionary with details: name, age, city. Print all keys and values\n",
    "dct = {\"name\" : \"Deepthi\", \"age\" : 23, \"city\" : \"Hyderabad\"}\n",
    "print(dct)"
   ]
  },
  {
   "cell_type": "code",
   "execution_count": 5,
   "id": "57481ff2-42be-4391-95e6-98d8fd3a6ca9",
   "metadata": {},
   "outputs": [
    {
     "name": "stdout",
     "output_type": "stream",
     "text": [
      "Deepthi\n"
     ]
    }
   ],
   "source": [
    "# 2. Access a value safely using get().\n",
    "dct = {\"name\" : \"Deepthi\", \"age\" : 23, \"city\" : \"Hyderabad\"}\n",
    "print(dct.get(\"name\"))"
   ]
  },
  {
   "cell_type": "code",
   "execution_count": 7,
   "id": "f6ad55c6-6708-440c-abb8-4e633a0a15d7",
   "metadata": {},
   "outputs": [
    {
     "name": "stdout",
     "output_type": "stream",
     "text": [
      "{'name': 'Deepthi', 'age': 23, 'city': 'Hyderabad', 'Grade': 'A'}\n"
     ]
    }
   ],
   "source": [
    "# 3. Add anewkey”grade”toadictionary.\n",
    "dct[\"Grade\"]=\"A\"\n",
    "print(dct)"
   ]
  },
  {
   "cell_type": "code",
   "execution_count": 9,
   "id": "d6f220f7-a532-4a23-9ba9-2a46b37850de",
   "metadata": {},
   "outputs": [
    {
     "name": "stdout",
     "output_type": "stream",
     "text": [
      "{'name': 'Person', 'age': 20}\n",
      "{'name': 'Person', 'age': 21}\n"
     ]
    }
   ],
   "source": [
    "# 4. Update the ”age” of a person from 20 to 21\n",
    "data = {\"name\" : \"Person\" , \"age\" : 20}\n",
    "print(data)\n",
    "data[\"age\"]=21\n",
    "print(data)"
   ]
  },
  {
   "cell_type": "code",
   "execution_count": 10,
   "id": "75b9d3e1-9832-4126-bee4-3309101bd9e8",
   "metadata": {},
   "outputs": [
    {
     "name": "stdout",
     "output_type": "stream",
     "text": [
      "{'name': 'Deepthi', 'city': 'Hyderabad'}\n"
     ]
    }
   ],
   "source": [
    "# 5. Remove akeyusing pop().\n",
    "dct = {\"name\" : \"Deepthi\", \"age\" : 23, \"city\" : \"Hyderabad\"}\n",
    "dct.pop(\"age\")\n",
    "print(dct)"
   ]
  },
  {
   "cell_type": "code",
   "execution_count": 15,
   "id": "aba5522a-14b3-4d79-81d4-9cc01194b2ff",
   "metadata": {},
   "outputs": [
    {
     "data": {
      "text/plain": [
       "dict_keys(['Apple', 'Banana', 'Cherry', 'Dragon', 'Grapes'])"
      ]
     },
     "execution_count": 15,
     "metadata": {},
     "output_type": "execute_result"
    }
   ],
   "source": [
    "# 6. Create a dictionary of 5 fruits and their colors. Print only keys.\n",
    "fruits = {\"Apple\" : \"Red\" , \"Banana\" : \"Yellow\", \n",
    "          \"Cherry\" : \"Red\", \"Dragon\" : \"Pink\", \"Grapes\" : \"Black\"}\n",
    "fruits.keys()"
   ]
  },
  {
   "cell_type": "code",
   "execution_count": 16,
   "id": "59691e6f-49ab-4118-a85d-db66efe2f17d",
   "metadata": {},
   "outputs": [
    {
     "data": {
      "text/plain": [
       "dict_values(['Deepthi', 23, 'Hyderabad', 'A'])"
      ]
     },
     "execution_count": 16,
     "metadata": {},
     "output_type": "execute_result"
    }
   ],
   "source": [
    "#7. Print only values from a student dictionary\n",
    "students = {'name': 'Deepthi', 'age': 23, 'city': 'Hyderabad', 'Grade': 'A'}\n",
    "students.values()"
   ]
  },
  {
   "cell_type": "code",
   "execution_count": 20,
   "id": "b9c57dbd-0a4b-46ce-955c-800fa16b477b",
   "metadata": {},
   "outputs": [
    {
     "name": "stdout",
     "output_type": "stream",
     "text": [
      "name  :  Deepthi\n",
      "age  :  23\n",
      "city  :  Hyderabad\n"
     ]
    }
   ],
   "source": [
    "# 8. Loop through a dictionary and print all keys with values\n",
    "student = {\"name\" : \"Deepthi\", \"age\" : 23, \"city\" : \"Hyderabad\"}\n",
    "for key,value in student.items():\n",
    "    print(key, \" : \" ,value) "
   ]
  },
  {
   "cell_type": "code",
   "execution_count": 23,
   "id": "b4e8f949-d9d7-4049-9bf3-13bc24e75f68",
   "metadata": {},
   "outputs": [
    {
     "name": "stdout",
     "output_type": "stream",
     "text": [
      "{'name': 'Deepthi', 'age': 23, 'Grade': 'A', 'city': 'Hyderabad'}\n"
     ]
    }
   ],
   "source": [
    "# 9. Merge two dictionaries into one.\n",
    "dct1 = {\"name\" : \"Deepthi\", \"age\" : 23}\n",
    "dct2 = {\"Grade\": \"A\", \"city\" : \"Hyderabad\"}\n",
    "dct1.update(dct2)\n",
    "print(dct1)"
   ]
  },
  {
   "cell_type": "code",
   "execution_count": 27,
   "id": "22f643f7-161f-4d28-bfdd-d0eba833dd65",
   "metadata": {},
   "outputs": [
    {
     "name": "stdout",
     "output_type": "stream",
     "text": [
      "{1: 1, 2: 8, 3: 27, 4: 64, 5: 125}\n"
     ]
    }
   ],
   "source": [
    "# 10. Create a dictionary with numbers and their cubes (1–5)\n",
    "cubes = {}\n",
    "for i in range(1,6):\n",
    "    cubes[i] = i*i*i\n",
    "print(cubes)"
   ]
  },
  {
   "cell_type": "code",
   "execution_count": 1,
   "id": "c2f6d9ec-d415-4fe7-ba6b-41bbc863d007",
   "metadata": {},
   "outputs": [
    {
     "name": "stdin",
     "output_type": "stream",
     "text": [
      "Enter a sentence:  Nory was a Catholic because her mother was a Catholic\n"
     ]
    },
    {
     "name": "stdout",
     "output_type": "stream",
     "text": [
      "'nory': 1\n",
      "'was': 2\n",
      "'a': 2\n",
      "'catholic': 2\n",
      "'because': 1\n",
      "'her': 1\n",
      "'mother': 1\n"
     ]
    }
   ],
   "source": [
    "#  11. Write a program to count word frequency in a sentence.\n",
    "sentence = input(\"Enter a sentence: \")\n",
    "words = sentence.lower().split()\n",
    "word_freq = {}\n",
    "for word in words:\n",
    "    if word in word_freq:\n",
    "        word_freq[word] += 1\n",
    "    else:\n",
    "        word_freq[word] = 1\n",
    "for word, freq in word_freq.items():\n",
    "    print(f\"'{word}': {freq}\")"
   ]
  },
  {
   "cell_type": "code",
   "execution_count": 40,
   "id": "dc0c48f6-ffe5-4ecc-a6dd-72104d673435",
   "metadata": {},
   "outputs": [
    {
     "name": "stdout",
     "output_type": "stream",
     "text": [
      "student1 - Name: Deepthi, Marks: 45\n",
      "student2 - Name: james Bond, Marks: 46\n",
      "student3 - Name: Anika, Marks: 49\n"
     ]
    }
   ],
   "source": [
    "# 12. Store 3 students’ details (name, marks) in a dictionary and print them.\n",
    "details = {\"student1\" : {\"name\" : \"Deepthi\" , \"marks\" : 45},\n",
    "           \"student2\" :{\"name\" : \"james Bond\" , \"marks\" : 46},\n",
    "           \"student3\" :{\"name\" : \"Anika\" , \"marks\" : 49}}\n",
    "for key, value in details.items():\n",
    "    print(f\"{key} - Name: {value['name']}, Marks: {value['marks']}\")"
   ]
  },
  {
   "cell_type": "code",
   "execution_count": 41,
   "id": "c27b4dbc-d742-4f75-b7a5-6e23f1b9c801",
   "metadata": {},
   "outputs": [
    {
     "name": "stdout",
     "output_type": "stream",
     "text": [
      "Key exists\n"
     ]
    }
   ],
   "source": [
    "# 13. Check if a key exists in a dictionary\n",
    "dct = {\"name\" : \"Deepthi\", \"age\" : 23}\n",
    "if \"name\" in dct.keys():\n",
    "    print(\"Key exists\")\n",
    "else:\n",
    "    print(\"Key not exists\")"
   ]
  },
  {
   "cell_type": "code",
   "execution_count": 49,
   "id": "ce1322e0-3f04-42a7-b621-92882b722a8f",
   "metadata": {},
   "outputs": [
    {
     "name": "stdout",
     "output_type": "stream",
     "text": [
      "{'id': 101, 'name': 'Teja', 'age': 20}\n"
     ]
    }
   ],
   "source": [
    "# 14. Convert two lists into a dictionary:\n",
    "keys = [\"id\", \"name\", \"age\"]\n",
    "values = [101, \"Teja\", 20]\n",
    "student = dict(zip(keys, values))\n",
    "print(student)"
   ]
  },
  {
   "cell_type": "code",
   "execution_count": 53,
   "id": "6d557b26-13b0-4338-8dd2-5a8bb1ea5f6f",
   "metadata": {},
   "outputs": [
    {
     "name": "stdout",
     "output_type": "stream",
     "text": [
      "dict_keys([101, 102, 103])\n",
      "dict_items([(101, {'name': 'Deepthi', 'marks': 45}), (102, {'name': 'james Bond', 'marks': 46}), (103, {'name': 'Anika', 'marks': 49})])\n",
      "101  :  {'name': 'Deepthi', 'marks': 45}\n",
      "102  :  {'name': 'james Bond', 'marks': 46}\n",
      "103  :  {'name': 'Anika', 'marks': 49}\n"
     ]
    }
   ],
   "source": [
    "#15. Create a nested dictionary of 3 students with roll numbers as keys.\n",
    "students = {101 : {\"name\" : \"Deepthi\" , \"marks\" : 45},\n",
    "           102 :{\"name\" : \"james Bond\" , \"marks\" : 46},\n",
    "           103 :{\"name\" : \"Anika\" , \"marks\" : 49}}\n",
    "print(students.keys())\n",
    "print(students.items())\n",
    "for key, value in students.items():\n",
    "    print(key , \" : \", value)"
   ]
  },
  {
   "cell_type": "code",
   "execution_count": 56,
   "id": "92d6adbc-64e2-4f23-8380-585a220c9c98",
   "metadata": {},
   "outputs": [
    {
     "name": "stdout",
     "output_type": "stream",
     "text": [
      "90\n"
     ]
    }
   ],
   "source": [
    "# 16. Write a program to find the student with highest marks from a dictionary.\n",
    "students = {\n",
    "    \"Anika\": 85,\n",
    "    \"Bantu\": 90,\n",
    "    \"Chetana\": 78\n",
    "}\n",
    "highest_student = max(students,key = students.get)\n",
    "highest_marks = students[highest_student]\n",
    "print(highest_marks)"
   ]
  },
  {
   "cell_type": "code",
   "execution_count": 58,
   "id": "15d72f17-863f-479b-965a-903aa18f9a19",
   "metadata": {},
   "outputs": [
    {
     "name": "stdout",
     "output_type": "stream",
     "text": [
      "'W': 1\n",
      "'r': 3\n",
      "'i': 1\n",
      "'t': 1\n",
      "'e': 1\n",
      "' ': 2\n",
      "'a': 2\n",
      "'p': 1\n",
      "'o': 1\n",
      "'g': 1\n",
      "'m': 1\n"
     ]
    }
   ],
   "source": [
    "# 17. Write a program to count frequency of characters in a string.\n",
    "text = \"Write a program\"\n",
    "char_freq = {}\n",
    "for char in text:\n",
    "    if char in char_freq:\n",
    "        char_freq[char] += 1\n",
    "    else:\n",
    "        char_freq[char] = 1\n",
    "for char, freq in char_freq.items():\n",
    "    print(f\"'{char}': {freq}\")   "
   ]
  },
  {
   "cell_type": "code",
   "execution_count": 2,
   "id": "ccd06a2a-6f05-485f-ae89-bea8c822cfec",
   "metadata": {},
   "outputs": [
    {
     "name": "stdout",
     "output_type": "stream",
     "text": [
      "{'a': 97, 'e': 101, 'i': 105, 'o': 111, 'u': 117, 'A': 65, 'E': 69, 'I': 73, 'O': 79, 'U': 85}\n"
     ]
    }
   ],
   "source": [
    "#18. Create a dictionary mapping vowels to their ASCII values.\n",
    "vowels = 'aeiouAEIOU'\n",
    "vowel_ascii_dict = {}\n",
    "for vowel in vowels:\n",
    "    vowel_ascii_dict[vowel] = ord(vowel)\n",
    "print(vowel_ascii_dict)"
   ]
  },
  {
   "cell_type": "code",
   "execution_count": 59,
   "id": "44e89284-b65b-4419-8c19-04cfb3c46d30",
   "metadata": {},
   "outputs": [
    {
     "name": "stdout",
     "output_type": "stream",
     "text": [
      "{101: 'id', 'Teja': 'name', 20: 'age'}\n"
     ]
    }
   ],
   "source": [
    "# 19. Invert a dictionary (keys become values, values become keys).\n",
    "original_dict = {\n",
    "    \"id\": 101,\n",
    "    \"name\": \"Teja\",\n",
    "    \"age\": 20}\n",
    "inverted_dict = {value: key for key, value in original_dict.items()}\n",
    "print(inverted_dict)"
   ]
  },
  {
   "cell_type": "code",
   "execution_count": 3,
   "id": "9d9767bb-451f-4394-9aa7-05d72e6b4767",
   "metadata": {},
   "outputs": [
    {
     "name": "stdout",
     "output_type": "stream",
     "text": [
      "Sorted dictionary by values:\n",
      "{'date': 1, 'banana': 2, 'apple': 5, 'cherry': 7}\n"
     ]
    }
   ],
   "source": [
    "# 20. Write a program to sort a dictionary by its values.\n",
    "my_dict = {'apple': 5, 'banana': 2, 'cherry': 7, 'date': 1}\n",
    "sorted_dict = dict(sorted(my_dict.items(), key=lambda item: item[1]))\n",
    "print(\"Sorted dictionary by values:\")\n",
    "print(sorted_dict)"
   ]
  }
 ],
 "metadata": {
  "kernelspec": {
   "display_name": "Python 3 (ipykernel)",
   "language": "python",
   "name": "python3"
  },
  "language_info": {
   "codemirror_mode": {
    "name": "ipython",
    "version": 3
   },
   "file_extension": ".py",
   "mimetype": "text/x-python",
   "name": "python",
   "nbconvert_exporter": "python",
   "pygments_lexer": "ipython3",
   "version": "3.10.11"
  }
 },
 "nbformat": 4,
 "nbformat_minor": 5
}
