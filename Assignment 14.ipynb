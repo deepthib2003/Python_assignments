{
 "cells": [
  {
   "cell_type": "code",
   "execution_count": 1,
   "id": "c61b8762-8002-44ba-8d9c-44a5c0b1812f",
   "metadata": {},
   "outputs": [],
   "source": [
    "#  1. Create a file hello.txt and write \"Hello World\" in it.\n",
    "file = open(\"hello.txt\", \"w\")\n",
    "file.write(\"Hello World\")\n",
    "file.close()"
   ]
  },
  {
   "cell_type": "code",
   "execution_count": 13,
   "id": "da83e245-484a-4ddf-94ef-0191b9266792",
   "metadata": {},
   "outputs": [
    {
     "name": "stdout",
     "output_type": "stream",
     "text": [
      "Hello \n",
      "Rohini \n",
      "How \n",
      "are \n",
      "you\n"
     ]
    }
   ],
   "source": [
    "file = open(\"hello.txt\", \"r\")\n",
    "content = file.read()\n",
    "print(content)\n",
    "file.close()"
   ]
  },
  {
   "cell_type": "code",
   "execution_count": 8,
   "id": "7fe465fe-cbd2-4512-b47d-a9ba341e4955",
   "metadata": {},
   "outputs": [],
   "source": [
    "#  2. Write 5 lines of your own choice into a file.\n",
    "file = open(\"hello.txt\", \"w\")\n",
    "file.write(\"Hello \\n\")\n",
    "file.write(\"Rohini \\n\")\n",
    "file.write(\"How \\n\")\n",
    "file.write(\"are \\n\")\n",
    "file.write(\"you\")\n",
    "file.close()"
   ]
  },
  {
   "cell_type": "code",
   "execution_count": 14,
   "id": "b13fd132-d2a4-4685-af5b-19e9c2dea07c",
   "metadata": {},
   "outputs": [
    {
     "name": "stdout",
     "output_type": "stream",
     "text": [
      "Hello \n",
      "Rohini \n",
      "How \n",
      "are \n",
      "you\n"
     ]
    }
   ],
   "source": [
    "#  3. Read back the entire file content.\n",
    "file = open(\"hello.txt\" , \"r\")\n",
    "content = file.read()\n",
    "print(content)\n",
    "file.close()"
   ]
  },
  {
   "cell_type": "code",
   "execution_count": 10,
   "id": "77b07637-95c3-4c61-9a61-8c445ad50537",
   "metadata": {},
   "outputs": [],
   "source": [
    "# 4. Read first 10 characters only.\n",
    "file = open(\"Exp.txt\", \"w\")\n",
    "file.write(\" im learning python\")\n",
    "file.close()"
   ]
  },
  {
   "cell_type": "code",
   "execution_count": 15,
   "id": "592426f9-8b70-4970-9ced-4fe1e412a9e7",
   "metadata": {},
   "outputs": [
    {
     "name": "stdout",
     "output_type": "stream",
     "text": [
      " im learni\n"
     ]
    }
   ],
   "source": [
    "file = open(\"Exp.txt\", \"r\")\n",
    "content = file.read(10)\n",
    "print(content)\n",
    "file.close()"
   ]
  },
  {
   "cell_type": "code",
   "execution_count": 20,
   "id": "fe500c5d-36a5-4191-a95a-7b7f62b03b3d",
   "metadata": {},
   "outputs": [],
   "source": [
    "#  5. Read file line by line using readline().\n",
    "file = open(\"line.txt\" , \"w\")\n",
    "file.write(\"Hii! How are you \\n \")\n",
    "file.write(\"What are you doing? \\n \")\n",
    "file.write(\"Where are you? \")\n",
    "file.close()"
   ]
  },
  {
   "cell_type": "code",
   "execution_count": 21,
   "id": "fbfe17d0-824c-40e5-b93b-042e5760bb00",
   "metadata": {},
   "outputs": [
    {
     "name": "stdout",
     "output_type": "stream",
     "text": [
      "Hii! How are you\n",
      "What are you doing?\n",
      "Where are you?\n"
     ]
    }
   ],
   "source": [
    "file = open(\"line.txt\" , \"r\")\n",
    "line = file.readline()\n",
    "while line:\n",
    "    print(line.strip())\n",
    "    line = file.readline()\n",
    "file.close()"
   ]
  },
  {
   "cell_type": "code",
   "execution_count": 22,
   "id": "4bfe33c6-de04-4637-ac83-647ce45fd83b",
   "metadata": {},
   "outputs": [
    {
     "name": "stdout",
     "output_type": "stream",
     "text": [
      "Hii! How are you\n",
      "What are you doing?\n",
      "Where are you?\n"
     ]
    }
   ],
   "source": [
    "file = open(\"line.txt\" , \"r\")\n",
    "lines = file.readlines()\n",
    "for line in lines:\n",
    "    print(line.strip())\n",
    "file.close()"
   ]
  },
  {
   "cell_type": "code",
   "execution_count": 23,
   "id": "608cd29a-90b5-4ed3-ab85-f13c6a30dbb2",
   "metadata": {},
   "outputs": [],
   "source": [
    "#  6. Store numbers 1-10 in a file.\n",
    "file = open(\"num.txt\", \"w\")\n",
    "nums = [str(i) + \"\\n\" for i in range(1,11)]\n",
    "file.writelines(nums)\n",
    "file.close()"
   ]
  },
  {
   "cell_type": "code",
   "execution_count": 37,
   "id": "d8fa9ee4-e7df-48a9-87fb-ad00c41fd81f",
   "metadata": {},
   "outputs": [
    {
     "name": "stdout",
     "output_type": "stream",
     "text": [
      "1\n",
      "2\n",
      "3\n",
      "4\n",
      "5\n",
      "6\n",
      "7\n",
      "8\n",
      "9\n",
      "10\n",
      "\n"
     ]
    }
   ],
   "source": [
    "file = open(\"num.txt\", \"r\")\n",
    "print(file.read())\n",
    "file.close()"
   ]
  },
  {
   "cell_type": "code",
   "execution_count": 38,
   "id": "a5e64a08-adc8-4984-b77e-c6940a98dc7a",
   "metadata": {},
   "outputs": [],
   "source": [
    "# 7. Write a list of names into a file (one per line).\n",
    "file = open(\"names.txt\" , \"w\")\n",
    "names = [\"Deepthi\\n\" , \"Rohini\\n\" , \"Chetana\\n\" , \"Prashanthi\\n\"]\n",
    "file.writelines(names)\n",
    "file.close()"
   ]
  },
  {
   "cell_type": "code",
   "execution_count": 39,
   "id": "a1d125db-9d59-4eb8-862c-696030a7dddc",
   "metadata": {},
   "outputs": [
    {
     "name": "stdout",
     "output_type": "stream",
     "text": [
      "Deepthi\n",
      "Rohini\n",
      "Chetana\n",
      "Prashanthi\n",
      "\n"
     ]
    }
   ],
   "source": [
    "file = open(\"names.txt\" , \"r\")\n",
    "print(file.read())\n",
    "file.close()"
   ]
  },
  {
   "cell_type": "code",
   "execution_count": 40,
   "id": "a0570140-59f0-4d6c-bfd5-1a169972ff2d",
   "metadata": {},
   "outputs": [
    {
     "name": "stdout",
     "output_type": "stream",
     "text": [
      "Names list: ['Deepthi\\n', 'Rohini\\n', 'Chetana\\n', 'Prashanthi\\n']\n"
     ]
    }
   ],
   "source": [
    "#  8. Read the file back into a Python list.\n",
    "file = open(\"names.txt\", \"r\")\n",
    "lst = file.readlines()\n",
    "print(\"Names list:\", lst)\n",
    "file.close()"
   ]
  },
  {
   "cell_type": "code",
   "execution_count": 41,
   "id": "25cc182d-2255-4fca-acb4-ef16f30c77d3",
   "metadata": {},
   "outputs": [],
   "source": [
    "#  9. Append 2 more names to the same file.\n",
    "file = open(\"names.txt\" , \"a\")\n",
    "file.write(\"Tarun\\n\")\n",
    "file.write(\"Jayakrishna\")\n",
    "file.close()"
   ]
  },
  {
   "cell_type": "code",
   "execution_count": 42,
   "id": "a563aea7-e7c2-448a-bfce-3f3cbcebda99",
   "metadata": {},
   "outputs": [
    {
     "name": "stdout",
     "output_type": "stream",
     "text": [
      "Deepthi\n",
      "Rohini\n",
      "Chetana\n",
      "Prashanthi\n",
      "Tarun\n",
      "Jayakrishna\n"
     ]
    }
   ],
   "source": [
    "file = open(\"names.txt\" , \"r\")\n",
    "print(file.read())\n",
    "file.close()"
   ]
  },
  {
   "cell_type": "code",
   "execution_count": 23,
   "id": "3ef5fd9c-3197-4127-925d-0061f981ca8e",
   "metadata": {},
   "outputs": [],
   "source": [
    "#  10. Write squares of numbers 1-20 into a file.\n",
    "file  = open(\"squares.txt\",\"w\")\n",
    "for i in range(1,21):\n",
    "    sq = i**2\n",
    "    file.write(f\"{i}^2={sq}\\n\")\n",
    "file.close()"
   ]
  },
  {
   "cell_type": "code",
   "execution_count": 24,
   "id": "8db9205b-77cc-43ff-af3f-f3779a4a1c32",
   "metadata": {},
   "outputs": [
    {
     "name": "stdout",
     "output_type": "stream",
     "text": [
      "1^2=1\n",
      "2^2=4\n",
      "3^2=9\n",
      "4^2=16\n",
      "5^2=25\n",
      "6^2=36\n",
      "7^2=49\n",
      "8^2=64\n",
      "9^2=81\n",
      "10^2=100\n",
      "11^2=121\n",
      "12^2=144\n",
      "13^2=169\n",
      "14^2=196\n",
      "15^2=225\n",
      "16^2=256\n",
      "17^2=289\n",
      "18^2=324\n",
      "19^2=361\n",
      "20^2=400\n",
      "\n"
     ]
    }
   ],
   "source": [
    "file = open(\"squares.txt\",\"r\")\n",
    "con = file.read()\n",
    "print(con)"
   ]
  },
  {
   "cell_type": "code",
   "execution_count": 7,
   "id": "00cbc884-f68c-4bca-bbdb-5fac247a54f6",
   "metadata": {},
   "outputs": [],
   "source": [
    "# 11. Read file and print only numbers divisible by 5.\n",
    "file = open(\"number.txt\", \"r\")\n",
    "lines = file.readlines()\n",
    "file.close()"
   ]
  },
  {
   "cell_type": "code",
   "execution_count": 8,
   "id": "2a621425-08c6-4e1c-8e28-d5898ba95678",
   "metadata": {},
   "outputs": [
    {
     "name": "stdout",
     "output_type": "stream",
     "text": [
      "5\n",
      "10\n",
      "15\n",
      "20\n"
     ]
    }
   ],
   "source": [
    "file = open(\"number.txt\", \"r\")\n",
    "for line in lines:\n",
    "    number = int(line)\n",
    "    if number % 5 == 0:\n",
    "        print(number)\n",
    "file.close()"
   ]
  },
  {
   "cell_type": "code",
   "execution_count": 57,
   "id": "49060fa4-d0fd-47f3-9949-baefe88abc16",
   "metadata": {},
   "outputs": [],
   "source": [
    "#  12. Write a paragraph into a file and count number of words.\n",
    "file = open(\"paragraph.txt\", \"w\")\n",
    "paragraph = \"Python is a high-level, general-purpose programming language renowned for its readability and versatility.Emphasizing clear syntax and a focus on developer productivity, Python facilitates the creation of diverse applications, from web development and data analysis to artificial intelligence and automation.\"\n",
    "file.write(paragraph)\n",
    "file.close()"
   ]
  },
  {
   "cell_type": "code",
   "execution_count": 58,
   "id": "0576cb9d-f1c5-4fdd-8601-f56b804f68db",
   "metadata": {},
   "outputs": [
    {
     "name": "stdout",
     "output_type": "stream",
     "text": [
      "Number of words: 39\n"
     ]
    }
   ],
   "source": [
    "\n",
    "file = open(\"paragraph.txt\", \"r\")\n",
    "content = file.read()\n",
    "words = content.split()\n",
    "word_count = len(words)\n",
    "print(\"Number of words:\", word_count)\n",
    "file.close()"
   ]
  },
  {
   "cell_type": "code",
   "execution_count": 60,
   "id": "76d8d984-cd0d-4aca-928f-a45a5f0a2ec5",
   "metadata": {},
   "outputs": [
    {
     "name": "stdout",
     "output_type": "stream",
     "text": [
      "Number of lines: 1\n"
     ]
    }
   ],
   "source": [
    "#  13. Read file and count how many lines it has.\n",
    "file = open(\"paragraph.txt\", \"r\")\n",
    "lines = file.readlines()\n",
    "line_count = len(lines)\n",
    "print(\"Number of lines:\", line_count)\n",
    "file.close()"
   ]
  },
  {
   "cell_type": "code",
   "execution_count": 61,
   "id": "1905a570-cea9-43ec-8ca8-f9c48a00cb56",
   "metadata": {},
   "outputs": [],
   "source": [
    "# 14. Write a program to copy content of one file into another.\n",
    "file = open(\"names.txt\" , \"r\")\n",
    "content = file.read()\n",
    "file.close()"
   ]
  },
  {
   "cell_type": "code",
   "execution_count": 62,
   "id": "7ad1fbdc-9813-478f-9000-17db510f3425",
   "metadata": {},
   "outputs": [],
   "source": [
    "copied = open(\"copied.txt\" , \"w\")\n",
    "copied.write(content)\n",
    "copied.close()"
   ]
  },
  {
   "cell_type": "code",
   "execution_count": 63,
   "id": "ff94f18f-6b07-45c8-94b2-d673f6151fae",
   "metadata": {},
   "outputs": [
    {
     "name": "stdout",
     "output_type": "stream",
     "text": [
      "Deepthi\n",
      "Rohini\n",
      "Chetana\n",
      "Prashanthi\n",
      "Tarun\n",
      "Jayakrishna\n"
     ]
    }
   ],
   "source": [
    "copied = open(\"copied.txt\" , \"r\")\n",
    "print(copied.read())\n",
    "copied.close()"
   ]
  },
  {
   "cell_type": "code",
   "execution_count": 64,
   "id": "d7ea00f7-213e-43ba-a50a-19a6f8c4375c",
   "metadata": {},
   "outputs": [],
   "source": [
    "#  15. Reverse the content of a file and write into another file.\n",
    "file = open(\"names.txt\" , \"r\")\n",
    "content = file.read()\n",
    "reversed_content = content[::-1]\n",
    "file.close()"
   ]
  },
  {
   "cell_type": "code",
   "execution_count": 65,
   "id": "00b325c8-01f2-44a7-9867-7f1f97d1adb1",
   "metadata": {},
   "outputs": [],
   "source": [
    "file = open(\"reversed.txt\", \"w\")\n",
    "file.write(reversed_content)\n",
    "file.close()"
   ]
  },
  {
   "cell_type": "code",
   "execution_count": 66,
   "id": "685161ae-481c-4b26-b636-9e300cc797e1",
   "metadata": {},
   "outputs": [
    {
     "name": "stdout",
     "output_type": "stream",
     "text": [
      "anhsirkayaJ\n",
      "nuraT\n",
      "ihtnahsarP\n",
      "anatehC\n",
      "inihoR\n",
      "ihtpeeD\n"
     ]
    }
   ],
   "source": [
    "file = open(\"reversed.txt\", \"r\")\n",
    "print(file.read())\n",
    "file.close()"
   ]
  },
  {
   "cell_type": "code",
   "execution_count": 26,
   "id": "3f5d33fd-cb7f-45fd-a3d6-07707a17b450",
   "metadata": {},
   "outputs": [],
   "source": [
    "# 16. Write names into a file, then read and \n",
    "# print only names starting with \"A\".\n",
    "file = open(\"names.txt\", \"w\")\n",
    "names = [\"Anika\\n\", \"Deepthi\\n\", \"Akhila\\n\", \"Rohini\\n\", \"Pappaa\\n\", \"Chaya\\n\"]\n",
    "file.writelines(names)\n",
    "file.close()"
   ]
  },
  {
   "cell_type": "code",
   "execution_count": 27,
   "id": "60a7d757-c563-4899-ae14-ec9f49cd6e2e",
   "metadata": {},
   "outputs": [],
   "source": [
    "file = open(\"names.txt\", \"r\")\n",
    "lines = file.readlines()\n",
    "file.close()"
   ]
  },
  {
   "cell_type": "code",
   "execution_count": 28,
   "id": "c976d96b-6adf-42a0-80d1-1dd9f3957b52",
   "metadata": {},
   "outputs": [
    {
     "name": "stdout",
     "output_type": "stream",
     "text": [
      "Names starting with 'A':\n",
      "Anika\n",
      "Akhila\n"
     ]
    }
   ],
   "source": [
    "print(\"Names starting with 'A':\")\n",
    "for name in lines:\n",
    "    if name.strip().startswith(\"A\"):\n",
    "        print(name.strip())"
   ]
  },
  {
   "cell_type": "code",
   "execution_count": 35,
   "id": "83b7ec6b-7993-43ec-9918-1b72d554c327",
   "metadata": {},
   "outputs": [],
   "source": [
    "#  17. Store random numbers in a file, then find max & min.\n",
    "import random\n",
    "file = open(\"number1.txt\" , \"w\")\n",
    "for i in range(1,21):\n",
    "    n = random.randint(1 , 101)\n",
    "    file.write(f\"{n}\\n\")\n",
    "file.close()"
   ]
  },
  {
   "cell_type": "code",
   "execution_count": null,
   "id": "c4746055-9c5c-4a5c-8326-8cb224ccdb64",
   "metadata": {},
   "outputs": [],
   "source": [
    "file = open(\"number1.txt\" , \"r\")\n",
    "lst = []\n",
    "for i in file:\n",
    "    lst.append(int(i.strip()))\n",
    "file.close()"
   ]
  },
  {
   "cell_type": "code",
   "execution_count": 1,
   "id": "87b442ed-0a0c-4219-8e47-81a3c2097467",
   "metadata": {},
   "outputs": [],
   "source": [
    "#  18. Write a sentence into a file, then remove vowels while reading it back.\n",
    "file = open(\"sentence.txt\", \"w\")\n",
    "file.write(\"This is an example sentence with vowels\")\n",
    "file.close()"
   ]
  },
  {
   "cell_type": "code",
   "execution_count": 3,
   "id": "c4ca993a-41bb-4864-bdc6-9c6fab8d3911",
   "metadata": {},
   "outputs": [
    {
     "name": "stdout",
     "output_type": "stream",
     "text": [
      "This is an example sentence with vowels\n",
      "Ths s n xmpl sntnc wth vwls\n"
     ]
    }
   ],
   "source": [
    "vowels = \"aeiouAEIOU\"\n",
    "file = open(\"sentence.txt\",\"r\")\n",
    "content = file.read()\n",
    "file.close()\n",
    "output = \"\"\n",
    "for i in content:\n",
    "    if i not in vowels:\n",
    "        output += i\n",
    "print(content)\n",
    "print(output)"
   ]
  },
  {
   "cell_type": "code",
   "execution_count": 29,
   "id": "cb6e9bc3-635c-472b-9cc0-71cc6ccf781d",
   "metadata": {},
   "outputs": [],
   "source": [
    "#  19. Write a program to merge two files into one.\n",
    "file1 = open(\"file1.txt\", \"w\")\n",
    "file1.write(\"This is content from file 1.\\nLine 2 of file 1.\")\n",
    "file1.close()"
   ]
  },
  {
   "cell_type": "code",
   "execution_count": 30,
   "id": "1aa9e2af-85ea-4b7c-98a4-99777515c110",
   "metadata": {},
   "outputs": [],
   "source": [
    "file2 = open(\"file2.txt\", \"w\")\n",
    "file2.write(\"This is content from file 2.\\nLine 2 of file 2.\")\n",
    "file2.close()"
   ]
  },
  {
   "cell_type": "code",
   "execution_count": 31,
   "id": "142cd2c7-658c-4428-8ba8-42568e3aa2e1",
   "metadata": {},
   "outputs": [
    {
     "name": "stdout",
     "output_type": "stream",
     "text": [
      "This is content from file 1.\n",
      "Line 2 of file 1.\n",
      "This is content from file 2.\n",
      "Line 2 of file 2.\n"
     ]
    }
   ],
   "source": [
    "file1 = open(\"file1.txt\", \"r\")\n",
    "content1 = file1.read()\n",
    "print(content1)\n",
    "file1.close()\n",
    "file2 = open(\"file2.txt\", \"r\")\n",
    "content2 = file2.read()\n",
    "print(content2)\n",
    "file2.close()"
   ]
  },
  {
   "cell_type": "code",
   "execution_count": 32,
   "id": "cb60191f-b927-4be5-96c5-47f4cf8662d5",
   "metadata": {},
   "outputs": [],
   "source": [
    "merged_file = open(\"merged.txt\", \"w\")\n",
    "merged_file.write(content1 + \"\\n\" + content2)\n",
    "merged_file.close()"
   ]
  },
  {
   "cell_type": "code",
   "execution_count": 33,
   "id": "57c1b887-56e4-4af0-82b4-67870bba5b63",
   "metadata": {},
   "outputs": [
    {
     "name": "stdout",
     "output_type": "stream",
     "text": [
      "This is content from file 1.\n",
      "Line 2 of file 1.\n",
      "This is content from file 2.\n",
      "Line 2 of file 2.\n"
     ]
    }
   ],
   "source": [
    "merged_file = open(\"merged.txt\", \"r\")\n",
    "print(merged_file.read())\n",
    "merged_file.close()"
   ]
  },
  {
   "cell_type": "code",
   "execution_count": 4,
   "id": "6da3d91a-de2c-48d2-868f-15c657276abc",
   "metadata": {},
   "outputs": [],
   "source": [
    "#  20. Read a file and display word frequency (like a dictionary)\n",
    "import string\n",
    "file = open(\"sentence.txt\" , \"r\")\n",
    "content = file.read()\n",
    "file.close()"
   ]
  },
  {
   "cell_type": "code",
   "execution_count": 5,
   "id": "6f037656-05d0-462d-845e-b40e0a09f3c4",
   "metadata": {},
   "outputs": [
    {
     "name": "stdout",
     "output_type": "stream",
     "text": [
      "{'this': 1, 'is': 1, 'an': 1, 'example': 1, 'sentence': 1, 'with': 1, 'vowels': 1}\n"
     ]
    }
   ],
   "source": [
    "content = content.lower()\n",
    "for i in string.punctuation:\n",
    "    content = content.replace(i , \"\")\n",
    "words = content.split()\n",
    "freq = {}\n",
    "for i in words:\n",
    "    if i in freq:\n",
    "        freq[i] += 1\n",
    "    else:\n",
    "        freq[i] = 1\n",
    "print(freq)"
   ]
  },
  {
   "cell_type": "code",
   "execution_count": null,
   "id": "659a0fc1-ede8-4ed4-9f8e-f3bd6b2eb848",
   "metadata": {},
   "outputs": [],
   "source": []
  },
  {
   "cell_type": "code",
   "execution_count": null,
   "id": "06ac6dce-360d-408e-887f-8f198040da7e",
   "metadata": {},
   "outputs": [],
   "source": []
  },
  {
   "cell_type": "code",
   "execution_count": null,
   "id": "f434abce-8bee-4e39-afa4-1a4d3e5dc578",
   "metadata": {},
   "outputs": [],
   "source": []
  }
 ],
 "metadata": {
  "kernelspec": {
   "display_name": "Python 3 (ipykernel)",
   "language": "python",
   "name": "python3"
  },
  "language_info": {
   "codemirror_mode": {
    "name": "ipython",
    "version": 3
   },
   "file_extension": ".py",
   "mimetype": "text/x-python",
   "name": "python",
   "nbconvert_exporter": "python",
   "pygments_lexer": "ipython3",
   "version": "3.10.11"
  }
 },
 "nbformat": 4,
 "nbformat_minor": 5
}
