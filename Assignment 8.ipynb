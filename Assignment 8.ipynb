{
 "cells": [
  {
   "cell_type": "markdown",
   "id": "0033251c-b8a4-4bb0-99cc-d7417c9cd163",
   "metadata": {},
   "source": [
    "<h1>Day 8</h1>"
   ]
  },
  {
   "cell_type": "code",
   "execution_count": 1,
   "id": "a35c6343-847a-4793-8f97-639005c74c12",
   "metadata": {},
   "outputs": [
    {
     "name": "stdin",
     "output_type": "stream",
     "text": [
      "Enter a string Python is fun\n"
     ]
    },
    {
     "name": "stdout",
     "output_type": "stream",
     "text": [
      "nuf si nohtyP\n"
     ]
    }
   ],
   "source": [
    "#  1. Reverse a string using slicing\n",
    "# Write a Python program that takes a string as input and prints it in reverse using string\n",
    "# slicing.\n",
    "x = input(\"Enter a string\")\n",
    "print(x[::-1])"
   ]
  },
  {
   "cell_type": "code",
   "execution_count": 5,
   "id": "a90d1d77-7a4f-49e5-979d-132dfc9b42a1",
   "metadata": {},
   "outputs": [
    {
     "name": "stdout",
     "output_type": "stream",
     "text": [
      "2\n"
     ]
    }
   ],
   "source": [
    "# 2. Count occurrences of a character in a string\n",
    "# Create a program that takes a string and a character as input, then counts and displays the\n",
    "# number of times the character appears in the string.\n",
    "x = \" python is Fun \"\n",
    "print(x.count(\"n\"))"
   ]
  },
  {
   "cell_type": "code",
   "execution_count": 6,
   "id": "d49151f7-2438-4eef-ab06-3c80983f148d",
   "metadata": {},
   "outputs": [
    {
     "name": "stdin",
     "output_type": "stream",
     "text": [
      "Enter a sentence:  Anika is a good girl\n"
     ]
    },
    {
     "name": "stdout",
     "output_type": "stream",
     "text": [
      "Anika\n",
      "is\n",
      "a\n",
      "good\n",
      "girl\n"
     ]
    }
   ],
   "source": [
    "#3. Print each word of a sentence on a new line\n",
    "# Input a sentence and print each word on a new line using a loop or string splitting.\n",
    "sentence = input(\"Enter a sentence: \")\n",
    "words = sentence.split()\n",
    "for word in words:\n",
    "    print(word)"
   ]
  },
  {
   "cell_type": "code",
   "execution_count": 8,
   "id": "ac0b2fb9-aa95-44e9-98aa-49c3094218f2",
   "metadata": {},
   "outputs": [
    {
     "name": "stdout",
     "output_type": "stream",
     "text": [
      "64\n"
     ]
    }
   ],
   "source": [
    "# 4. Sumof alist of 5 numbers\n",
    "# Create a list of 5 numbers, calculate their sum, and print the result.\n",
    "h = [ 18,10,19,14,3 ]\n",
    "print(sum(h))"
   ]
  },
  {
   "cell_type": "code",
   "execution_count": 10,
   "id": "97c5c81a-d422-472c-9bfd-c6705a67587b",
   "metadata": {},
   "outputs": [
    {
     "name": "stdout",
     "output_type": "stream",
     "text": [
      "['Python', 'C', 'R', 'Java', 'MongoDB']\n"
     ]
    }
   ],
   "source": [
    "# 5. Append an item to a list\n",
    "# Create a list, append a new item to it, and print the updated list.\n",
    "languages = [\"Python\" , \"C\", \"R\", \"Java\"]\n",
    "languages.append(\"MongoDB\")\n",
    "print(languages)"
   ]
  },
  {
   "cell_type": "code",
   "execution_count": 11,
   "id": "d78a208c-2493-41dd-bcf4-2bc0f76ca905",
   "metadata": {},
   "outputs": [
    {
     "name": "stdout",
     "output_type": "stream",
     "text": [
      "['Python', 'C', 'Java']\n"
     ]
    }
   ],
   "source": [
    "# 6. Remove a given item from a list\n",
    "# Write a program that removes a specified item from a list and prints the updated list.\n",
    "languages = [\"Python\" , \"C\", \"R\", \"Java\"]\n",
    "languages.remove(\"R\")\n",
    "print(languages)"
   ]
  },
  {
   "cell_type": "code",
   "execution_count": 68,
   "id": "64ad6d8a-1954-442f-a259-3420bfedeab8",
   "metadata": {},
   "outputs": [
    {
     "name": "stdout",
     "output_type": "stream",
     "text": [
      "Sorted list in ascending order: [18, 21, 33, 42, 95]\n"
     ]
    }
   ],
   "source": [
    "#  7. Sort a list of integers in ascending order\n",
    "# Sort a list of integers in ascending order without using the sort() method (e.g., using\n",
    "# bubble sort).\n",
    "lst = [33, 42, 95, 18, 21]\n",
    "n = len(lst)\n",
    "for i in range(n):\n",
    "    for j in range(0, n - i - 1):\n",
    "        if lst[j] > lst[j + 1]:\n",
    "            lst[j], lst[j + 1] = lst[j + 1], lst[j]\n",
    "print(\"Sorted list in ascending order:\", lst)"
   ]
  },
  {
   "cell_type": "code",
   "execution_count": 38,
   "id": "54d504db-2ffc-46c5-a494-0148236f0ba0",
   "metadata": {},
   "outputs": [
    {
     "name": "stdin",
     "output_type": "stream",
     "text": [
      "Enter a string:  Replace\n"
     ]
    },
    {
     "name": "stdout",
     "output_type": "stream",
     "text": [
      "Number of vowels: 3\n"
     ]
    }
   ],
   "source": [
    "#  8. Count the number of vowels in a string\n",
    "# Write a program that takes a string as input and counts the total number of vowels (a, e,\n",
    "# i, o, u) in it.\n",
    "text = input(\"Enter a string: \")\n",
    "count = 0\n",
    "for char in text:\n",
    "    if char in \"aeiou\":\n",
    "        count += 1\n",
    "print(\"Number of vowels:\", count)"
   ]
  },
  {
   "cell_type": "code",
   "execution_count": 69,
   "id": "03f7ed15-696e-4528-a958-7af4c70d7947",
   "metadata": {},
   "outputs": [
    {
     "name": "stdin",
     "output_type": "stream",
     "text": [
      "Enter a string:  numbers\n"
     ]
    },
    {
     "name": "stdout",
     "output_type": "stream",
     "text": [
      "String after replacing vowels: n*mb*rs\n"
     ]
    }
   ],
   "source": [
    "#  9. Replace all vowels in a string with *\n",
    "# Create a program that replaces all vowels in a given string with an asterisk (*).\n",
    "text = input(\"Enter a string: \")\n",
    "result = \"\"\n",
    "for char in text:\n",
    "    if char in \"aeiou\".lower():\n",
    "        result += \"*\"\n",
    "    else:\n",
    "        result += char\n",
    "print(\"String after replacing vowels:\", result)"
   ]
  },
  {
   "cell_type": "code",
   "execution_count": 17,
   "id": "004c575e-7902-44aa-a820-c5cae01e77d3",
   "metadata": {},
   "outputs": [
    {
     "name": "stdout",
     "output_type": "stream",
     "text": [
      "[1, 3, 5, 10, 18]\n"
     ]
    }
   ],
   "source": [
    "# 10. Merge two lists and remove duplicates\n",
    "# Merge two lists into one and remove any duplicate elements, then print the resulting list.\n",
    "lst1 = [1, 10, 5]\n",
    "lst2 = [18,5,3]\n",
    "merged_list = list(set(lst1 + lst2))\n",
    "print(merged_list)"
   ]
  },
  {
   "cell_type": "code",
   "execution_count": 18,
   "id": "ecaad0bb-ae13-492e-9e20-a1928fa039ab",
   "metadata": {},
   "outputs": [
    {
     "name": "stdout",
     "output_type": "stream",
     "text": [
      "545\n",
      "3\n"
     ]
    }
   ],
   "source": [
    "#11. Find the maximum and minimum in a list\n",
    "# Write a program to find and display the maximum and minimum values in a list of numbers.\n",
    "nums = [99,18,10,3,545]\n",
    "print(max(nums))\n",
    "print(min(nums))"
   ]
  },
  {
   "cell_type": "code",
   "execution_count": 21,
   "id": "d95999cf-64d6-40a8-997e-369b86ff22f4",
   "metadata": {},
   "outputs": [
    {
     "name": "stdin",
     "output_type": "stream",
     "text": [
      "Enter the element to find:  college\n"
     ]
    },
    {
     "name": "stdout",
     "output_type": "stream",
     "text": [
      "Element found at index 1\n"
     ]
    }
   ],
   "source": [
    "# 12. Find the index of a given element in a list\n",
    "# Create a program that finds and returns the index of a specified element in a list. If the\n",
    "# element is not found, display an appropriateannounce.\n",
    "lst = [\"school\" , \"college\" , \"hostel\" , \"University\"]\n",
    "element = input(\"Enter the element to find: \")\n",
    "\n",
    "# Check if element exists in list\n",
    "if element in lst:\n",
    "    index = lst.index(element)\n",
    "    print(f\"Element found at index {index}\")\n",
    "else:\n",
    "    print(\"Element not found in the list\")"
   ]
  },
  {
   "cell_type": "code",
   "execution_count": 22,
   "id": "b1570bd9-14bf-4da9-b990-295d690b967f",
   "metadata": {},
   "outputs": [
    {
     "name": "stdin",
     "output_type": "stream",
     "text": [
      "Enter a number:  4\n"
     ]
    },
    {
     "name": "stdout",
     "output_type": "stream",
     "text": [
      "List of squares: [1, 4, 9, 16]\n"
     ]
    }
   ],
   "source": [
    "# 13. Create a list of squares of numbers from 1 to N\n",
    "# Input a number N and create a list containing the squares of numbers from 1 to N.\n",
    "n = int(input(\"Enter a number: \"))\n",
    "squares = []\n",
    "for i in range(1, n + 1):\n",
    "    squares.append(i ** 2)\n",
    "print(\"List of squares:\", squares)"
   ]
  },
  {
   "cell_type": "code",
   "execution_count": 23,
   "id": "5d9bc4b6-6298-47f7-86d3-50bc325fba81",
   "metadata": {},
   "outputs": [
    {
     "name": "stdout",
     "output_type": "stream",
     "text": [
      "Reversed list: [5, 4, 3, 2, 1]\n"
     ]
    }
   ],
   "source": [
    "# 14. Reverse a list without using reverse()\n",
    "# Write a program to reverse a list without using the reverse() method (e.g., using slicing\n",
    "# or a loop).\n",
    "# Using for loop\n",
    "lst = [1, 2, 3, 4, 5]\n",
    "reversed_list = []\n",
    "for i in range(len(lst) - 1, -1, -1):\n",
    "    reversed_list.append(lst[i])\n",
    "print(\"Reversed list:\", reversed_list)"
   ]
  },
  {
   "cell_type": "code",
   "execution_count": 24,
   "id": "1fdd9bc5-7014-421f-b3a7-7c00725141f3",
   "metadata": {},
   "outputs": [
    {
     "name": "stdout",
     "output_type": "stream",
     "text": [
      "[5, 4, 3, 2, 1]\n"
     ]
    }
   ],
   "source": [
    "# 14. Reverse a list without using reverse()\n",
    "# Write a program to reverse a list without using the reverse() method (e.g., using slicing\n",
    "# or a loop).\n",
    "# Using Slicing\n",
    "lst = [1, 2, 3, 4, 5]\n",
    "print(lst[::-1])"
   ]
  },
  {
   "cell_type": "code",
   "execution_count": 25,
   "id": "e3191e54-ddaf-4dff-b1f6-8f08078002f5",
   "metadata": {},
   "outputs": [
    {
     "name": "stdin",
     "output_type": "stream",
     "text": [
      "Enter a sentence:  Odd number of elements\n"
     ]
    },
    {
     "name": "stdout",
     "output_type": "stream",
     "text": [
      "Longest word in the sentence :  elements\n",
      "Length of the longest word is :  8\n"
     ]
    }
   ],
   "source": [
    "#  15. Find the longest word in a string\n",
    "# Input a sentence and find the longest word in it. Print the word and its length.\n",
    "sentence = input(\"Enter a sentence: \")\n",
    "words = sentence.split()\n",
    "longest_word = max(words, key = len)\n",
    "print(\"Longest word in the sentence : \", longest_word)\n",
    "print(\"Length of the longest word is : \" , len(longest_word))"
   ]
  },
  {
   "cell_type": "code",
   "execution_count": 28,
   "id": "45e1ac90-5781-4795-a335-03d6928ba151",
   "metadata": {},
   "outputs": [
    {
     "name": "stdin",
     "output_type": "stream",
     "text": [
      "Enter K (positions to rotate):  2\n"
     ]
    },
    {
     "name": "stdout",
     "output_type": "stream",
     "text": [
      "Rotated list: [3, 4, 5, 1, 2]\n"
     ]
    }
   ],
   "source": [
    "# 16. Rotate a list to the left by K positions\n",
    "# Write a program that rotates a list to the left by K positions, where K is provided as input.\n",
    "lst = [1, 2, 3, 4, 5]\n",
    "k = int(input(\"Enter K (positions to rotate): \"))\n",
    "rotated_list = lst[k:] + lst[:k]\n",
    "print(\"Rotated list:\", rotated_list)"
   ]
  },
  {
   "cell_type": "code",
   "execution_count": 32,
   "id": "09724388-482c-45b5-859f-f4003583a835",
   "metadata": {},
   "outputs": [
    {
     "name": "stdout",
     "output_type": "stream",
     "text": [
      "First Half is :  [18, 10, 3, 15]\n",
      "Second Half is :  [62, 54, 98]\n"
     ]
    }
   ],
   "source": [
    "# 17. Split a list into two halves\n",
    "# Create a program that splits a list into two halves. If the list has an odd number of\n",
    "# elements, the first half should have one more element.\n",
    "lst = [18, 10, 3 , 15, 62, 54,98]\n",
    "mid=( len(lst) + 1) // 2\n",
    "print(\"First Half is : \" , lst[ :mid])\n",
    "print(\"Second Half is : \", lst[mid: ])"
   ]
  },
  {
   "cell_type": "code",
   "execution_count": 34,
   "id": "0563eb74-0e57-4b93-b2ca-1162d3923a2d",
   "metadata": {},
   "outputs": [
    {
     "name": "stdout",
     "output_type": "stream",
     "text": [
      "Even numbers in the list:  [12, 28, 10, 92]\n",
      "Odd numbers in the list:  [3, 17, 59, 105]\n"
     ]
    }
   ],
   "source": [
    "# 18. Separate even and odd numbers into two lists\n",
    "# Given a list of numbers, separate the even and odd numbers into two distinct lists and\n",
    "# print them.\n",
    "lst = [3 ,12, 28, 17, 10, 59, 92, 105]\n",
    "lst_even = []\n",
    "lst_odd = []\n",
    "for i in lst:\n",
    "    if i % 2 == 0:\n",
    "        lst_even.append(i)\n",
    "    else:\n",
    "        lst_odd.append(i)\n",
    "print(\"Even numbers in the list: \" , lst_even)\n",
    "print(\"Odd numbers in the list: \" , lst_odd)"
   ]
  },
  {
   "cell_type": "code",
   "execution_count": 35,
   "id": "d28e3d1f-e663-40af-8ffd-c890a986cc4b",
   "metadata": {},
   "outputs": [
    {
     "name": "stdout",
     "output_type": "stream",
     "text": [
      "Common elements: [98, 42]\n"
     ]
    }
   ],
   "source": [
    "#19. Find common elements between two lists\n",
    "# Write a program that finds and prints the common elements between two lists.\n",
    "list1 = [18, 21, 98, 42, 59]\n",
    "list2 = [42, 56, 76, 19, 98]\n",
    "common = []\n",
    "for i in list1:\n",
    "    if i in list2 and i not in common:\n",
    "        common.append(i)\n",
    "print(\"Common elements:\", common)"
   ]
  },
  {
   "cell_type": "code",
   "execution_count": 37,
   "id": "d38fe335-7b2c-463d-bb07-5727a5cfea3c",
   "metadata": {},
   "outputs": [
    {
     "name": "stdin",
     "output_type": "stream",
     "text": [
      "Enter a sentence:  An apple a day keeps doctor away\n"
     ]
    },
    {
     "name": "stdout",
     "output_type": "stream",
     "text": [
      "Words starting with a vowel: ['An', 'apple', 'a', 'away']\n"
     ]
    }
   ],
   "source": [
    "# 20. List words in a sentence starting with a vowel\n",
    "# Input a sentence and create a list of all words that start with a vowel (a, e, i, o, u). Print the list.\n",
    "sentence = input(\"Enter a sentence: \")\n",
    "words = sentence.split()\n",
    "vowel_words = []\n",
    "for word in words:\n",
    "    if word[0].lower() in \"aeiou\":\n",
    "        vowel_words.append(word)\n",
    "print(\"Words starting with a vowel:\", vowel_words)"
   ]
  },
  {
   "cell_type": "code",
   "execution_count": 40,
   "id": "65f3e548-f286-4055-a6b5-5309024d5cc2",
   "metadata": {},
   "outputs": [
    {
     "name": "stdin",
     "output_type": "stream",
     "text": [
      "Enter a string:  average\n"
     ]
    },
    {
     "name": "stdout",
     "output_type": "stream",
     "text": [
      "Number of Vowels:  4\n"
     ]
    }
   ],
   "source": [
    "#21. Count vowels in a string\n",
    "# Write a program that counts the number of vowels in a given string (similar to task 8,\n",
    "# reinforcing the concept).\n",
    "text = input(\"Enter a string: \")\n",
    "count = 0\n",
    "for char in text:\n",
    "    if char in \"aeiou\":\n",
    "        count += 1\n",
    "print(\"Number of Vowels: \", count)"
   ]
  },
  {
   "cell_type": "code",
   "execution_count": 42,
   "id": "33362fd4-42af-4692-bcc2-d37969849f36",
   "metadata": {},
   "outputs": [
    {
     "name": "stdin",
     "output_type": "stream",
     "text": [
      "Enter a sentence:  Program to generate\n"
     ]
    },
    {
     "name": "stdout",
     "output_type": "stream",
     "text": [
      "Longest word in the sentence :  generate\n",
      "Length of the longest word:  8\n"
     ]
    }
   ],
   "source": [
    "# 22. Find the longest word in a given sentence\n",
    "# Input a sentence and find the longest word, printing both the word and its length (similar\n",
    "# to task 15)\n",
    "sentence = input(\"Enter a sentence: \")\n",
    "words = sentence.split()\n",
    "longest_word = max(words , key = len)\n",
    "print(\"Longest word in the sentence : \" , longest_word)\n",
    "print(\"Length of the longest word: \" , len(longest_word))"
   ]
  },
  {
   "cell_type": "code",
   "execution_count": 48,
   "id": "ef28dc30-e9ee-4d87-8a86-46733f946fcd",
   "metadata": {},
   "outputs": [
    {
     "name": "stdin",
     "output_type": "stream",
     "text": [
      "Enter a string:  Ascending order\n"
     ]
    },
    {
     "name": "stdout",
     "output_type": "stream",
     "text": [
      "Ascending-order\n"
     ]
    }
   ],
   "source": [
    "#  23. Replace all spaces in a string with\n",
    "# Create a program that replaces all spaces in a string with a hyphen (-).\n",
    "string = input(\"Enter a string: \")\n",
    "string = string.replace(\" \", \"-\")\n",
    "print(string)"
   ]
  },
  {
   "cell_type": "code",
   "execution_count": 49,
   "id": "737d9710-3823-4d69-ac2e-ab1fbcd52055",
   "metadata": {},
   "outputs": [
    {
     "name": "stdout",
     "output_type": "stream",
     "text": [
      "First 10 even numbers: [2, 4, 6, 8, 10, 12, 14, 16, 18, 20]\n"
     ]
    }
   ],
   "source": [
    "#  24. Create a list of first 10 even numbers\n",
    "# Write a program to generate and print a list of the first 10 even numbers (starting from2).\n",
    "even_numbers = []\n",
    "for i in range(1, 11):\n",
    "    even_numbers.append(i * 2)\n",
    "print(\"First 10 even numbers:\", even_numbers)"
   ]
  },
  {
   "cell_type": "code",
   "execution_count": 52,
   "id": "276e5294-ffc4-4aac-b338-9d1876b26928",
   "metadata": {},
   "outputs": [
    {
     "name": "stdout",
     "output_type": "stream",
     "text": [
      "Sum:  389\n",
      "Average:  55.57142857142857\n"
     ]
    }
   ],
   "source": [
    "# 25. Find the sum & average of a list of numbers\n",
    "# Create a list of numbers, calculate their sum and average, and print both results.\n",
    "lst = [23,54,81,43,29,94,65]\n",
    "Sum = sum(lst)\n",
    "Average = Sum / 7\n",
    "print(\"Sum: \",Sum)\n",
    "print(\"Average: \",Average)"
   ]
  },
  {
   "cell_type": "code",
   "execution_count": 53,
   "id": "39b20869-17c9-4b36-bb11-8f05d1a0ffa6",
   "metadata": {},
   "outputs": [
    {
     "name": "stdout",
     "output_type": "stream",
     "text": [
      "Sorted list in ascending order: [23, 29, 43, 54, 65, 81, 94]\n"
     ]
    }
   ],
   "source": [
    "#  26. Sort a list in ascending order without using sort()\n",
    "# Sort a list of integers in ascending order without using the sort() method (similar to\n",
    "# task 7, reinforcing the concept).\n",
    "lst = [23, 54, 81, 43, 29, 94, 65]\n",
    "n = len(lst)\n",
    "for i in range(n):\n",
    "    for j in range(0, n - i - 1):\n",
    "        if lst[j] > lst[j + 1]:\n",
    "            lst[j], lst[j + 1] = lst[j + 1], lst[j]\n",
    "print(\"Sorted list in ascending order:\", lst)"
   ]
  },
  {
   "cell_type": "code",
   "execution_count": 54,
   "id": "d8bcf1be-8b57-4ff4-9429-d2344bc82076",
   "metadata": {},
   "outputs": [
    {
     "name": "stdout",
     "output_type": "stream",
     "text": [
      "Merged list:  [5, 3, 81, 10, 75, 23, 9, 1]\n"
     ]
    }
   ],
   "source": [
    "#27. Merge two lists into one\n",
    "# Write a program to merge two lists into a single list and print the result.\n",
    "lst1 = [5, 3,81,10]\n",
    "lst2 = [75,23,9,1]\n",
    "print(\"Merged list: \", lst1 + lst2)"
   ]
  },
  {
   "cell_type": "code",
   "execution_count": 56,
   "id": "635db5bf-28a8-42bc-babf-f5769acaccdb",
   "metadata": {},
   "outputs": [
    {
     "name": "stdout",
     "output_type": "stream",
     "text": [
      "[1, 3, 5, 9, 10, 75, 81, 23]\n"
     ]
    }
   ],
   "source": [
    "#28. Remove duplicates from a list\n",
    "# Create a program that removes duplicates from a list and prints the updated list.\n",
    "lst = [5, 3, 81, 10, 75, 23, 9, 1, 75, 23]\n",
    "lst= list(set(lst))\n",
    "print(lst)"
   ]
  },
  {
   "cell_type": "code",
   "execution_count": 77,
   "id": "40fe1d2b-c841-4a72-af75-6f05ed2b2bf3",
   "metadata": {},
   "outputs": [
    {
     "name": "stdout",
     "output_type": "stream",
     "text": [
      "Second largest number: 75\n"
     ]
    }
   ],
   "source": [
    "# 29. Find the second largest number in a list\n",
    "# Write a program to find and print the second largest number in a list of numbers.\n",
    "lst = [5, 3, 81, 10, 75, 9, 1]\n",
    "lst.sort()\n",
    "if len(lst) >= 2:\n",
    "    print(\"Second largest number:\", lst[-2])\n",
    "else:\n",
    "    print(\"List does not have a second largest number.\")"
   ]
  },
  {
   "cell_type": "code",
   "execution_count": null,
   "id": "835813ea-9103-4f63-a1fc-9bc06896efcb",
   "metadata": {},
   "outputs": [],
   "source": []
  }
 ],
 "metadata": {
  "kernelspec": {
   "display_name": "Python 3 (ipykernel)",
   "language": "python",
   "name": "python3"
  },
  "language_info": {
   "codemirror_mode": {
    "name": "ipython",
    "version": 3
   },
   "file_extension": ".py",
   "mimetype": "text/x-python",
   "name": "python",
   "nbconvert_exporter": "python",
   "pygments_lexer": "ipython3",
   "version": "3.10.11"
  }
 },
 "nbformat": 4,
 "nbformat_minor": 5
}
