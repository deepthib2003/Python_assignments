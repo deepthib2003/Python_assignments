{
 "cells": [
  {
   "cell_type": "markdown",
   "id": "d1f267ae-fb7d-4a8d-a24c-379943dc6fd9",
   "metadata": {},
   "source": [
    "<h1>Day 18</h1>"
   ]
  },
  {
   "cell_type": "code",
   "execution_count": 27,
   "id": "b3104320-0e61-4eff-87c5-d346afb9f96e",
   "metadata": {},
   "outputs": [],
   "source": [
    "# 1. Create a list of dictionaries for employees (name, department, salary).\n",
    "employees = [\n",
    "    {\"name\": \"Anika\", \"department\": \"Finance\", \"salary\": 75000},\n",
    "    {\"name\": \"JayaKrishna\", \"department\": \"Engineering\", \"salary\": 90000},\n",
    "    {\"name\": \"Chetana\", \"department\": \"HR\", \"salary\": 65000},\n",
    "    {\"name\": \"Dong Lee\", \"department\": \"HR\", \"salary\": 60000},\n",
    "    {\"name\": \"Deepthi\", \"department\": \"Engineering\", \"salary\": 95000},\n",
    "    {\"name\": \"Nikitha\", \"department\": \"Finance\", \"salary\": 72000},\n",
    "    {\"name\": \"Sai Teja\", \"department\": \"Marketing\", \"salary\": 98000},\n",
    "    {\"name\": \"Rohini\", \"department\": \"Engineering\", \"salary\": 88000}\n",
    "]"
   ]
  },
  {
   "cell_type": "code",
   "execution_count": 28,
   "id": "f53df1a9-4cba-445a-aa88-928c2f52b611",
   "metadata": {},
   "outputs": [
    {
     "name": "stdout",
     "output_type": "stream",
     "text": [
      "{'name': 'Chetana', 'department': 'HR', 'salary': 65000}\n",
      "{'name': 'Dong Lee', 'department': 'HR', 'salary': 60000}\n"
     ]
    }
   ],
   "source": [
    "#  2. Print all employees working in \"HR\".\n",
    "for employee in employees:\n",
    "    if employee[\"department\"] == \"HR\":\n",
    "        print(employee)"
   ]
  },
  {
   "cell_type": "code",
   "execution_count": 30,
   "id": "728e725d-ec6e-485e-93a0-de3c0605f744",
   "metadata": {},
   "outputs": [
    {
     "name": "stdin",
     "output_type": "stream",
     "text": [
      "Enter an employee name:  Sai Teja\n"
     ]
    },
    {
     "name": "stdout",
     "output_type": "stream",
     "text": [
      "Salary of Sai Teja is: 98000\n"
     ]
    }
   ],
   "source": [
    "#  3. Access the salary of a given employee.\n",
    "name = input(\"Enter an employee name: \")\n",
    "\n",
    "for emp in employees:\n",
    "    if emp[\"name\"] == name:\n",
    "        print(\"Salary of\", name, \"is:\", emp[\"salary\"])\n",
    "        break"
   ]
  },
  {
   "cell_type": "code",
   "execution_count": 31,
   "id": "519f8d7b-4dfb-4ce8-b7be-3808b7206f71",
   "metadata": {},
   "outputs": [
    {
     "data": {
      "text/plain": [
       "[{'name': 'Anika', 'department': 'Finance', 'salary': 75000},\n",
       " {'name': 'JayaKrishna', 'department': 'Engineering', 'salary': 90000},\n",
       " {'name': 'Chetana', 'department': 'HR', 'salary': 65000},\n",
       " {'name': 'Dong Lee', 'department': 'HR', 'salary': 60000},\n",
       " {'name': 'Deepthi', 'department': 'Engineering', 'salary': 95000},\n",
       " {'name': 'Nikitha', 'department': 'Finance', 'salary': 72000},\n",
       " {'name': 'Sai Teja', 'department': 'Marketing', 'salary': 98000},\n",
       " {'name': 'Rohini', 'department': 'Engineering', 'salary': 88000},\n",
       " {'name': 'Prashanthi', 'department': 'Teacher', 'salary': 65000}]"
      ]
     },
     "execution_count": 31,
     "metadata": {},
     "output_type": "execute_result"
    }
   ],
   "source": [
    "#  4. Add a new employee to the list.\n",
    "new_employee = {\"name\": \"Prashanthi\", \"department\": \"Teacher\", \"salary\": 65000}\n",
    "employees.append(new_employee)\n",
    "employees"
   ]
  },
  {
   "cell_type": "code",
   "execution_count": 32,
   "id": "6977ca4c-31c6-4553-af2c-e3cd00a6aeba",
   "metadata": {},
   "outputs": [
    {
     "name": "stdout",
     "output_type": "stream",
     "text": [
      "{'name': 'Deepthi', 'department': 'MCA', 'salary': 95000}\n"
     ]
    }
   ],
   "source": [
    "# 5. Update the department of an employee.\n",
    "for emp in employees:\n",
    "    if emp[\"name\"] == \"Deepthi\":\n",
    "        emp[\"department\"] = \"MCA\"\n",
    "        print(emp)\n",
    "        break"
   ]
  },
  {
   "cell_type": "code",
   "execution_count": 33,
   "id": "9b00d7a8-ee89-4bb3-aec4-e4ba062e6f1f",
   "metadata": {},
   "outputs": [
    {
     "data": {
      "text/plain": [
       "[{'name': 'Anika', 'department': 'Finance', 'salary': 75000},\n",
       " {'name': 'JayaKrishna', 'department': 'Engineering', 'salary': 90000},\n",
       " {'name': 'Chetana', 'department': 'HR', 'salary': 65000},\n",
       " {'name': 'Dong Lee', 'department': 'HR', 'salary': 60000},\n",
       " {'name': 'Deepthi', 'department': 'MCA', 'salary': 95000},\n",
       " {'name': 'Nikitha', 'department': 'Finance', 'salary': 72000},\n",
       " {'name': 'Sai Teja', 'department': 'Marketing', 'salary': 98000},\n",
       " {'name': 'Rohini', 'department': 'Engineering', 'salary': 88000},\n",
       " {'name': 'Prashanthi', 'department': 'Teacher', 'salary': 65000}]"
      ]
     },
     "execution_count": 33,
     "metadata": {},
     "output_type": "execute_result"
    }
   ],
   "source": [
    "employees"
   ]
  },
  {
   "cell_type": "code",
   "execution_count": 34,
   "id": "53b37bd2-323f-4394-a560-68c2c61de828",
   "metadata": {},
   "outputs": [
    {
     "name": "stdout",
     "output_type": "stream",
     "text": [
      "78666.66666666667\n"
     ]
    }
   ],
   "source": [
    "#  6. Calculate the average salary of all employees.\n",
    "total_salary = 0\n",
    "for emp in employees:\n",
    "    total_salary += emp[\"salary\"]\n",
    "average_salary = total_salary / len(employees)\n",
    "print(average_salary)"
   ]
  },
  {
   "cell_type": "code",
   "execution_count": 35,
   "id": "16a783cc-6014-4913-b049-e2957a46e726",
   "metadata": {},
   "outputs": [
    {
     "name": "stdout",
     "output_type": "stream",
     "text": [
      "{'name': 'Sai Teja', 'department': 'Marketing', 'salary': 98000}\n"
     ]
    }
   ],
   "source": [
    "#  7. Find the employee with the highest salary\n",
    "highest_paid = employees[0]\n",
    "for emp in employees:\n",
    "    if emp[\"salary\"] > highest_paid[\"salary\"]:\n",
    "        highest_paid = emp\n",
    "print(highest_paid)"
   ]
  },
  {
   "cell_type": "code",
   "execution_count": 36,
   "id": "6be032f7-33ed-4fdb-b2cc-5adc29a925df",
   "metadata": {},
   "outputs": [
    {
     "name": "stdout",
     "output_type": "stream",
     "text": [
      "{'name': 'Anika', 'department': 'Finance', 'salary': 75000}\n",
      "{'name': 'Chetana', 'department': 'HR', 'salary': 65000}\n",
      "{'name': 'Deepthi', 'department': 'MCA', 'salary': 95000}\n",
      "{'name': 'Dong Lee', 'department': 'HR', 'salary': 60000}\n",
      "{'name': 'JayaKrishna', 'department': 'Engineering', 'salary': 90000}\n",
      "{'name': 'Nikitha', 'department': 'Finance', 'salary': 72000}\n",
      "{'name': 'Prashanthi', 'department': 'Teacher', 'salary': 65000}\n",
      "{'name': 'Rohini', 'department': 'Engineering', 'salary': 88000}\n",
      "{'name': 'Sai Teja', 'department': 'Marketing', 'salary': 98000}\n"
     ]
    }
   ],
   "source": [
    "# 8. Sort employees by name alphabetically. \n",
    "sorted_employees = sorted(employees, key=lambda x: x[\"name\"])\n",
    "for emp in sorted_employees:\n",
    "    print(emp)"
   ]
  },
  {
   "cell_type": "code",
   "execution_count": 37,
   "id": "0711b7e2-b06f-4519-ae22-97b479f5faa2",
   "metadata": {},
   "outputs": [
    {
     "name": "stdout",
     "output_type": "stream",
     "text": [
      "{'name': 'JayaKrishna', 'department': 'Engineering', 'salary': 90000}\n",
      "{'name': 'Deepthi', 'department': 'MCA', 'salary': 95000}\n",
      "{'name': 'Sai Teja', 'department': 'Marketing', 'salary': 98000}\n",
      "{'name': 'Rohini', 'department': 'Engineering', 'salary': 88000}\n"
     ]
    }
   ],
   "source": [
    "#  9. Filter employees with salary above a certain amount.\n",
    "for emp in employees:\n",
    "    if emp[\"salary\"] > 75000:\n",
    "        print(emp)"
   ]
  },
  {
   "cell_type": "code",
   "execution_count": 38,
   "id": "f57a71fc-a158-4a65-872f-9475d940f829",
   "metadata": {},
   "outputs": [
    {
     "name": "stdin",
     "output_type": "stream",
     "text": [
      "Enter an employee name :  Chetana\n"
     ]
    },
    {
     "data": {
      "text/plain": [
       "[{'name': 'Anika', 'department': 'Finance', 'salary': 75000},\n",
       " {'name': 'JayaKrishna', 'department': 'Engineering', 'salary': 90000},\n",
       " {'name': 'Dong Lee', 'department': 'HR', 'salary': 60000},\n",
       " {'name': 'Deepthi', 'department': 'MCA', 'salary': 95000},\n",
       " {'name': 'Nikitha', 'department': 'Finance', 'salary': 72000},\n",
       " {'name': 'Sai Teja', 'department': 'Marketing', 'salary': 98000},\n",
       " {'name': 'Rohini', 'department': 'Engineering', 'salary': 88000},\n",
       " {'name': 'Prashanthi', 'department': 'Teacher', 'salary': 65000}]"
      ]
     },
     "execution_count": 38,
     "metadata": {},
     "output_type": "execute_result"
    }
   ],
   "source": [
    "# 10. Delete an employee by name from the list\n",
    "name = input(\"Enter an employee name : \")\n",
    "for emp in employees:\n",
    "    if emp[\"name\"] == name:\n",
    "        employees.remove(emp)\n",
    "        break\n",
    "employees"
   ]
  },
  {
   "cell_type": "code",
   "execution_count": null,
   "id": "26a44c41-5920-4c2e-ae46-9f7b28648de0",
   "metadata": {},
   "outputs": [],
   "source": []
  }
 ],
 "metadata": {
  "kernelspec": {
   "display_name": "Python 3 (ipykernel)",
   "language": "python",
   "name": "python3"
  },
  "language_info": {
   "codemirror_mode": {
    "name": "ipython",
    "version": 3
   },
   "file_extension": ".py",
   "mimetype": "text/x-python",
   "name": "python",
   "nbconvert_exporter": "python",
   "pygments_lexer": "ipython3",
   "version": "3.10.11"
  }
 },
 "nbformat": 4,
 "nbformat_minor": 5
}
