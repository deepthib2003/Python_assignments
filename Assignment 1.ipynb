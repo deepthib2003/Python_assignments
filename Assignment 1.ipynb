{
 "cells": [
  {
   "cell_type": "markdown",
   "id": "c935ab68-ff61-495d-b70f-133d866b53c8",
   "metadata": {},
   "source": [
    "Day 1 Assignment"
   ]
  },
  {
   "cell_type": "code",
   "execution_count": 2,
   "id": "7756a9cd-9841-40ac-877c-c7f3e464ed1d",
   "metadata": {},
   "outputs": [
    {
     "name": "stdout",
     "output_type": "stream",
     "text": [
      "Deepthi\n"
     ]
    }
   ],
   "source": [
    "#Write a program to print your name\n",
    "name = \"Deepthi\"\n",
    "print(name)"
   ]
  },
  {
   "cell_type": "code",
   "execution_count": 3,
   "id": "a59aa9c5-38c0-4395-8f1d-ff162cd44acf",
   "metadata": {},
   "outputs": [
    {
     "name": "stdout",
     "output_type": "stream",
     "text": [
      "8\n"
     ]
    }
   ],
   "source": [
    "#Print the result of 5 + 3 using Python.\n",
    "print(5+3)"
   ]
  },
  {
   "cell_type": "code",
   "execution_count": 4,
   "id": "2682edba-7f5c-4b14-87b6-6c3757da109b",
   "metadata": {},
   "outputs": [
    {
     "name": "stdout",
     "output_type": "stream",
     "text": [
      "10\n"
     ]
    }
   ],
   "source": [
    "# Create a variable x with value 10 and print it.\n",
    "x = 10\n",
    "print(x)"
   ]
  },
  {
   "cell_type": "code",
   "execution_count": 5,
   "id": "1f6847df-6f52-424f-9224-8fa768184149",
   "metadata": {},
   "outputs": [
    {
     "name": "stdout",
     "output_type": "stream",
     "text": [
      "<class 'str'>\n",
      "<class 'int'>\n",
      "<class 'bool'>\n"
     ]
    }
   ],
   "source": [
    "#Create 3 variables: name, age, and is_student (use str, int, and bool)\n",
    "name = \"Deepthi\"\n",
    "age = 23\n",
    "is_student = True\n",
    "print(type(name))\n",
    "print(type(age))\n",
    "print(type(is_student))"
   ]
  },
  {
   "cell_type": "code",
   "execution_count": 6,
   "id": "0263bab5-2a10-4e46-bbc6-f612acb1eb59",
   "metadata": {},
   "outputs": [
    {
     "name": "stdout",
     "output_type": "stream",
     "text": [
      " Hello! \n",
      " Welcome to Python \n"
     ]
    }
   ],
   "source": [
    "#Write a program to print:\n",
    "#Hello!\n",
    "#Welcome to Python.\n",
    "#Add comments to your program explaining each line.\n",
    "#prints the word \"Hello!\" as the result.\n",
    "print(\" Hello! \")\n",
    "#prints \" Welcome to Python \" as the result.\n",
    "print(\" Welcome to Python \")\n",
    "       "
   ]
  },
  {
   "cell_type": "code",
   "execution_count": 7,
   "id": "7b057dd1-e7dd-4945-8b22-0a04a44265b3",
   "metadata": {},
   "outputs": [
    {
     "name": "stdout",
     "output_type": "stream",
     "text": [
      "<class 'str'>\n",
      "<class 'float'>\n",
      "<class 'int'>\n",
      "<class 'bool'>\n"
     ]
    }
   ],
   "source": [
    "#Print the type of each of these variables:\n",
    "a = \" hello \"\n",
    "print(type(a))\n",
    "b = 3.14\n",
    "print(type(b))\n",
    "c = 15\n",
    "print(type(c))\n",
    "d = True\n",
    "print(type(d))"
   ]
  },
  {
   "cell_type": "code",
   "execution_count": 16,
   "id": "b768841e-e43d-46c6-95cd-d8ec618b13f5",
   "metadata": {},
   "outputs": [
    {
     "name": "stdout",
     "output_type": "stream",
     "text": [
      "117\n"
     ]
    }
   ],
   "source": [
    "#Write a program to add two numbers and print the result.\n",
    "num1 = 19\n",
    "num2 = 98\n",
    "print(num1 + num2)"
   ]
  },
  {
   "cell_type": "code",
   "execution_count": 2,
   "id": "b60258eb-995c-4f5e-a728-b57b647ac287",
   "metadata": {},
   "outputs": [
    {
     "name": "stdin",
     "output_type": "stream",
     "text": [
      " Enter your name :  Deepthi\n"
     ]
    },
    {
     "name": "stdout",
     "output_type": "stream",
     "text": [
      "Hello Deepthi\n"
     ]
    }
   ],
   "source": [
    "#Ask user to input their name and print \"Hello <name>\"\n",
    "name = input(\" Enter your name : \")\n",
    "print(\"Hello \" + name)"
   ]
  },
  {
   "cell_type": "code",
   "execution_count": 15,
   "id": "998030e8-61f6-4845-8536-c7744a0676b9",
   "metadata": {},
   "outputs": [
    {
     "name": "stdin",
     "output_type": "stream",
     "text": [
      " Enter 1st number :  18\n",
      " Enter 2nd number :  10\n"
     ]
    },
    {
     "name": "stdout",
     "output_type": "stream",
     "text": [
      "28\n"
     ]
    }
   ],
   "source": [
    "#Ask user to input two numbers and print their sum.\n",
    "num1 = int( input(\" Enter 1st number : \"))\n",
    "num2 = int( input(\" Enter 2nd number : \"))\n",
    "print(num1 + num2)"
   ]
  },
  {
   "cell_type": "code",
   "execution_count": 17,
   "id": "ad84be93-a584-4372-b29d-769e136ef9c7",
   "metadata": {},
   "outputs": [
    {
     "name": "stdout",
     "output_type": "stream",
     "text": [
      "Oye\n"
     ]
    }
   ],
   "source": [
    "movie_name = \"Oye\"\n",
    "print(movie_name)"
   ]
  },
  {
   "cell_type": "code",
   "execution_count": 30,
   "id": "e038881b-9d53-4060-b115-59b73f9ffd00",
   "metadata": {},
   "outputs": [
    {
     "name": "stdout",
     "output_type": "stream",
     "text": [
      "10 , A , 4\n"
     ]
    }
   ],
   "source": [
    "#Store your class, section, and roll number in variables and print them on one line.\n",
    "classes = 10\n",
    "section = \"A\"\n",
    "roll_number = 4\n",
    "print(classes , section , roll_number , sep = \" , \" )"
   ]
  },
  {
   "cell_type": "code",
   "execution_count": 33,
   "id": "dd62223e-bd24-45d4-9a74-c8e0907cbf02",
   "metadata": {},
   "outputs": [
    {
     "name": "stdout",
     "output_type": "stream",
     "text": [
      "20\n",
      "1010\n"
     ]
    }
   ],
   "source": [
    "#What is the output of this code?\n",
    "x = 10\n",
    "y = \"10\"\n",
    "print(x + x)\n",
    "print(y + y)"
   ]
  },
  {
   "cell_type": "code",
   "execution_count": 34,
   "id": "4c71443e-6e8b-4f6c-8f3b-9943b5168cb0",
   "metadata": {},
   "outputs": [
    {
     "name": "stdout",
     "output_type": "stream",
     "text": [
      " Deepthi  Deepthi  Deepthi  Deepthi  Deepthi \n"
     ]
    }
   ],
   "source": [
    "# Print your name 5 times using one print() statement (no loop yet)\n",
    "name = \" Deepthi \"\n",
    "print( 5 * name ) "
   ]
  },
  {
   "cell_type": "code",
   "execution_count": 35,
   "id": "5a5818a7-ec8f-4615-b56a-c42d65a74106",
   "metadata": {},
   "outputs": [
    {
     "name": "stdout",
     "output_type": "stream",
     "text": [
      "100\n",
      "1010\n",
      "<class 'float'>\n"
     ]
    }
   ],
   "source": [
    "# Predict and explain the output:\n",
    "a = 10\n",
    "b = 3.5\n",
    "c = \"10\"\n",
    "print(a * int(c))\n",
    "print(str(a) + c)\n",
    "print(type(b * a))"
   ]
  },
  {
   "cell_type": "code",
   "execution_count": 36,
   "id": "3a4d39d1-23ec-4969-a2da-2f441a441b6a",
   "metadata": {},
   "outputs": [
    {
     "name": "stdout",
     "output_type": "stream",
     "text": [
      " Total marks =  273\n"
     ]
    }
   ],
   "source": [
    "#Write a program to input your marks in 3 subjects and print the total.\n",
    "subject1 = 91\n",
    "subject2 = 89\n",
    "subject3 = 93\n",
    "print(\" Total marks = \",subject1 + subject2 + subject3)"
   ]
  },
  {
   "cell_type": "code",
   "execution_count": 37,
   "id": "ae4d79e3-7b40-45c6-ae4a-f9acf82197ab",
   "metadata": {},
   "outputs": [
    {
     "name": "stdout",
     "output_type": "stream",
     "text": [
      "Python-is-fun!\n"
     ]
    }
   ],
   "source": [
    "# Print the output of:\n",
    "print(\"Python\", \"is\", \"fun\", sep=\"-\", end=\"!\\n\")"
   ]
  },
  {
   "cell_type": "code",
   "execution_count": 38,
   "id": "3261ea33-2749-447a-9069-007c85670884",
   "metadata": {},
   "outputs": [
    {
     "name": "stdout",
     "output_type": "stream",
     "text": [
      "Area: 50\n"
     ]
    }
   ],
   "source": [
    "#Use comments to explain this code:\n",
    "# This program calculates area\n",
    "#Length of the area\n",
    "length = 5\n",
    "#Width of the area\n",
    "width = 10\n",
    "#Calculate area with a formula\n",
    "area = length * width\n",
    "print(\"Area:\", area)"
   ]
  },
  {
   "cell_type": "markdown",
   "id": "95559dcc-ccdb-48ab-bf9a-45cb8e5c137b",
   "metadata": {},
   "source": []
  },
  {
   "cell_type": "code",
   "execution_count": null,
   "id": "be760c1d-b89f-4eca-be63-d923fc154a65",
   "metadata": {},
   "outputs": [],
   "source": []
  }
 ],
 "metadata": {
  "kernelspec": {
   "display_name": "Python 3 (ipykernel)",
   "language": "python",
   "name": "python3"
  },
  "language_info": {
   "codemirror_mode": {
    "name": "ipython",
    "version": 3
   },
   "file_extension": ".py",
   "mimetype": "text/x-python",
   "name": "python",
   "nbconvert_exporter": "python",
   "pygments_lexer": "ipython3",
   "version": "3.10.11"
  }
 },
 "nbformat": 4,
 "nbformat_minor": 5
}
