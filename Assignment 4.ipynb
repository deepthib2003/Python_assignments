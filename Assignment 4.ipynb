{
 "cells": [
  {
   "cell_type": "markdown",
   "id": "925ecf0c-9596-4955-bceb-d2589bd742c4",
   "metadata": {},
   "source": [
    "Day 4 "
   ]
  },
  {
   "cell_type": "code",
   "execution_count": 65,
   "id": "ec78e698-4d12-4691-897d-1854afd3750c",
   "metadata": {},
   "outputs": [
    {
     "name": "stdin",
     "output_type": "stream",
     "text": [
      "Enter your marks:  92\n"
     ]
    },
    {
     "name": "stdout",
     "output_type": "stream",
     "text": [
      "A\n"
     ]
    }
   ],
   "source": [
    "# Grade based on marks\n",
    "# Input your marks and print:\n",
    "marks = int(input(\"Enter your marks: \"))\n",
    "if marks >= 90:\n",
    "    print(\"A\")\n",
    "elif marks >= 75:\n",
    "    print(\"B\")\n",
    "elif marks >= 50:\n",
    "    print(\"C\")\n",
    "else:\n",
    "    print(\"Fail\")"
   ]
  },
  {
   "cell_type": "code",
   "execution_count": 5,
   "id": "ac2f11db-e14f-478e-9388-cd458a1b734d",
   "metadata": {},
   "outputs": [
    {
     "name": "stdin",
     "output_type": "stream",
     "text": [
      "Enter a number:  -1\n"
     ]
    },
    {
     "name": "stdout",
     "output_type": "stream",
     "text": [
      "Negative\n"
     ]
    }
   ],
   "source": [
    "# Numberclassification\n",
    "# Input a number and print if it’s:\n",
    "num = int(input(\"Enter a number: \"))\n",
    "if num > 0:\n",
    "    print(\"Positive\")\n",
    "elif num < 0:\n",
    "    print(\"Negative\")\n",
    "else:\n",
    "    print(\"Zero\")"
   ]
  },
  {
   "cell_type": "code",
   "execution_count": 8,
   "id": "1ae97733-23d6-43cc-a00f-58f1d1ae03a2",
   "metadata": {},
   "outputs": [
    {
     "name": "stdin",
     "output_type": "stream",
     "text": [
      "Enter any number from 1 -7:  7\n"
     ]
    },
    {
     "name": "stdout",
     "output_type": "stream",
     "text": [
      "Saturday\n"
     ]
    }
   ],
   "source": [
    "#Day of the week\n",
    "# Ask for a day number (1–7). Print the name of the day using elif.\n",
    "day = int(input(\"Enter any number from 1 -7: \"))\n",
    "if day == 1:\n",
    "    print(\"Sunday\")\n",
    "elif day == 2:\n",
    "    print(\"Monday\")\n",
    "elif day == 3:\n",
    "    print(\"Tuesday\")\n",
    "elif day == 4:\n",
    "    print(\"wednesday\")\n",
    "elif day == 5: print(\"Thursday\")\n",
    "elif day == 6: print(\"Friday\")\n",
    "else:\n",
    "    print(\"Saturday\")"
   ]
  },
  {
   "cell_type": "code",
   "execution_count": 10,
   "id": "62242b2f-09a5-4de3-b8de-f557a412e93b",
   "metadata": {},
   "outputs": [
    {
     "name": "stdin",
     "output_type": "stream",
     "text": [
      "Enter first number:  10\n",
      "Enter second number:  18\n"
     ]
    },
    {
     "name": "stdout",
     "output_type": "stream",
     "text": [
      "Second is greater\n"
     ]
    }
   ],
   "source": [
    "#Comparetwonumbers\n",
    "# Input two numbers and print:\n",
    "num1 = int(input(\"Enter first number: \"))\n",
    "num2 = int(input(\"Enter second number: \"))\n",
    "if num1 == num2:\n",
    "    print(\"Equal\")\n",
    "elif num1 > num2:\n",
    "    print(\"First is greater\")\n",
    "else:\n",
    "    print(\"Second is greater\")"
   ]
  },
  {
   "cell_type": "code",
   "execution_count": 19,
   "id": "ec44dcab-ad88-4a23-88b2-4d1dcbad5817",
   "metadata": {},
   "outputs": [
    {
     "name": "stdin",
     "output_type": "stream",
     "text": [
      "Enter a number:  15\n"
     ]
    },
    {
     "name": "stdout",
     "output_type": "stream",
     "text": [
      "FizzBuzz\n"
     ]
    }
   ],
   "source": [
    "# FizzBuzz\n",
    "# Input a number. If divisible by both 3 and 5, print ”FizzBuzz”\n",
    "num = int(input(\"Enter a number: \"))\n",
    "if num % 3 == 0 and num % 5 == 0:\n",
    "    print(\"FizzBuzz\")\n",
    "elif num % 3 == 0:\n",
    "    print(\"Fizz\")\n",
    "elif num % 5 == 0:\n",
    "    print(\"Buzz\")\n",
    "else:\n",
    "    print(\"None\")"
   ]
  },
  {
   "cell_type": "code",
   "execution_count": 26,
   "id": "45a47381-28b2-4e16-a705-e02580056d40",
   "metadata": {},
   "outputs": [
    {
     "name": "stdin",
     "output_type": "stream",
     "text": [
      "Enter your age:  38\n"
     ]
    },
    {
     "name": "stdout",
     "output_type": "stream",
     "text": [
      "Adult\n"
     ]
    }
   ],
   "source": [
    "# Age category\n",
    "# Asktheuserforage. Ifage<13→”Child”,13–19→”Teen”,20–59→”Adult”,\n",
    "# 60+ →”Senior”\n",
    "age = int(input(\"Enter your age: \"))\n",
    "if age < 13:\n",
    "    print(\"Child\")\n",
    "elif 13 <= age <= 19:\n",
    "    print(\"Teen\")\n",
    "elif 20 <= age <= 59:\n",
    "    print(\"Adult\")\n",
    "else:\n",
    "    print(\"Senior\")"
   ]
  },
  {
   "cell_type": "code",
   "execution_count": 30,
   "id": "346c4ad0-fead-4231-850e-41463bbf3e83",
   "metadata": {},
   "outputs": [
    {
     "name": "stdin",
     "output_type": "stream",
     "text": [
      "Enter any number between 1-3 :  2\n"
     ]
    },
    {
     "name": "stdout",
     "output_type": "stream",
     "text": [
      "Two\n"
     ]
    }
   ],
   "source": [
    "# Numbertoword\n",
    "#Ask for a number between 1 to 3. Print ”One”, ”Two”, ”Three” or ”Invalid”\n",
    "# using elif.\n",
    "num = int(input(\"Enter any number between 1-3 : \"))\n",
    "if num == 1:\n",
    "    print(\"One\")\n",
    "elif num == 2:\n",
    "    print(\"Two\")\n",
    "elif num == 3:\n",
    "    print(\"Three\")\n",
    "else:\n",
    "    print(\"Invalid\")"
   ]
  },
  {
   "cell_type": "code",
   "execution_count": 40,
   "id": "162489b8-4fe7-490a-8573-11e591ecc520",
   "metadata": {},
   "outputs": [
    {
     "name": "stdin",
     "output_type": "stream",
     "text": [
      "Enter a username :  admin\n",
      "Enter a password:  deepthi\n"
     ]
    },
    {
     "name": "stdout",
     "output_type": "stream",
     "text": [
      "Wrong Password\n"
     ]
    }
   ],
   "source": [
    "# Nested if: Login check\n",
    "#Input username. If it’s ”admin”, then check password. \n",
    "#If password is correct, print ”Login success”.\n",
    "username = input(\"Enter a username : \")\n",
    "if username == \"admin\":\n",
    "    password = input(\"Enter a password: \")\n",
    "    if password == \"admin56\":\n",
    "        print(\"Login success\")\n",
    "    else:\n",
    "       print(\"Wrong Password\")\n",
    "else:\n",
    "    print(\"Login Fail\")"
   ]
  },
  {
   "cell_type": "code",
   "execution_count": 42,
   "id": "8e1e7547-6c32-41e3-b9fa-e41e8bc65ef8",
   "metadata": {},
   "outputs": [
    {
     "name": "stdin",
     "output_type": "stream",
     "text": [
      "Enter your city:  DeLhi\n",
      "Enter your age:  23\n"
     ]
    },
    {
     "name": "stdout",
     "output_type": "stream",
     "text": [
      "Eligible to vote in Delhi\n"
     ]
    }
   ],
   "source": [
    "# Voting eligibility\n",
    "# Ask for city and age. If city = ”Delhi” and age ≥ 18 → \n",
    "# ”Eligible to vote in Delhi”\n",
    "# Else print reason.\n",
    "city = input(\"Enter your city: \")\n",
    "if city.lower() == \"Delhi\".lower():\n",
    "    age = int(input(\"Enter your age: \"))\n",
    "    if age >= 18:\n",
    "        print(\"Eligible to vote in Delhi\")\n",
    "    else:\n",
    "        print(\"You are not eligible\")\n",
    "else:\n",
    "    print(\"Not eligible\")"
   ]
  },
  {
   "cell_type": "code",
   "execution_count": 47,
   "id": "d9cf61b0-b166-496b-8da9-8bf589084db0",
   "metadata": {},
   "outputs": [
    {
     "name": "stdin",
     "output_type": "stream",
     "text": [
      "Enter your marks:  58\n",
      "Enter your attendance:  89\n"
     ]
    },
    {
     "name": "stdout",
     "output_type": "stream",
     "text": [
      "Not eligible for award\n"
     ]
    }
   ],
   "source": [
    "#Awardeligibility\n",
    "# Ask for total marks and attendance percentage.\n",
    "# If marks ≥ 75 and attendance ≥ 85 → print ”Eligible for award”\n",
    "# Else → print reason.\n",
    "total_marks = int(input(\"Enter your marks: \"))\n",
    "attendance = int(input(\"Enter your attendance: \"))\n",
    "if total_marks >= 75 and attendance >= 85:\n",
    "    print(\"Eligible for award\")\n",
    "else:\n",
    "    print(\"Not eligible for award\")"
   ]
  },
  {
   "cell_type": "code",
   "execution_count": 55,
   "id": "56d5ceb4-b75a-4371-a257-3d97dbdfeedb",
   "metadata": {},
   "outputs": [
    {
     "name": "stdout",
     "output_type": "stream",
     "text": [
      "Largest: 18\n",
      "Smallest: 5\n",
      "Sum of all three: 33\n"
     ]
    }
   ],
   "source": [
    "# Three numberoperations\n",
    "a = 18\n",
    "b = 10\n",
    "c = 5\n",
    "#Find Largest\n",
    "if a >= b and a >= c:\n",
    "    largest = a\n",
    "elif b >= a and b >= c:\n",
    "    largest = b\n",
    "else:\n",
    "    largest = c\n",
    "#Find Smallest\n",
    "if a <= b and a <= c:\n",
    "    smallest = a\n",
    "elif b <= a and b <= c:\n",
    "    smallest = b\n",
    "else:\n",
    "    smallest = c\n",
    "total = a + b + c\n",
    "print(\"Largest:\", largest)\n",
    "print(\"Smallest:\", smallest)\n",
    "print(\"Sum of all three:\", total)"
   ]
  },
  {
   "cell_type": "code",
   "execution_count": 54,
   "id": "49446c78-bf2d-4809-9a68-beff3d8e5456",
   "metadata": {},
   "outputs": [
    {
     "name": "stdin",
     "output_type": "stream",
     "text": [
      "Enter subject code:  118\n"
     ]
    },
    {
     "name": "stdout",
     "output_type": "stream",
     "text": [
      "Unknown Subject\n"
     ]
    }
   ],
   "source": [
    "# Subject code lookup\n",
    "# Ask the user for subject code:\n",
    "code = int(input(\"Enter subject code: \"))\n",
    "if code == 101:\n",
    "    print(\"Python\")\n",
    "elif code == 102:\n",
    "    print(\"Java\")\n",
    "elif code == 103:\n",
    "    print(\"HTML\")\n",
    "else:\n",
    "    print(\"Unknown Subject\")"
   ]
  },
  {
   "cell_type": "code",
   "execution_count": 59,
   "id": "07f0ede2-cac1-4841-8301-b1f1860b8581",
   "metadata": {},
   "outputs": [
    {
     "name": "stdin",
     "output_type": "stream",
     "text": [
      "Enter your salary:  29999\n",
      "Enter your exp:  3\n"
     ]
    },
    {
     "name": "stdout",
     "output_type": "stream",
     "text": [
      "eligible for raise\n"
     ]
    }
   ],
   "source": [
    "#Raise eligibility\n",
    "# Input salary and experience:\n",
    "# If salary < 30000 and exp > 2 → print ”Eligible for raise”\n",
    "# Else → ”Not eligible”\n",
    "sal = int(input(\"Enter your salary: \"))\n",
    "exp = int(input(\"Enter your exp: \"))\n",
    "if sal < 30000 and exp > 2:\n",
    "    print(\"eligible for raise\")\n",
    "else:\n",
    "    print(\"Not eligible\")"
   ]
  },
  {
   "cell_type": "code",
   "execution_count": 64,
   "id": "ee55cd08-2c14-4308-a007-ea43d2aa5704",
   "metadata": {},
   "outputs": [
    {
     "name": "stdin",
     "output_type": "stream",
     "text": [
      "Enter first number:  8\n",
      "Enter second number:  18\n"
     ]
    },
    {
     "name": "stdout",
     "output_type": "stream",
     "text": [
      "Both are even\n"
     ]
    }
   ],
   "source": [
    "# Nested if: Number properties\n",
    "# Input two numbers. Use nested if to print if:\n",
    "num1 = int(input(\"Enter first number: \"))\n",
    "num2 = int(input(\"Enter second number: \"))\n",
    "if num1 % 2 == 0 and num2 % 2 == 0:\n",
    "    print(\"Both are even\")\n",
    "elif num1 % 2 == 0 and num2 % 2!= 0:\n",
    "    print(\"At least one is odd\")\n",
    "else:\n",
    "    print(\"Neither is 0\")"
   ]
  },
  {
   "cell_type": "code",
   "execution_count": 70,
   "id": "772d82a5-4ea1-4d3b-93ce-5c1e1caa60ae",
   "metadata": {},
   "outputs": [
    {
     "name": "stdin",
     "output_type": "stream",
     "text": [
      "Enter purchase amount:  5001\n",
      "Enter payment mode:  cash\n"
     ]
    },
    {
     "name": "stdout",
     "output_type": "stream",
     "text": [
      "5% discount\n"
     ]
    }
   ],
   "source": [
    "# Nested if: Discount calculation\n",
    "pur_amount = int(input(\"Enter purchase amount: \"))\n",
    "if pur_amount > 5000:\n",
    "    payment_mode = input(\"Enter payment mode: \")\n",
    "    if payment_mode == \"card\":\n",
    "        print(\"10% discount\")\n",
    "    else:\n",
    "        print(\"5% discount\")\n",
    "else:\n",
    "    print(\"Not purchasing\")"
   ]
  },
  {
   "cell_type": "code",
   "execution_count": 76,
   "id": "635dc9e5-581d-4030-b7d2-c43544fe0d76",
   "metadata": {},
   "outputs": [
    {
     "name": "stdin",
     "output_type": "stream",
     "text": [
      "Enter first subject marks:  88\n",
      "Enter second subject marks:  79\n",
      "Enter third subject marks:  91\n"
     ]
    },
    {
     "name": "stdout",
     "output_type": "stream",
     "text": [
      "86.0\n",
      "Promoted\n"
     ]
    }
   ],
   "source": [
    "#Promotion check\n",
    "sub1 = int(input(\"Enter first subject marks: \"))\n",
    "sub2 = int(input(\"Enter second subject marks: \"))\n",
    "sub3 = int(input(\"Enter third subject marks: \"))\n",
    "avg = (sub1 + sub2 + sub3)/3\n",
    "print(avg)\n",
    "if sub1 >= 40 and sub2 >= 40 and sub3 >= 40 and (sub1 + sub2 + sub3)/3 >= 70:\n",
    "    print(\"Promoted\")\n",
    "else:\n",
    "    print(\"Not promoted\")"
   ]
  },
  {
   "cell_type": "code",
   "execution_count": 85,
   "id": "62bf6716-7b8f-48e8-b658-135367da7d24",
   "metadata": {},
   "outputs": [
    {
     "name": "stdin",
     "output_type": "stream",
     "text": [
      "Enter first number:  99\n",
      "Enter second number:  51\n"
     ]
    },
    {
     "name": "stdout",
     "output_type": "stream",
     "text": [
      "Difference between numbers:  48\n"
     ]
    }
   ],
   "source": [
    "# Conditional operations\n",
    "num1 = int(input(\"Enter first number: \"))\n",
    "num2 = int(input(\"Enter second number: \"))\n",
    "if num1 and num2 > 100:\n",
    "    print(\"sum of numbers: \", num1 + num2)\n",
    "elif 50 <= num1 <= 100 and 50 <= num2 <= 100:\n",
    "    print(\"Difference between numbers: \", num1 - num2)\n",
    "else:\n",
    "    print(\"Mutiplication of numbers: \", num1 * num2)"
   ]
  },
  {
   "cell_type": "code",
   "execution_count": 91,
   "id": "a78158a8-5201-43d8-afdc-39d1d118f41b",
   "metadata": {},
   "outputs": [
    {
     "name": "stdin",
     "output_type": "stream",
     "text": [
      "Enter your age:  29\n",
      "Enter your location:  BanGalore\n",
      "Enter your job status Employed\n"
     ]
    },
    {
     "name": "stdout",
     "output_type": "stream",
     "text": [
      "Can apply\n"
     ]
    }
   ],
   "source": [
    "# Loan eligibility\n",
    "age =int(input(\"Enter your age: \"))\n",
    "if age >= 21:\n",
    "    location = input(\"Enter your location: \")\n",
    "    if location.lower() == \"Bangalore\".lower():\n",
    "        job_status = input(\"Enter your job status\")\n",
    "        if job_status == \"Employed\":\n",
    "            print(\"Can apply\")\n",
    "else:\n",
    "    print(\"Cannot apply\")"
   ]
  },
  {
   "cell_type": "code",
   "execution_count": 95,
   "id": "faf65d5e-e1b3-4fde-9a78-992a9490c06c",
   "metadata": {},
   "outputs": [
    {
     "name": "stdin",
     "output_type": "stream",
     "text": [
      "Enter your gender(Male\\Female):  Male\n",
      "Enter your height:  162\n"
     ]
    },
    {
     "name": "stdout",
     "output_type": "stream",
     "text": [
      "Eligible for army training\n"
     ]
    }
   ],
   "source": [
    "# Nested if: Army training\n",
    "gender = input(\"Enter your gender(Male\\Female): \")\n",
    "if gender == \"Male\":\n",
    "    height = int(input(\"Enter your height: \"))\n",
    "    if height >= 160:\n",
    "        print(\"Eligible for army training\")\n",
    "    else:\n",
    "        print(\"Not eligible for army training\")\n",
    "else:\n",
    "    print(\"Not eligible\")"
   ]
  },
  {
   "cell_type": "code",
   "execution_count": 96,
   "id": "8b724165-bce8-4669-a24d-d399b9a5a3ed",
   "metadata": {},
   "outputs": [
    {
     "name": "stdin",
     "output_type": "stream",
     "text": [
      "enter your marks:  99\n",
      "enter you attendance:  89\n"
     ]
    },
    {
     "name": "stdout",
     "output_type": "stream",
     "text": [
      "Grade A\n"
     ]
    }
   ],
   "source": [
    "#Grade with attendance\n",
    "marks = int(input(\"enter your marks: \"))\n",
    "attendance = int(input(\"enter you attendance: \"))\n",
    "if marks >= 90 and attendance >= 90:\n",
    "    print(\"Grade A+\")\n",
    "elif marks >= 75 and attendance >= 75:\n",
    "    print(\"Grade A\")\n",
    "elif marks >= 60 and attendance >= 60:\n",
    "    rint(\"Grade B\")\n",
    "else:\n",
    "    print(\"Grade C\")"
   ]
  },
  {
   "cell_type": "code",
   "execution_count": null,
   "id": "cb8537eb-4985-40c0-8af7-928c58ca8319",
   "metadata": {},
   "outputs": [],
   "source": []
  }
 ],
 "metadata": {
  "kernelspec": {
   "display_name": "Python 3 (ipykernel)",
   "language": "python",
   "name": "python3"
  },
  "language_info": {
   "codemirror_mode": {
    "name": "ipython",
    "version": 3
   },
   "file_extension": ".py",
   "mimetype": "text/x-python",
   "name": "python",
   "nbconvert_exporter": "python",
   "pygments_lexer": "ipython3",
   "version": "3.10.11"
  }
 },
 "nbformat": 4,
 "nbformat_minor": 5
}
