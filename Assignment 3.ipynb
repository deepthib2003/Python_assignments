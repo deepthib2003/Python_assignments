{
 "cells": [
  {
   "cell_type": "markdown",
   "id": "8b7586a5-08d4-4f3e-946a-f49562f60738",
   "metadata": {},
   "source": [
    "Day 3"
   ]
  },
  {
   "cell_type": "code",
   "execution_count": 3,
   "id": "217c5027-bb8f-45f9-82e1-4b834828f357",
   "metadata": {},
   "outputs": [
    {
     "name": "stdout",
     "output_type": "stream",
     "text": [
      "DEEPTHI\n",
      "7\n",
      "d\n"
     ]
    }
   ],
   "source": [
    "#String Methods– Basic\n",
    "name = \"deepthi\"\n",
    "print(name.upper())\n",
    "print(len(name))\n",
    "print(name[0])"
   ]
  },
  {
   "cell_type": "code",
   "execution_count": 1,
   "id": "d6a080e0-8926-4337-a774-ed575f447840",
   "metadata": {},
   "outputs": [
    {
     "name": "stdout",
     "output_type": "stream",
     "text": [
      " arduino \n",
      "\n",
      " Hello \t World\n",
      " He said, \"Python is awesome!\"\n"
     ]
    }
   ],
   "source": [
    "#Print the following exactly using escape sequences:\n",
    "print(\" arduino \\n\\n Hello \\t World\\n He said, \\\"Python is awesome!\\\"\")"
   ]
  },
  {
   "cell_type": "code",
   "execution_count": 9,
   "id": "c5c18b82-4b29-442f-a6bf-1dfb0dd5d590",
   "metadata": {},
   "outputs": [
    {
     "name": "stdout",
     "output_type": "stream",
     "text": [
      " My name is  Deepthi and I study at  St.Ann's College for Women \n"
     ]
    }
   ],
   "source": [
    "# String Formatting– Simple\n",
    "name = \" Deepthi\"\n",
    "college = \" St.Ann's College for Women \"\n",
    "print(f\" My name is {name} and I study at {college}\")"
   ]
  },
  {
   "cell_type": "code",
   "execution_count": 14,
   "id": "0fe6fcf7-d462-4d0a-b107-6a57f9eba3de",
   "metadata": {},
   "outputs": [
    {
     "name": "stdout",
     "output_type": "stream",
     "text": [
      "7\n",
      "21\n",
      "17\n"
     ]
    }
   ],
   "source": [
    "# Assignment Operators\n",
    "x = 5\n",
    "x+=2\n",
    "print(x)\n",
    "x*=3\n",
    "print(x)\n",
    "x-=4\n",
    "print(x)"
   ]
  },
  {
   "cell_type": "code",
   "execution_count": 15,
   "id": "a162c12b-a870-44b3-b5ff-312184952d37",
   "metadata": {},
   "outputs": [
    {
     "name": "stdout",
     "output_type": "stream",
     "text": [
      "7\n"
     ]
    }
   ],
   "source": [
    "x = 5\n",
    "x+=2\n",
    "print(x)"
   ]
  },
  {
   "cell_type": "code",
   "execution_count": 16,
   "id": "d39a2188-c958-4316-a3dc-420cf2315367",
   "metadata": {},
   "outputs": [
    {
     "name": "stdout",
     "output_type": "stream",
     "text": [
      "15\n"
     ]
    }
   ],
   "source": [
    "x = 5\n",
    "x*=3\n",
    "print(x)"
   ]
  },
  {
   "cell_type": "code",
   "execution_count": 17,
   "id": "fde21d84-ebc6-429a-98f5-e7cb466737a5",
   "metadata": {},
   "outputs": [
    {
     "name": "stdout",
     "output_type": "stream",
     "text": [
      "1\n"
     ]
    }
   ],
   "source": [
    "x = 5\n",
    "x-=4\n",
    "print(x)"
   ]
  },
  {
   "cell_type": "code",
   "execution_count": 18,
   "id": "bce06fb3-35d8-4f1e-95e5-28f4a98aed56",
   "metadata": {},
   "outputs": [
    {
     "name": "stdout",
     "output_type": "stream",
     "text": [
      "True\n",
      "False\n",
      "False\n"
     ]
    }
   ],
   "source": [
    "#Membership Operator Practice\n",
    "text = \" LearningPythoniseasy\"\n",
    "print(\"Python\" in text)\n",
    "print(\"java\" in text)\n",
    "print(\"easy\" not in text)"
   ]
  },
  {
   "cell_type": "code",
   "execution_count": 20,
   "id": "05ddbdad-a584-4922-aea7-e2fa91d84d4a",
   "metadata": {},
   "outputs": [
    {
     "name": "stdout",
     "output_type": "stream",
     "text": [
      "True\n",
      "False\n",
      "True\n"
     ]
    }
   ],
   "source": [
    "# Identity Operators\n",
    "a = [1,2]\n",
    "b = a\n",
    "c = [1,2]\n",
    "print(a is b)\n",
    "print(a is c)\n",
    "print(a == c)"
   ]
  },
  {
   "cell_type": "code",
   "execution_count": 3,
   "id": "9df5fe52-db55-46b2-bcbe-7b2f2ee57286",
   "metadata": {},
   "outputs": [
    {
     "name": "stdout",
     "output_type": "stream",
     "text": [
      "She is go to college\n",
      "['She', 'is', 'go', 'to', 'college']\n",
      "She\n",
      "is\n",
      "going\n",
      "to\n",
      "college\n"
     ]
    }
   ],
   "source": [
    "# Split and Strip\n",
    "sentence = \"  She is go to college  \"\n",
    "print(sentence.strip())\n",
    "print(sentence.split())\n",
    "print(\"She\\nis\\ngoing\\nto\\ncollege\")"
   ]
  },
  {
   "cell_type": "code",
   "execution_count": 31,
   "id": "01d94a45-a403-4e53-84e0-a4697f183900",
   "metadata": {},
   "outputs": [
    {
     "name": "stdout",
     "output_type": "stream",
     "text": [
      "False\n",
      "True\n",
      "False\n",
      "True\n",
      "False\n",
      "True\n"
     ]
    }
   ],
   "source": [
    "#Comparison Operators\n",
    "a = 18\n",
    "b = 10\n",
    "print(a == b)\n",
    "print(a != b)\n",
    "print(a < b)\n",
    "print(a > b)\n",
    "print(a <= b)\n",
    "print(a >= b)"
   ]
  },
  {
   "cell_type": "code",
   "execution_count": 32,
   "id": "f2ca96d1-94b8-4ba9-bb5c-164d21b00c93",
   "metadata": {},
   "outputs": [
    {
     "name": "stdout",
     "output_type": "stream",
     "text": [
      "False\n",
      "True\n",
      "False\n"
     ]
    }
   ],
   "source": [
    "#Logical Operators\n",
    "A = True\n",
    "B = False\n",
    "print(A and B)\n",
    "print(A or B)\n",
    "print(not A)"
   ]
  },
  {
   "cell_type": "code",
   "execution_count": 34,
   "id": "1f715503-1143-4142-a59a-75eff7b38c0a",
   "metadata": {},
   "outputs": [
    {
     "name": "stdout",
     "output_type": "stream",
     "text": [
      "5\n",
      "31\n",
      "84\n",
      "10\n",
      "60\n",
      "7\n"
     ]
    }
   ],
   "source": [
    "# Bitwise Operators Practice\n",
    "a = 21\n",
    "b = 15\n",
    "print( a & b)\n",
    "print( a | b)\n",
    "print( a << 2)\n",
    "print( a >> 1)\n",
    "print( b << 2)\n",
    "print( b >> 1)"
   ]
  },
  {
   "cell_type": "code",
   "execution_count": 38,
   "id": "1404502f-0c7c-4495-b2c9-4726d0f5f6a3",
   "metadata": {},
   "outputs": [
    {
     "name": "stdout",
     "output_type": "stream",
     "text": [
      "#rogramming is #roductive\n",
      "2\n"
     ]
    }
   ],
   "source": [
    "# String Replace & Count\n",
    "name = \"programming is productive\"\n",
    "print(name.replace(\"p\",\"#\"))\n",
    "print(name.count('o'))"
   ]
  },
  {
   "cell_type": "code",
   "execution_count": 46,
   "id": "2570bd0d-81d3-40cb-92a3-9da96fe745ab",
   "metadata": {},
   "outputs": [
    {
     "name": "stdout",
     "output_type": "stream",
     "text": [
      "11 16 4\n"
     ]
    }
   ],
   "source": [
    "# Expression Evaluation\n",
    "a = 5 + 3 * 2\n",
    "b = (5 + 3) * 2\n",
    "c = 10 // 3 + 4 % 3\n",
    "print(a, b, c)"
   ]
  },
  {
   "cell_type": "code",
   "execution_count": 48,
   "id": "94014866-9478-47ab-93ae-7f70796aed39",
   "metadata": {},
   "outputs": [
    {
     "name": "stdout",
     "output_type": "stream",
     "text": [
      " Hello  Deepthi , you are in branch  MCA  , 2025 year.\n"
     ]
    }
   ],
   "source": [
    "# String Formatting with f-string\n",
    "name = \" Deepthi \"\n",
    "branch = \" MCA \"\n",
    "year = 2025\n",
    "print(f\" Hello {name}, you are in branch {branch} , {year} year.\")"
   ]
  },
  {
   "cell_type": "code",
   "execution_count": 51,
   "id": "8d40e666-58f5-4c78-9099-241b1e80e328",
   "metadata": {},
   "outputs": [
    {
     "name": "stdout",
     "output_type": "stream",
     "text": [
      " welcome to python \n",
      " WELCOME TO PYTHON \n",
      " Welcome To Python \n",
      " WELCOME to PYTHON \n"
     ]
    }
   ],
   "source": [
    "# Advanced String Methods\n",
    "name = \" welcome TO python \"\n",
    "print(name.lower())\n",
    "print(name.upper())\n",
    "print(name.title())\n",
    "print(name.swapcase())"
   ]
  },
  {
   "cell_type": "code",
   "execution_count": 55,
   "id": "68433353-7e46-4000-a270-d7bec7b4ab86",
   "metadata": {},
   "outputs": [
    {
     "name": "stdout",
     "output_type": "stream",
     "text": [
      "1.0\n"
     ]
    }
   ],
   "source": [
    "# Multi-step Operator Flow\n",
    "num = 10\n",
    "num+=5\n",
    "num*=2\n",
    "num-=4\n",
    "num/=2\n",
    "num//=3\n",
    "num%=3\n",
    "print(num)"
   ]
  },
  {
   "cell_type": "code",
   "execution_count": 61,
   "id": "f79adaf9-13b6-4389-b7ad-b82e25b116ad",
   "metadata": {},
   "outputs": [
    {
     "name": "stdout",
     "output_type": "stream",
     "text": [
      "Python\n",
      "gnimm\n",
      "gnimmargorPnohtyP\n"
     ]
    }
   ],
   "source": [
    "# String Indexing and Slicing\n",
    "input = \"PythonProgramming\"\n",
    "print(input[0:6])\n",
    "print(input[:-6:-1])\n",
    "print(input[::-1])"
   ]
  },
  {
   "cell_type": "code",
   "execution_count": 62,
   "id": "047f5b58-4321-40fd-b93d-032f43196dd5",
   "metadata": {},
   "outputs": [
    {
     "name": "stdout",
     "output_type": "stream",
     "text": [
      "True\n",
      "False\n"
     ]
    }
   ],
   "source": [
    "#Membership with Loop (no conditionals)\n",
    "word = \" Deepthi \"\n",
    "print(\"e\" in word)\n",
    "print(\"a\" in word)"
   ]
  },
  {
   "cell_type": "code",
   "execution_count": 68,
   "id": "edcfd96b-2420-46fa-a8c0-f1308c9ef30f",
   "metadata": {},
   "outputs": [
    {
     "name": "stdout",
     "output_type": "stream",
     "text": [
      "False\n"
     ]
    }
   ],
   "source": [
    "#Operator Chain Challenge\n",
    "a = (8 + 5 * 1 == 12) and not (2 + 2 == 5)\n",
    "print(a)"
   ]
  },
  {
   "cell_type": "code",
   "execution_count": 93,
   "id": "c9c52ff1-b310-4794-852c-814d24fc85f8",
   "metadata": {},
   "outputs": [
    {
     "name": "stdout",
     "output_type": "stream",
     "text": [
      "32\n",
      "False\n",
      "True\n",
      "Total characters are : 32\n",
      "does the sentence contains 'Python'? False\n",
      "Are str1 and str2 the same ? True\n"
     ]
    }
   ],
   "source": [
    "# Mixing String Ops & Operators\n",
    "sentence = \"Python is a programming language\"\n",
    "print(len(sentence))\n",
    "sentence_has = \"python\" in sentence\n",
    "print(sentence_has)\n",
    "str1 = \"Python\"\n",
    "str2 = \"Python\"\n",
    "print(str1 is str2)\n",
    "print(f\"Total characters are : {len(sentence)}\")\n",
    "print(f\"does the sentence contains 'Python'? {sentence_has}\")\n",
    "print(f\"Are str1 and str2 the same ? {str1 is str2}\")"
   ]
  },
  {
   "cell_type": "code",
   "execution_count": 11,
   "id": "9a7c9ec7-8a82-440a-b215-3f66cf15c32e",
   "metadata": {},
   "outputs": [
    {
     "name": "stdout",
     "output_type": "stream",
     "text": [
      "2086019416576\n",
      "2086019449408\n"
     ]
    }
   ],
   "source": [
    "x = [1,2,3]\n",
    "y = [1,2,3]\n",
    "print(id(x))\n",
    "print(id(y))"
   ]
  },
  {
   "cell_type": "code",
   "execution_count": 10,
   "id": "412b55d2-07b2-4658-9470-1134230f40f6",
   "metadata": {},
   "outputs": [
    {
     "name": "stdout",
     "output_type": "stream",
     "text": [
      "2085967301232\n",
      "2085967301232\n"
     ]
    }
   ],
   "source": [
    "x = \"Python\"\n",
    "y = \"Python\"\n",
    "print(id(x))\n",
    "print(id(y))"
   ]
  },
  {
   "cell_type": "code",
   "execution_count": null,
   "id": "e39e0e40-b9e9-46e9-8572-fac332f29abc",
   "metadata": {},
   "outputs": [],
   "source": []
  }
 ],
 "metadata": {
  "kernelspec": {
   "display_name": "Python 3 (ipykernel)",
   "language": "python",
   "name": "python3"
  },
  "language_info": {
   "codemirror_mode": {
    "name": "ipython",
    "version": 3
   },
   "file_extension": ".py",
   "mimetype": "text/x-python",
   "name": "python",
   "nbconvert_exporter": "python",
   "pygments_lexer": "ipython3",
   "version": "3.10.11"
  }
 },
 "nbformat": 4,
 "nbformat_minor": 5
}
