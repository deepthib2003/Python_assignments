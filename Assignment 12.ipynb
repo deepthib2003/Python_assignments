{
 "cells": [
  {
   "cell_type": "markdown",
   "id": "65f699ee-b69a-4bf1-a39e-f61e2299eda7",
   "metadata": {},
   "source": [
    "<h1>Day 12</h1>"
   ]
  },
  {
   "cell_type": "code",
   "execution_count": 6,
   "id": "db2c293b-bccf-4bb8-b297-7b4c19f657c4",
   "metadata": {},
   "outputs": [
    {
     "data": {
      "text/plain": [
       "[1, 2, 3, 4, 5, 6, 7, 8, 9, 10, 11, 12, 13, 14, 15, 16, 17, 18, 19, 20]"
      ]
     },
     "execution_count": 6,
     "metadata": {},
     "output_type": "execute_result"
    }
   ],
   "source": [
    "# 1. Generate a list of numbers from 1-20\n",
    "numbers = [ i for i in range(1 , 21)]\n",
    "numbers"
   ]
  },
  {
   "cell_type": "code",
   "execution_count": 7,
   "id": "03aad6f6-00f4-4b7d-a596-e7f414506443",
   "metadata": {},
   "outputs": [
    {
     "data": {
      "text/plain": [
       "[1, 8, 27, 64, 125, 216, 343, 512, 729, 1000]"
      ]
     },
     "execution_count": 7,
     "metadata": {},
     "output_type": "execute_result"
    }
   ],
   "source": [
    "# 2. Create a list of cubes of numbers from 1-10\n",
    "cubes = [ x ** 3 for x in range(1 , 11)]\n",
    "cubes"
   ]
  },
  {
   "cell_type": "code",
   "execution_count": 11,
   "id": "73830973-bb42-4fa5-b66a-3bcccda5c432",
   "metadata": {},
   "outputs": [
    {
     "name": "stdout",
     "output_type": "stream",
     "text": [
      "[50, 52, 54, 56, 58, 60, 62, 64, 66, 68, 70, 72, 74, 76, 78, 80, 82, 84, 86, 88, 90, 92, 94, 96, 98, 100]\n"
     ]
    }
   ],
   "source": [
    "#  3. Make a list of all even numbers between 50-100\n",
    "even = [ x for x in range(50 , 101) if x % 2 == 0]\n",
    "print(even)"
   ]
  },
  {
   "cell_type": "code",
   "execution_count": 13,
   "id": "0ec35ff3-9a73-4579-b92d-73edcae2fe70",
   "metadata": {},
   "outputs": [
    {
     "name": "stdout",
     "output_type": "stream",
     "text": [
      "['p', 'r', 'g', 'r', 'm', 'm', 'n', 'g']\n"
     ]
    }
   ],
   "source": [
    "# 4. Extract all consonants from \"programming\"\n",
    "word = \"programming\"\n",
    "y = [ x for x in word if x not in \"aeiou\"]\n",
    "print(y)"
   ]
  },
  {
   "cell_type": "code",
   "execution_count": 15,
   "id": "954c5fcb-813e-4e9a-aafd-1701602355fd",
   "metadata": {},
   "outputs": [
    {
     "data": {
      "text/plain": [
       "{1, 4, 9, 16, 25}"
      ]
     },
     "execution_count": 15,
     "metadata": {},
     "output_type": "execute_result"
    }
   ],
   "source": [
    "#  5. Create a set of squares for numbers from 15\n",
    "x = { x ** 2 for x in range( 1 , 6)}\n",
    "x"
   ]
  },
  {
   "cell_type": "code",
   "execution_count": 3,
   "id": "89a1b6da-09b9-441b-9b3a-4552b61b3821",
   "metadata": {},
   "outputs": [
    {
     "name": "stdout",
     "output_type": "stream",
     "text": [
      "{1: 2, 2: 4, 3: 6, 4: 8, 5: 10, 6: 12, 7: 14, 8: 16, 9: 18, 10: 20, 11: 22, 12: 24, 13: 26, 14: 28, 15: 30}\n"
     ]
    }
   ],
   "source": [
    "# 6. Build a dictionary with numbers 15 as keys and their doubles as values\n",
    "x = { x : x + x for x in range (1 , 16) }\n",
    "print(x)"
   ]
  },
  {
   "cell_type": "code",
   "execution_count": 24,
   "id": "a85d405d-bd34-4cab-b86e-7d25c5a96f9f",
   "metadata": {},
   "outputs": [
    {
     "name": "stdout",
     "output_type": "stream",
     "text": [
      "['P', 'R']\n"
     ]
    }
   ],
   "source": [
    "#  7. Create a list of all uppercase letters from \"PythonRocks\"\n",
    "word = \" PythonRocks\"\n",
    "y = [ ch for ch in word if ch.isupper()]\n",
    "print(y)"
   ]
  },
  {
   "cell_type": "code",
   "execution_count": 31,
   "id": "543164f5-6403-4566-ad21-d10b7247bf9c",
   "metadata": {},
   "outputs": [
    {
     "name": "stdout",
     "output_type": "stream",
     "text": [
      "['apple', 'avocado']\n"
     ]
    }
   ],
   "source": [
    "#  8. Create alist of all words starting with \"a\" from [\"apple\",\"banana\",\"avocado\",\"mango\"]\n",
    "lst = [\"apple\",\"banana\",\"avocado\",\"mango\"]\n",
    "y = [ x for x in lst if x[0] == \"a\" ]\n",
    "print(y)"
   ]
  },
  {
   "cell_type": "code",
   "execution_count": 2,
   "id": "01305c0e-446d-4951-b5dc-530151738419",
   "metadata": {},
   "outputs": [
    {
     "name": "stdout",
     "output_type": "stream",
     "text": [
      "[1, 2, 6, 24, 120]\n"
     ]
    }
   ],
   "source": [
    "#  9. Build a list of factorials of numbers 15 using comprehension \n",
    "# (hint: use a helper function)\n",
    "def calculate_factorial(n):\n",
    "    fact = 1\n",
    "    for i in range(1, n +1 ):\n",
    "        fact = fact * i\n",
    "    return fact\n",
    "fact = [calculate_factorial(i) for i in range(1, 6)]\n",
    "print(fact)"
   ]
  },
  {
   "cell_type": "code",
   "execution_count": 39,
   "id": "1775ba45-89cb-4c05-9fc7-c4c44efc7b30",
   "metadata": {},
   "outputs": [
    {
     "name": "stdout",
     "output_type": "stream",
     "text": [
      "[32.0, 50.0, 68.0, 86.0, 104.0]\n"
     ]
    }
   ],
   "source": [
    "#  10. Convert a list of temperatures in Celsius to Fahrenheit using \n",
    "# comprehension\n",
    "celsius_temps = [0, 10, 20, 30, 40]\n",
    "fahrenheit_temps = [(temp * 9/5) + 32 for temp in celsius_temps]\n",
    "print(fahrenheit_temps)"
   ]
  },
  {
   "cell_type": "code",
   "execution_count": 40,
   "id": "9f84278a-ae98-4697-811d-72dff802d220",
   "metadata": {},
   "outputs": [
    {
     "name": "stdout",
     "output_type": "stream",
     "text": [
      "{'a': 1, 'b': 2, 'c': 3}\n"
     ]
    }
   ],
   "source": [
    "#  11. Create a dictionary from two lists: keys = [\"a\",\"b\",\"c\"], \n",
    "# values = [1,2,3]\n",
    "keys = [\"a\", \"b\", \"c\"]\n",
    "values = [1, 2, 3]\n",
    "Solution = {key: value for key, value in zip(keys, values)}\n",
    "print(Solution)"
   ]
  },
  {
   "cell_type": "code",
   "execution_count": 45,
   "id": "d35fc041-d92d-4228-b678-b0c7bdd2b2c1",
   "metadata": {},
   "outputs": [
    {
     "name": "stdout",
     "output_type": "stream",
     "text": [
      "{'e', 'd', 'h', 'r', 'l', 'w', 'o', ' '}\n"
     ]
    }
   ],
   "source": [
    "#  12. Make a set of unique letters from a sentence \"hello world\"\n",
    "sentence = \"hello world\"\n",
    "unique_letters = {char for char in sentence}\n",
    "print(unique_letters)"
   ]
  },
  {
   "cell_type": "code",
   "execution_count": 46,
   "id": "1d4f7e22-9cff-43f5-a3d5-75e3b00f6df6",
   "metadata": {},
   "outputs": [
    {
     "name": "stdout",
     "output_type": "stream",
     "text": [
      "[1, 2, 3, 4, 5, 6, 7, 8, 9]\n"
     ]
    }
   ],
   "source": [
    "# 13. Flatten a matrix [[1,2,3],[4,5,6],[7,8,9]]\n",
    "matrix = [[1, 2, 3], [4, 5, 6], [7, 8, 9]]\n",
    "flattened_list = [item for row in matrix for item in row]\n",
    "print(flattened_list)"
   ]
  },
  {
   "cell_type": "code",
   "execution_count": 47,
   "id": "aaf01a79-4634-41f4-b6d1-dea2a0178425",
   "metadata": {},
   "outputs": [
    {
     "name": "stdout",
     "output_type": "stream",
     "text": [
      "{'p': 112, 'y': 121, 't': 116, 'h': 104, 'o': 111, 'n': 110}\n"
     ]
    }
   ],
   "source": [
    "#  14. Create a dictionary of characters and their ASCII values for the\n",
    "# word \"python\"\n",
    "word = \"python\"\n",
    "ascii_dict = {char: ord(char) for char in word}\n",
    "print(ascii_dict)"
   ]
  },
  {
   "cell_type": "code",
   "execution_count": 51,
   "id": "6a3985ec-7ab8-496b-986b-f48c8eb1ae94",
   "metadata": {},
   "outputs": [
    {
     "name": "stdout",
     "output_type": "stream",
     "text": [
      "15 * 1 = 15\n",
      "15 * 2 = 30\n",
      "15 * 3 = 45\n",
      "15 * 4 = 60\n",
      "15 * 5 = 75\n",
      "15 * 6 = 90\n",
      "15 * 7 = 105\n",
      "15 * 8 = 120\n",
      "15 * 9 = 135\n",
      "15 * 10 = 150\n"
     ]
    }
   ],
   "source": [
    "#  15. Build a multiplication table (15) using nested comprehension\n",
    "number = 15\n",
    "multiplication_table = [[f\"{number} * {i} = {number * i}\"] for i in range(1, 11)]\n",
    "for line in multiplication_table:\n",
    "    print(line[0])"
   ]
  },
  {
   "cell_type": "code",
   "execution_count": 52,
   "id": "a135d029-bbf8-4679-955c-36d5b9087a1f",
   "metadata": {},
   "outputs": [
    {
     "name": "stdout",
     "output_type": "stream",
     "text": [
      "[1, 4, 27, 16, 125, 36, 343, 64]\n"
     ]
    }
   ],
   "source": [
    "#  16. From a list of numbers, replace even with square and odd with\n",
    "# cube using comprehension.\n",
    "numbers = [1, 2, 3, 4, 5, 6, 7, 8]\n",
    "result = [n**2 if n % 2 == 0 else n**3 for n in numbers]\n",
    "print(result)"
   ]
  },
  {
   "cell_type": "code",
   "execution_count": 8,
   "id": "fe76132f-98ea-40e5-97b5-30e202821c39",
   "metadata": {},
   "outputs": [
    {
     "name": "stdout",
     "output_type": "stream",
     "text": [
      "{'Python': 6, 'makes': 5, 'coding': 6, 'fun': 3}\n"
     ]
    }
   ],
   "source": [
    "#  17. Create a dictionary of word:length for a sentence \n",
    "# \"Python makes coding fun\"\n",
    "sentence = \"Python makes coding fun\"\n",
    "y={x:len(x) for x in sentence.split() }\n",
    "print(y)"
   ]
  },
  {
   "cell_type": "code",
   "execution_count": 10,
   "id": "bc188503-d14e-4331-8992-355472487360",
   "metadata": {},
   "outputs": [
    {
     "name": "stdout",
     "output_type": "stream",
     "text": [
      "[4, 9, 25, 49, 121, 169, 289, 361, 529, 841]\n"
     ]
    }
   ],
   "source": [
    "#  18. Build a set of squares of prime numbers from 1- 30 \n",
    "# (hint: define is primefunction)\n",
    "def is_prime(n):\n",
    "    if n<2:\n",
    "        return False\n",
    "    for i in range(2,int(n**0.5)+1):\n",
    "        if n%i==0:\n",
    "            return False\n",
    "    return True\n",
    "\n",
    "x = [i**2 for i in range(1,31) if is_prime(i)]\n",
    "print(x)"
   ]
  },
  {
   "cell_type": "code",
   "execution_count": 5,
   "id": "f96c7efa-1914-4228-9103-437f8c0e11e6",
   "metadata": {},
   "outputs": [
    {
     "name": "stdout",
     "output_type": "stream",
     "text": [
      "[1, 2, 3, 4, 5, 6]\n"
     ]
    }
   ],
   "source": [
    "#  19. Flatten a nested list [[1,2],[3,4,[5,6]]] (extra challenge)\n",
    "lst = [[1,2],[3,4],[5,6]]\n",
    "flattened_list = [item for row in lst for item in row]\n",
    "print(flattened_list)"
   ]
  },
  {
   "cell_type": "code",
   "execution_count": 59,
   "id": "4e4990b9-73ac-4860-8f59-e47e4f40a2e3",
   "metadata": {},
   "outputs": [
    {
     "name": "stdout",
     "output_type": "stream",
     "text": [
      "{1: ['a', 'b'], 2: ['a', 'b'], 3: ['a', 'b']}\n"
     ]
    }
   ],
   "source": [
    "#  20. Generate all pairs (x,y) where x is from [1,2,3] and y is from [’a’,’b’]\n",
    "pairs = {x: ['a', 'b'] for x in [1, 2, 3]}\n",
    "print(pairs)"
   ]
  },
  {
   "cell_type": "code",
   "execution_count": null,
   "id": "c7f29269-d9bf-427c-8078-bfb0c6bcc052",
   "metadata": {},
   "outputs": [],
   "source": []
  }
 ],
 "metadata": {
  "kernelspec": {
   "display_name": "Python 3 (ipykernel)",
   "language": "python",
   "name": "python3"
  },
  "language_info": {
   "codemirror_mode": {
    "name": "ipython",
    "version": 3
   },
   "file_extension": ".py",
   "mimetype": "text/x-python",
   "name": "python",
   "nbconvert_exporter": "python",
   "pygments_lexer": "ipython3",
   "version": "3.10.11"
  }
 },
 "nbformat": 4,
 "nbformat_minor": 5
}
