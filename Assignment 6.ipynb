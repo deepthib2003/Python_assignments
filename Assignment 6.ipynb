{
 "cells": [
  {
   "cell_type": "markdown",
   "id": "3f18fa5b-69c1-43a1-9858-d081dffe3f8c",
   "metadata": {},
   "source": [
    "Day 6"
   ]
  },
  {
   "cell_type": "code",
   "execution_count": 1,
   "id": "5928fb2a-614e-4f05-9ca6-6ef91dc7a954",
   "metadata": {},
   "outputs": [
    {
     "name": "stdout",
     "output_type": "stream",
     "text": [
      "1\n",
      "2\n",
      "3\n",
      "4\n",
      "5\n",
      "6\n",
      "7\n",
      "8\n",
      "9\n",
      "10\n"
     ]
    }
   ],
   "source": [
    "# 1.Print numbers from 1 to 10 using for\n",
    "for i in range(1,11):\n",
    "    print(i)"
   ]
  },
  {
   "cell_type": "code",
   "execution_count": 2,
   "id": "901f9f5d-d823-491a-a4ab-56fa83065d4e",
   "metadata": {},
   "outputs": [
    {
     "name": "stdout",
     "output_type": "stream",
     "text": [
      "2\n",
      "4\n",
      "6\n",
      "8\n",
      "10\n",
      "12\n",
      "14\n",
      "16\n",
      "18\n",
      "20\n"
     ]
    }
   ],
   "source": [
    "# 2. Print even numbers from 2 to 20.\n",
    "for i in range(2,21):\n",
    "    if i % 2 == 0:\n",
    "        print(i)"
   ]
  },
  {
   "cell_type": "code",
   "execution_count": 4,
   "id": "da8c4762-3893-491c-a33d-5d65772c6073",
   "metadata": {},
   "outputs": [
    {
     "name": "stdout",
     "output_type": "stream",
     "text": [
      "1\n",
      "3\n",
      "5\n",
      "7\n",
      "9\n",
      "11\n",
      "13\n",
      "15\n"
     ]
    }
   ],
   "source": [
    "# 3. Print odd numbers between 1 and 15\n",
    "for i in range(1,16):\n",
    "    if i % 2 != 0:\n",
    "        print(i)"
   ]
  },
  {
   "cell_type": "code",
   "execution_count": 5,
   "id": "d0c6915e-d6e8-4739-b6b1-19815834da26",
   "metadata": {},
   "outputs": [
    {
     "name": "stdout",
     "output_type": "stream",
     "text": [
      "Square of 1 is 1\n",
      "Square of 2 is 4\n",
      "Square of 3 is 9\n",
      "Square of 4 is 16\n",
      "Square of 5 is 25\n",
      "Square of 6 is 36\n",
      "Square of 7 is 49\n",
      "Square of 8 is 64\n",
      "Square of 9 is 81\n",
      "Square of 10 is 100\n"
     ]
    }
   ],
   "source": [
    "#  4. Print squares of numbers from 1 to 10.\n",
    "for i in range(1,11):\n",
    "    print(f\"Square of {i} is {i * i}\")"
   ]
  },
  {
   "cell_type": "code",
   "execution_count": 6,
   "id": "36aa598c-4cfe-43f0-8d20-b2184f5fc77d",
   "metadata": {},
   "outputs": [
    {
     "name": "stdout",
     "output_type": "stream",
     "text": [
      " 7 * 1 = 7\n",
      " 7 * 2 = 14\n",
      " 7 * 3 = 21\n",
      " 7 * 4 = 28\n",
      " 7 * 5 = 35\n",
      " 7 * 6 = 42\n",
      " 7 * 7 = 49\n",
      " 7 * 8 = 56\n",
      " 7 * 9 = 63\n",
      " 7 * 10 = 70\n"
     ]
    }
   ],
   "source": [
    "#  5. Print multiplication table for 7.\n",
    "n = 7\n",
    "for i in range(1,11):\n",
    "    print(f\" {n} * {i} = {n * i}\")"
   ]
  },
  {
   "cell_type": "code",
   "execution_count": 11,
   "id": "1a3e0463-6e0d-48fc-a53a-7152bd7700a0",
   "metadata": {},
   "outputs": [
    {
     "name": "stdout",
     "output_type": "stream",
     "text": [
      "H\n",
      "e\n",
      "l\n",
      "l\n",
      "o\n",
      " \n",
      "P\n",
      "y\n",
      "t\n",
      "h\n",
      "o\n",
      "n\n"
     ]
    }
   ],
   "source": [
    "#  6. Print characters of \"Hello Python\" one by one.\n",
    "x = \"Hello Python\"\n",
    "for ch in x:\n",
    "    print(ch)"
   ]
  },
  {
   "cell_type": "code",
   "execution_count": 13,
   "id": "76451f0e-3ba2-4e8f-8b2c-eb427b11d859",
   "metadata": {},
   "outputs": [
    {
     "name": "stdout",
     "output_type": "stream",
     "text": [
      "Python Rocks!\n",
      "Python Rocks!\n",
      "Python Rocks!\n",
      "Python Rocks!\n",
      "Python Rocks!\n"
     ]
    }
   ],
   "source": [
    "#  7. Print \"Python Rocks!\" 5 times.\n",
    "x = \"Python Rocks!\"\n",
    "for i in range(5):\n",
    "    print(x)"
   ]
  },
  {
   "cell_type": "code",
   "execution_count": 17,
   "id": "f968f3d7-9e96-40f2-a83a-5d43d199ba73",
   "metadata": {},
   "outputs": [
    {
     "name": "stdout",
     "output_type": "stream",
     "text": [
      "210\n"
     ]
    }
   ],
   "source": [
    "#  8. Print sum of first 20 natural numbers.\n",
    "tot = 0\n",
    "for i in range(1,21):\n",
    "    tot += i\n",
    "print(tot)"
   ]
  },
  {
   "cell_type": "code",
   "execution_count": 20,
   "id": "46e300d9-812e-4080-a012-ffcd613d1155",
   "metadata": {},
   "outputs": [
    {
     "name": "stdin",
     "output_type": "stream",
     "text": [
      " Enter a number :  4\n"
     ]
    },
    {
     "name": "stdout",
     "output_type": "stream",
     "text": [
      "24\n"
     ]
    }
   ],
   "source": [
    "# 9. Print factorial of a number using for.\n",
    "n = int(input(\" Enter a number : \"))\n",
    "fact = 1\n",
    "for i in range(1,n + 1):\n",
    "    fact *= i\n",
    "print(fact)"
   ]
  },
  {
   "cell_type": "code",
   "execution_count": 22,
   "id": "6404b411-369c-4a96-8c57-b3dc13119ff5",
   "metadata": {},
   "outputs": [
    {
     "name": "stdout",
     "output_type": "stream",
     "text": [
      "10\n",
      "9\n",
      "8\n",
      "7\n",
      "6\n",
      "5\n",
      "4\n",
      "3\n",
      "2\n",
      "1\n"
     ]
    }
   ],
   "source": [
    "# 10. Print numbers from 10 to 1 (reverse loop).\n",
    "for i in range(10,0,-1):\n",
    "    print(i)"
   ]
  },
  {
   "cell_type": "code",
   "execution_count": 24,
   "id": "c4009a0c-497e-48cd-95b3-7bb2482bab61",
   "metadata": {},
   "outputs": [
    {
     "name": "stdout",
     "output_type": "stream",
     "text": [
      "56\n",
      "63\n",
      "70\n",
      "77\n",
      "84\n",
      "91\n",
      "98\n"
     ]
    }
   ],
   "source": [
    "# 11. Print all numbers between 50 - 100 divisible by 7.\n",
    "for i in range(50,101):\n",
    "    if i % 7 == 0:\n",
    "        print(i)"
   ]
  },
  {
   "cell_type": "code",
   "execution_count": 27,
   "id": "f6285aed-ef6f-4f99-8ce4-224c1d6323ef",
   "metadata": {},
   "outputs": [
    {
     "name": "stdin",
     "output_type": "stream",
     "text": [
      " Enter a word:  Python\n"
     ]
    },
    {
     "name": "stdout",
     "output_type": "stream",
     "text": [
      "1\n"
     ]
    }
   ],
   "source": [
    "#  12. Ask a word from user and count its vowels using loop.\n",
    "word = input(\" Enter a word: \")\n",
    "vow = 0\n",
    "for i in word:\n",
    "    if i.lower() in\"aeiou\":\n",
    "        vow += 1\n",
    "        print(vow)"
   ]
  },
  {
   "cell_type": "code",
   "execution_count": 30,
   "id": "fe6fe9f3-b0c6-4095-a421-ba9dea8535ad",
   "metadata": {},
   "outputs": [
    {
     "name": "stdout",
     "output_type": "stream",
     "text": [
      "2\n",
      "6\n",
      "12\n",
      "20\n",
      "30\n",
      "42\n",
      "56\n",
      "72\n",
      "90\n",
      "110\n",
      "132\n",
      "156\n",
      "182\n",
      "210\n",
      "240\n",
      "272\n",
      "306\n",
      "342\n",
      "380\n",
      "420\n",
      "462\n",
      "506\n",
      "552\n",
      "600\n",
      "650\n"
     ]
    }
   ],
   "source": [
    "# 13. Print sum of all even numbers from 1 to 50.\n",
    "tot = 0\n",
    "for i in range(1,51):\n",
    "    if i % 2 == 0:\n",
    "        tot += i\n",
    "        print(tot)"
   ]
  },
  {
   "cell_type": "code",
   "execution_count": 31,
   "id": "c5d247c4-e21f-46f2-9814-e09e949340c0",
   "metadata": {},
   "outputs": [
    {
     "name": "stdout",
     "output_type": "stream",
     "text": [
      "650\n"
     ]
    }
   ],
   "source": [
    "# 13. Print sum of all even numbers from 1 to 50.\n",
    "tot = 0\n",
    "for i in range(1,51):\n",
    "    if i % 2 == 0:\n",
    "        tot += i\n",
    "print(tot)"
   ]
  },
  {
   "cell_type": "code",
   "execution_count": 35,
   "id": "28dbb952-961f-4174-b3ce-990bc305fcd2",
   "metadata": {},
   "outputs": [
    {
     "name": "stdin",
     "output_type": "stream",
     "text": [
      "Enter a number:  3\n"
     ]
    },
    {
     "name": "stdout",
     "output_type": "stream",
     "text": [
      " Cube of 1 is 27\n",
      " Cube of 2 is 27\n",
      " Cube of 3 is 27\n"
     ]
    }
   ],
   "source": [
    "#  14. Print cubes of numbers from 1 to N.\n",
    "n = int(input(\"Enter a number: \"))\n",
    "for i in range(1,n + 1):\n",
    "    print(f\" Cube of {i} is {n ** 3}\")"
   ]
  },
  {
   "cell_type": "code",
   "execution_count": 36,
   "id": "1ca5519b-cc5d-47fd-8a96-ac63a4d91358",
   "metadata": {},
   "outputs": [
    {
     "name": "stdout",
     "output_type": "stream",
     "text": [
      "0\n",
      "1\n",
      "1\n",
      "2\n",
      "3\n",
      "5\n",
      "8\n",
      "13\n",
      "21\n",
      "34\n"
     ]
    }
   ],
   "source": [
    "# 15. Print first 10 Fibonacci numbers using for.\n",
    "a , b = 0 , 1\n",
    "for i in range(10):\n",
    "    print(a)\n",
    "    a , b =b , a + b"
   ]
  },
  {
   "cell_type": "code",
   "execution_count": 40,
   "id": "8b3c2f16-31f4-4d0f-934d-0b4da4ca263f",
   "metadata": {},
   "outputs": [
    {
     "name": "stdout",
     "output_type": "stream",
     "text": [
      "2\n",
      "3\n",
      "5\n",
      "7\n",
      "11\n",
      "13\n",
      "17\n",
      "19\n",
      "23\n",
      "29\n",
      "31\n",
      "37\n",
      "41\n",
      "43\n",
      "47\n"
     ]
    }
   ],
   "source": [
    "# 16. Print all prime numbers between 1 and 50 using while loop.\n",
    "num = 2\n",
    "while num <= 50:\n",
    "    i = 2\n",
    "    while i < num:\n",
    "        if num % i == 0:\n",
    "            break\n",
    "        i += 1\n",
    "    else:\n",
    "        print(num)\n",
    "    num += 1"
   ]
  },
  {
   "cell_type": "code",
   "execution_count": 41,
   "id": "366f8815-05ac-45e1-b97e-76913638a5db",
   "metadata": {},
   "outputs": [
    {
     "name": "stdout",
     "output_type": "stream",
     "text": [
      "2\n",
      "3\n",
      "5\n",
      "7\n",
      "11\n",
      "13\n",
      "17\n",
      "19\n",
      "23\n",
      "29\n",
      "31\n",
      "37\n",
      "41\n",
      "43\n",
      "47\n"
     ]
    }
   ],
   "source": [
    "# 16. Print all prime numbers between 1 and 50 using for loop.\n",
    "for num in range(2, 51):\n",
    "    for i in range(2, num):\n",
    "        if num % i == 0:\n",
    "            break\n",
    "    else:\n",
    "        print(num)"
   ]
  },
  {
   "cell_type": "code",
   "execution_count": 48,
   "id": "f348ebdc-192e-41bd-86f2-e00562853045",
   "metadata": {},
   "outputs": [
    {
     "name": "stdout",
     "output_type": "stream",
     "text": [
      "0181"
     ]
    }
   ],
   "source": [
    "#  17. Print reverse of a given number using for.\n",
    "num = 1810\n",
    "num = str(num)\n",
    "for i in range(len(num)-1 , -1 ,-1):\n",
    "    print(num[i], end = \"\")"
   ]
  },
  {
   "cell_type": "code",
   "execution_count": 51,
   "id": "94da9218-b787-491f-8853-d06b880ba843",
   "metadata": {},
   "outputs": [
    {
     "name": "stdout",
     "output_type": "stream",
     "text": [
      "* \n",
      "* * \n",
      "* * * \n",
      "* * * * \n"
     ]
    }
   ],
   "source": [
    "#  18. Print pattern:\n",
    "for i in range(1,5):\n",
    "    print(\"* \" * i)"
   ]
  },
  {
   "cell_type": "code",
   "execution_count": 56,
   "id": "a71ebc0e-248a-4bd0-b0ca-9a48848ad778",
   "metadata": {},
   "outputs": [
    {
     "name": "stdout",
     "output_type": "stream",
     "text": [
      "1 \n",
      "1 2 \n",
      "1 2 3 \n",
      "1 2 3 4 \n",
      "1 2 3 4 5 \n"
     ]
    }
   ],
   "source": [
    "# 19. Print pattern:\n",
    "rows = 5\n",
    "for i in range(1, rows + 1):\n",
    "    for j in range(1, i + 1):\n",
    "        print(j, end=\" \")\n",
    "    print()"
   ]
  },
  {
   "cell_type": "code",
   "execution_count": 57,
   "id": "6efe9f1e-2e16-4218-98d8-089b688326aa",
   "metadata": {},
   "outputs": [
    {
     "name": "stdout",
     "output_type": "stream",
     "text": [
      "10\n"
     ]
    }
   ],
   "source": [
    "# 20. Print sum of digits of a number using for.\n",
    "num = 1810\n",
    "tot = 0\n",
    "num = str(num)\n",
    "for i in num:\n",
    "    tot += int(i)\n",
    "print(tot)"
   ]
  },
  {
   "cell_type": "code",
   "execution_count": null,
   "id": "3accbed4-b2ee-4bbe-8b73-3c0930171ad5",
   "metadata": {},
   "outputs": [],
   "source": []
  }
 ],
 "metadata": {
  "kernelspec": {
   "display_name": "Python 3 (ipykernel)",
   "language": "python",
   "name": "python3"
  },
  "language_info": {
   "codemirror_mode": {
    "name": "ipython",
    "version": 3
   },
   "file_extension": ".py",
   "mimetype": "text/x-python",
   "name": "python",
   "nbconvert_exporter": "python",
   "pygments_lexer": "ipython3",
   "version": "3.10.11"
  }
 },
 "nbformat": 4,
 "nbformat_minor": 5
}
