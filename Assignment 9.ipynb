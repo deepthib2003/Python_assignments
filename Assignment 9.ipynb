{
 "cells": [
  {
   "cell_type": "markdown",
   "id": "aa678959-c755-4769-99f1-7979c9bf00e7",
   "metadata": {},
   "source": [
    "<h1>Day 9"
   ]
  },
  {
   "cell_type": "code",
   "execution_count": 7,
   "id": "c4e3bc2e-89f6-44d1-a5d8-d8bf9abc6113",
   "metadata": {},
   "outputs": [
    {
     "name": "stdout",
     "output_type": "stream",
     "text": [
      "First element:  10 Last element:  50\n"
     ]
    }
   ],
   "source": [
    "# 1. Create a tuple with numbers (10, 20, 30, 40, 50) and print the first\n",
    "# and last element.\n",
    "num = (10,20,30,40,50)\n",
    "print(\"First element: \", num[0] , \"Last element: \" ,num[4])"
   ]
  },
  {
   "cell_type": "code",
   "execution_count": 8,
   "id": "8b79cbe7-99c3-473f-8bda-652d1f70deaf",
   "metadata": {},
   "outputs": [
    {
     "name": "stdout",
     "output_type": "stream",
     "text": [
      "18\n",
      "deepthi\n",
      "10.3\n"
     ]
    }
   ],
   "source": [
    "# 2. Create a tuple with mixed data types (int, string, float) and \n",
    "# print each element using indexing\n",
    "data = (18 , \"deepthi\" , 10.3)\n",
    "print(data[0])\n",
    "print(data[1])\n",
    "print(data[2])"
   ]
  },
  {
   "cell_type": "code",
   "execution_count": 11,
   "id": "d74d429a-7a80-4066-901c-ff813fd67d70",
   "metadata": {},
   "outputs": [
    {
     "name": "stdout",
     "output_type": "stream",
     "text": [
      "(2, 3, 4)\n"
     ]
    }
   ],
   "source": [
    "# 3. Slice a tuple (1, 2, 3, 4, 5, 6)toget(2, 3, 4).\n",
    "data = (1,2,3,4,5)\n",
    "print(data[1:4])"
   ]
  },
  {
   "cell_type": "code",
   "execution_count": 12,
   "id": "c1207730-c540-4f1a-99d6-7e05f5483c95",
   "metadata": {},
   "outputs": [
    {
     "name": "stdout",
     "output_type": "stream",
     "text": [
      "5\n"
     ]
    }
   ],
   "source": [
    "# 4. Find the length of a tuple using len().\n",
    "data = (1,2,3,4,5)\n",
    "print(len(data))"
   ]
  },
  {
   "cell_type": "code",
   "execution_count": 14,
   "id": "b75b8fd6-9994-4fc8-ae6e-5fac7e7eb583",
   "metadata": {},
   "outputs": [
    {
     "name": "stdout",
     "output_type": "stream",
     "text": [
      "3\n"
     ]
    }
   ],
   "source": [
    "# 5. Count how manytimes 5appears in (1, 5, 7, 5, 9, 5, 3).\n",
    "data = (1, 5, 7, 5, 9, 5, 3)\n",
    "print(data.count(5))"
   ]
  },
  {
   "cell_type": "code",
   "execution_count": 19,
   "id": "35bfffda-034a-4e7d-9cf7-eafcd636cedc",
   "metadata": {},
   "outputs": [
    {
     "name": "stdout",
     "output_type": "stream",
     "text": [
      "1\n"
     ]
    }
   ],
   "source": [
    "# 6. Find the index of banana in (”apple”, ”banana”, ”cherry”).\n",
    "fruits = (\"apple\", \"banana\", \"cherry\")\n",
    "print(fruits.index(\"banana\"))"
   ]
  },
  {
   "cell_type": "code",
   "execution_count": 23,
   "id": "e09170a9-f5c3-4a5d-b11c-da4fcdd6405d",
   "metadata": {},
   "outputs": [
    {
     "name": "stdout",
     "output_type": "stream",
     "text": [
      "[1, 2, 3, 4]\n",
      "(1, 2, 3, 4, 8)\n"
     ]
    }
   ],
   "source": [
    "# 7. Convert a tuple (1, 2, 3, 4) into a list, update an element, and convert\n",
    "# it back to a tuple\n",
    "data = (1, 2, 3, 4)\n",
    "lst = list(data)\n",
    "print(lst)\n",
    "lst.append(8)\n",
    "data = tuple(lst)\n",
    "print(data)"
   ]
  },
  {
   "cell_type": "code",
   "execution_count": 24,
   "id": "f7b88346-96ce-481e-a549-93aabcaed604",
   "metadata": {},
   "outputs": [
    {
     "name": "stdout",
     "output_type": "stream",
     "text": [
      "{40, 10, 20, 30}\n"
     ]
    }
   ],
   "source": [
    "# 8. Create a set {10, 20, 30, 40}andprint all elements.\n",
    "ele = {10, 20, 30, 40}\n",
    "print(ele)"
   ]
  },
  {
   "cell_type": "code",
   "execution_count": 27,
   "id": "53c10a64-9452-465f-a6db-603fc06c04b3",
   "metadata": {},
   "outputs": [
    {
     "name": "stdout",
     "output_type": "stream",
     "text": [
      "{40, 10, 50, 20, 30}\n"
     ]
    }
   ],
   "source": [
    "# 9. Add anelement 50 to the set.\n",
    "ele = {10, 20, 30, 40}\n",
    "ele.add(50)\n",
    "print(ele)"
   ]
  },
  {
   "cell_type": "code",
   "execution_count": 33,
   "id": "84df8bde-fcb9-41d2-952b-5cc9b07f454e",
   "metadata": {},
   "outputs": [
    {
     "name": "stdout",
     "output_type": "stream",
     "text": [
      "{80, 50, 100, 20, 40, 10}\n",
      "{80, 50, 100, 20, 40, 10}\n"
     ]
    }
   ],
   "source": [
    "# 10. Remove an element 30 from the set using both remove() and discard()\n",
    "# (show difference).\n",
    "#Remove\n",
    "ele = {40, 10, 50, 20, 30, 80 , 100}\n",
    "ele.remove(30)\n",
    "print(ele)\n",
    "# If we try to remove 30 again from the tuple using remove() \n",
    "#it will give us error.\n",
    "#ele.remove(30)\n",
    "#KeyError                                  Traceback (most recent call last)\n",
    "#Cell In[31], line 7\n",
    "#     5 ele.remove(30)\n",
    "#      6 print(ele)\n",
    "#----> 7 ele.remove(30)\n",
    " #    10 # Discard\n",
    "#     11 #ele = {40, 10, 50, 20, 30, 80 , 100}\n",
    " #    12 #ele.discard(30)\n",
    "#   13 #print(ele)\n",
    "\n",
    "#KeyError: 30\n",
    "\n",
    "# Discard\n",
    "ele = {40, 10, 50, 20, 30, 80 , 100}\n",
    "ele.discard(30)\n",
    "print(ele)\n",
    "ele.discard(30)\n",
    "#If we try to remove 30 again from the tuple using discard() \n",
    "#it wont give any error we will get the remaining tuple as the result."
   ]
  },
  {
   "cell_type": "code",
   "execution_count": 35,
   "id": "65e1eee3-7368-42e2-8f39-cab8e2d45e9e",
   "metadata": {},
   "outputs": [
    {
     "name": "stdout",
     "output_type": "stream",
     "text": [
      "{34, 3, 18, 90, 10, 15}\n"
     ]
    }
   ],
   "source": [
    "# 11. Create a set with duplicate values and observe the output.\n",
    "data = {18, 10, 3, 15, 18, 34, 90, 3}\n",
    "print(data)"
   ]
  },
  {
   "cell_type": "code",
   "execution_count": 36,
   "id": "68d9cd05-290b-4fa7-a0cb-1aeee9d33024",
   "metadata": {},
   "outputs": [
    {
     "name": "stdout",
     "output_type": "stream",
     "text": [
      "5\n"
     ]
    }
   ],
   "source": [
    "# 12. Find the length of {1, 2, 2, 3, 4, 4, 5}.\n",
    "data = {1, 2, 2, 3, 4, 4, 5}\n",
    "print(len(data))"
   ]
  },
  {
   "cell_type": "code",
   "execution_count": 37,
   "id": "8d02adc7-2fcc-4c8f-a5df-18d41fdba976",
   "metadata": {},
   "outputs": [
    {
     "name": "stdout",
     "output_type": "stream",
     "text": [
      "Yes 7 exists in ele\n"
     ]
    }
   ],
   "source": [
    "# 13. Check membership: Is 7 in {1, 3, 5, 7, 9}?\n",
    "ele = {1, 3, 5, 7, 9}\n",
    "if 7 in ele:\n",
    "    print(\"Yes 7 exists in ele\")\n",
    "else:\n",
    "    print(\" 7 does not exists in ele\")"
   ]
  },
  {
   "cell_type": "code",
   "execution_count": 38,
   "id": "3e938a05-025b-4425-87a1-3dc7499d528d",
   "metadata": {},
   "outputs": [
    {
     "name": "stdout",
     "output_type": "stream",
     "text": [
      "None\n"
     ]
    }
   ],
   "source": [
    "# 14. Clear all elements from a set\n",
    "ele = {1, 3, 5, 7, 9}\n",
    "print(ele.clear())"
   ]
  },
  {
   "cell_type": "code",
   "execution_count": 41,
   "id": "8d39522a-9201-465b-b055-e94ffdbd80a4",
   "metadata": {},
   "outputs": [
    {
     "name": "stdout",
     "output_type": "stream",
     "text": [
      "(1, 2, 3, 4, 5, 6)\n"
     ]
    }
   ],
   "source": [
    "#15. Concatenate two tuples (1, 2, 3) and (4, 5, 6)\n",
    "a = (1, 2, 3)\n",
    "b = (4, 5, 6)\n",
    "print(a+b)"
   ]
  },
  {
   "cell_type": "code",
   "execution_count": 44,
   "id": "c4195395-99fe-4a6f-a6d4-4bdd7d544c52",
   "metadata": {},
   "outputs": [
    {
     "name": "stdout",
     "output_type": "stream",
     "text": [
      "Hi Hi Hi Hi Hi \n"
     ]
    }
   ],
   "source": [
    "# 16. Repeat a tuple (”Hi”,) 5 times using *.\n",
    "a = (\"Hi \")\n",
    "print( a * 5)"
   ]
  },
  {
   "cell_type": "code",
   "execution_count": 45,
   "id": "919cbd5b-824d-4607-81de-47dc17fb9cb5",
   "metadata": {},
   "outputs": [
    {
     "name": "stdout",
     "output_type": "stream",
     "text": [
      "8\n",
      "1\n"
     ]
    }
   ],
   "source": [
    "# 17. Find the maximum and minimum from (3, 8, 1, 6, 2).\n",
    "ele = (3, 8, 1, 6, 2)\n",
    "print(max(ele))\n",
    "print(min(ele))"
   ]
  },
  {
   "cell_type": "code",
   "execution_count": 53,
   "id": "23ff24b9-bb67-4936-a689-68828e19a742",
   "metadata": {},
   "outputs": [
    {
     "name": "stdout",
     "output_type": "stream",
     "text": [
      "a :  3\n",
      "b:  18\n"
     ]
    }
   ],
   "source": [
    "# 18. Swap two variables using a tuple\n",
    "a = 18\n",
    "b = 3\n",
    "a, b = b, a\n",
    "print(\"a : \", a)\n",
    "print(\"b: \", b)"
   ]
  },
  {
   "cell_type": "code",
   "execution_count": 51,
   "id": "2188f8c9-39cd-4203-952a-4c4f2ed871e9",
   "metadata": {},
   "outputs": [
    {
     "name": "stdout",
     "output_type": "stream",
     "text": [
      "4\n"
     ]
    }
   ],
   "source": [
    "# 19. Create a nested tuple ((1, 2), (3, 4), (5, 6))and access element 4.\n",
    "data = ((1, 2), (3, 4), (5, 6))\n",
    "print(data[1][1])"
   ]
  },
  {
   "cell_type": "code",
   "execution_count": 52,
   "id": "dab32a1b-1b83-4ba1-928b-8721c46e80c6",
   "metadata": {},
   "outputs": [
    {
     "name": "stdout",
     "output_type": "stream",
     "text": [
      "{1, 2, 3, 4, 5, 6}\n",
      "{3, 4}\n",
      "{1, 2}\n",
      "{1, 2, 5, 6}\n"
     ]
    }
   ],
   "source": [
    "# 20. Create two sets A = {1, 2, 3, 4} and B = {3, 4, 5, 6},perform:\n",
    "# • Union\n",
    "#• Intersection\n",
    "# • Difference (A- B)\n",
    "# • Symmetric Difference\n",
    "A = {1, 2, 3, 4}\n",
    "B = {3, 4, 5, 6}\n",
    "# Union\n",
    "print(A|B)\n",
    "# Intersection\n",
    "print(A & B)\n",
    "# Difference (A- B)\n",
    "print(A - B)\n",
    "# Symmetric Difference\n",
    "print(A ^ B)\n"
   ]
  },
  {
   "cell_type": "code",
   "execution_count": 54,
   "id": "ab362598-27a6-4944-96c4-21854905d33f",
   "metadata": {},
   "outputs": [
    {
     "name": "stdout",
     "output_type": "stream",
     "text": [
      "True\n"
     ]
    }
   ],
   "source": [
    "# 21. Check if {1, 2} is a subset of {1, 2, 3, 4}\n",
    "A = {1, 2}\n",
    "B = {1, 2, 3, 4}\n",
    "print(A. issubset(B))"
   ]
  },
  {
   "cell_type": "code",
   "execution_count": 56,
   "id": "891de084-0d1d-4a42-91cb-68084a548bdc",
   "metadata": {},
   "outputs": [
    {
     "name": "stdout",
     "output_type": "stream",
     "text": [
      "True\n"
     ]
    }
   ],
   "source": [
    "#  22. Check if {1, 2, 3, 4}isasuperset of {2, 3}.\n",
    "A = {1, 2, 3, 4}\n",
    "B = {1, 2}\n",
    "print(A. issuperset(B))"
   ]
  },
  {
   "cell_type": "code",
   "execution_count": 57,
   "id": "a37685cd-3277-4729-a2f1-77df2cf9d0d1",
   "metadata": {},
   "outputs": [
    {
     "ename": "AttributeError",
     "evalue": "'frozenset' object has no attribute 'add'",
     "output_type": "error",
     "traceback": [
      "\u001b[1;31m---------------------------------------------------------------------------\u001b[0m",
      "\u001b[1;31mAttributeError\u001b[0m                            Traceback (most recent call last)",
      "Cell \u001b[1;32mIn[57], line 4\u001b[0m\n\u001b[0;32m      2\u001b[0m ele \u001b[38;5;241m=\u001b[39m [ \u001b[38;5;241m1\u001b[39m, \u001b[38;5;241m2\u001b[39m, \u001b[38;5;241m3\u001b[39m]\n\u001b[0;32m      3\u001b[0m frozen_set \u001b[38;5;241m=\u001b[39m \u001b[38;5;28mfrozenset\u001b[39m(ele)\n\u001b[1;32m----> 4\u001b[0m \u001b[43mfrozen_set\u001b[49m\u001b[38;5;241;43m.\u001b[39;49m\u001b[43madd\u001b[49m(\u001b[38;5;241m8\u001b[39m)\n",
      "\u001b[1;31mAttributeError\u001b[0m: 'frozenset' object has no attribute 'add'"
     ]
    }
   ],
   "source": [
    "# 23. Create a frozen set and try to add an element (observe error).\n",
    "ele = [ 1, 2, 3]\n",
    "frozen_set = frozenset(ele)\n",
    "frozen_set.add(8)"
   ]
  },
  {
   "cell_type": "code",
   "execution_count": 58,
   "id": "19cd3ecf-1173-4a83-a32b-404876867a7b",
   "metadata": {},
   "outputs": [
    {
     "name": "stdout",
     "output_type": "stream",
     "text": [
      "{18, 3}\n"
     ]
    }
   ],
   "source": [
    "#24. Find commonelements between two sets using intersection\n",
    "A = { 18, 3, 10, 34, 65}\n",
    "B = { 1, 86, 18, 9, 72, 3}\n",
    "print(A.intersection(B))"
   ]
  },
  {
   "cell_type": "code",
   "execution_count": 59,
   "id": "bf820310-9000-4e66-94f5-93f9d9bf6860",
   "metadata": {},
   "outputs": [
    {
     "name": "stdout",
     "output_type": "stream",
     "text": [
      "{65, 34, 3, 10, 18}\n"
     ]
    }
   ],
   "source": [
    "# 25. Find unique elements from a list using sets.\n",
    "# • Example: [1, 2, 2, 3, 4, 4, 5]→{1, 2, 3, 4, 5}\n",
    "lst = [18, 3, 10, 34, 65, 18, 3, 10, 34, 65]\n",
    "print(set(lst))\n"
   ]
  },
  {
   "cell_type": "code",
   "execution_count": 60,
   "id": "8da07de8-edcf-4ae2-9d70-9518fd209d58",
   "metadata": {},
   "outputs": [
    {
     "name": "stdout",
     "output_type": "stream",
     "text": [
      "{1, 2, 3, 4}\n"
     ]
    }
   ],
   "source": [
    "# 26. Find the union of multiple sets: Result = {1, 2, 3, 4}\n",
    "A = {1, 2}\n",
    "B = {2, 3}\n",
    "C = {3, 4}\n",
    "print(A | B | C)"
   ]
  },
  {
   "cell_type": "code",
   "execution_count": 62,
   "id": "41520f0d-557a-4f95-8a8c-f31198382a5a",
   "metadata": {},
   "outputs": [
    {
     "name": "stdout",
     "output_type": "stream",
     "text": [
      "Number of vowels: 5\n"
     ]
    }
   ],
   "source": [
    "#27. Write a program to count how many vowels are present in a \n",
    "#string using a set.\n",
    "string = \" Program to count\"\n",
    "count = 0\n",
    "for char in string.lower():\n",
    "    if char in \"aeiou\":\n",
    "        count += 1\n",
    "print(\"Number of vowels:\", count)"
   ]
  },
  {
   "cell_type": "code",
   "execution_count": 63,
   "id": "e15a2ff5-297f-4d7f-9014-39c864882a27",
   "metadata": {},
   "outputs": [
    {
     "name": "stdout",
     "output_type": "stream",
     "text": [
      "{3, 4}\n"
     ]
    }
   ],
   "source": [
    "#  28. Given two lists:  Convert them to sets and find their intersection.\n",
    "list1 = [1, 2, 3, 4]\n",
    "list2 = [3, 4, 5, 6]\n",
    "lst1 = set(list1)\n",
    "lst2 = set(list2)\n",
    "print( lst1 & lst2)"
   ]
  },
  {
   "cell_type": "code",
   "execution_count": 65,
   "id": "cbdd8486-a1d8-4a43-8903-9fd2c455392b",
   "metadata": {},
   "outputs": [
    {
     "name": "stdout",
     "output_type": "stream",
     "text": [
      "Duplicate elements: {18, 3}\n"
     ]
    }
   ],
   "source": [
    "#  29. Find duplicate elements in a list using a set.\n",
    "# Example: [1, 2, 3, 2, 4, 5, 1]→{1, 2}\n",
    "numbers = [18, 22, 3, 26, 4, 3, 18]\n",
    "seen = set()\n",
    "duplicates = set()\n",
    "for num in numbers:\n",
    "    if num in seen:\n",
    "        duplicates.add(num)\n",
    "    else:\n",
    "        seen.add(num)\n",
    "print(\"Duplicate elements:\", duplicates)"
   ]
  },
  {
   "cell_type": "code",
   "execution_count": 69,
   "id": "e8ee6565-8215-488b-8bca-78a3e753f9c8",
   "metadata": {},
   "outputs": [
    {
     "name": "stdout",
     "output_type": "stream",
     "text": [
      "{10, 18, 3}\n",
      "{65, 34}\n",
      "{86, 72, 9}\n"
     ]
    }
   ],
   "source": [
    "# 30. Write a program to remove all common elements from two sets\n",
    "A = { 18, 3, 10, 34, 65}\n",
    "B = { 10, 86, 18, 9, 72, 3}\n",
    "common = A.intersection(B)\n",
    "print(common)\n",
    "A -= common\n",
    "B -= common\n",
    "print(A)\n",
    "print(B)"
   ]
  },
  {
   "cell_type": "code",
   "execution_count": null,
   "id": "ddbfa9de-05af-45c1-9e27-0539e706462f",
   "metadata": {},
   "outputs": [],
   "source": []
  }
 ],
 "metadata": {
  "kernelspec": {
   "display_name": "Python 3 (ipykernel)",
   "language": "python",
   "name": "python3"
  },
  "language_info": {
   "codemirror_mode": {
    "name": "ipython",
    "version": 3
   },
   "file_extension": ".py",
   "mimetype": "text/x-python",
   "name": "python",
   "nbconvert_exporter": "python",
   "pygments_lexer": "ipython3",
   "version": "3.10.11"
  }
 },
 "nbformat": 4,
 "nbformat_minor": 5
}
